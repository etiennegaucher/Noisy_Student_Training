{
  "nbformat": 4,
  "nbformat_minor": 0,
  "metadata": {
    "colab": {
      "provenance": []
    },
    "kernelspec": {
      "name": "python3",
      "display_name": "Python 3"
    },
    "language_info": {
      "name": "python"
    },
    "gpuClass": "standard",
    "accelerator": "GPU",
    "widgets": {
      "application/vnd.jupyter.widget-state+json": {
        "3dfd5ea177ce40ee9f332ae7c02738d8": {
          "model_module": "@jupyter-widgets/controls",
          "model_name": "HBoxModel",
          "model_module_version": "1.5.0",
          "state": {
            "_dom_classes": [],
            "_model_module": "@jupyter-widgets/controls",
            "_model_module_version": "1.5.0",
            "_model_name": "HBoxModel",
            "_view_count": null,
            "_view_module": "@jupyter-widgets/controls",
            "_view_module_version": "1.5.0",
            "_view_name": "HBoxView",
            "box_style": "",
            "children": [
              "IPY_MODEL_3d977cc5b74d4ffbb0af9fb4ffd2208e",
              "IPY_MODEL_d16ffe278c9448f58a0b183f43ecc87a",
              "IPY_MODEL_fbd0d212c035421b936b9131a292e5be"
            ],
            "layout": "IPY_MODEL_9ae26ad8f8d841bb9d435298d8d9374f"
          }
        },
        "3d977cc5b74d4ffbb0af9fb4ffd2208e": {
          "model_module": "@jupyter-widgets/controls",
          "model_name": "HTMLModel",
          "model_module_version": "1.5.0",
          "state": {
            "_dom_classes": [],
            "_model_module": "@jupyter-widgets/controls",
            "_model_module_version": "1.5.0",
            "_model_name": "HTMLModel",
            "_view_count": null,
            "_view_module": "@jupyter-widgets/controls",
            "_view_module_version": "1.5.0",
            "_view_name": "HTMLView",
            "description": "",
            "description_tooltip": null,
            "layout": "IPY_MODEL_c82fc0b844bf454bbd5ca2d8171eac48",
            "placeholder": "​",
            "style": "IPY_MODEL_f0926c8fc8bc4ef19821a703734c2203",
            "value": "100%"
          }
        },
        "d16ffe278c9448f58a0b183f43ecc87a": {
          "model_module": "@jupyter-widgets/controls",
          "model_name": "FloatProgressModel",
          "model_module_version": "1.5.0",
          "state": {
            "_dom_classes": [],
            "_model_module": "@jupyter-widgets/controls",
            "_model_module_version": "1.5.0",
            "_model_name": "FloatProgressModel",
            "_view_count": null,
            "_view_module": "@jupyter-widgets/controls",
            "_view_module_version": "1.5.0",
            "_view_name": "ProgressView",
            "bar_style": "success",
            "description": "",
            "description_tooltip": null,
            "layout": "IPY_MODEL_be4921a3720d4acfbaf1ff64c52309cd",
            "max": 9912422,
            "min": 0,
            "orientation": "horizontal",
            "style": "IPY_MODEL_40fbc063e387431092f6bd6c10be893c",
            "value": 9912422
          }
        },
        "fbd0d212c035421b936b9131a292e5be": {
          "model_module": "@jupyter-widgets/controls",
          "model_name": "HTMLModel",
          "model_module_version": "1.5.0",
          "state": {
            "_dom_classes": [],
            "_model_module": "@jupyter-widgets/controls",
            "_model_module_version": "1.5.0",
            "_model_name": "HTMLModel",
            "_view_count": null,
            "_view_module": "@jupyter-widgets/controls",
            "_view_module_version": "1.5.0",
            "_view_name": "HTMLView",
            "description": "",
            "description_tooltip": null,
            "layout": "IPY_MODEL_cf59f5e98a0f4cc583a39a7ca3b3aabd",
            "placeholder": "​",
            "style": "IPY_MODEL_fd859acb75444e48b613e58f056da3a5",
            "value": " 9912422/9912422 [00:00&lt;00:00, 119877950.75it/s]"
          }
        },
        "9ae26ad8f8d841bb9d435298d8d9374f": {
          "model_module": "@jupyter-widgets/base",
          "model_name": "LayoutModel",
          "model_module_version": "1.2.0",
          "state": {
            "_model_module": "@jupyter-widgets/base",
            "_model_module_version": "1.2.0",
            "_model_name": "LayoutModel",
            "_view_count": null,
            "_view_module": "@jupyter-widgets/base",
            "_view_module_version": "1.2.0",
            "_view_name": "LayoutView",
            "align_content": null,
            "align_items": null,
            "align_self": null,
            "border": null,
            "bottom": null,
            "display": null,
            "flex": null,
            "flex_flow": null,
            "grid_area": null,
            "grid_auto_columns": null,
            "grid_auto_flow": null,
            "grid_auto_rows": null,
            "grid_column": null,
            "grid_gap": null,
            "grid_row": null,
            "grid_template_areas": null,
            "grid_template_columns": null,
            "grid_template_rows": null,
            "height": null,
            "justify_content": null,
            "justify_items": null,
            "left": null,
            "margin": null,
            "max_height": null,
            "max_width": null,
            "min_height": null,
            "min_width": null,
            "object_fit": null,
            "object_position": null,
            "order": null,
            "overflow": null,
            "overflow_x": null,
            "overflow_y": null,
            "padding": null,
            "right": null,
            "top": null,
            "visibility": null,
            "width": null
          }
        },
        "c82fc0b844bf454bbd5ca2d8171eac48": {
          "model_module": "@jupyter-widgets/base",
          "model_name": "LayoutModel",
          "model_module_version": "1.2.0",
          "state": {
            "_model_module": "@jupyter-widgets/base",
            "_model_module_version": "1.2.0",
            "_model_name": "LayoutModel",
            "_view_count": null,
            "_view_module": "@jupyter-widgets/base",
            "_view_module_version": "1.2.0",
            "_view_name": "LayoutView",
            "align_content": null,
            "align_items": null,
            "align_self": null,
            "border": null,
            "bottom": null,
            "display": null,
            "flex": null,
            "flex_flow": null,
            "grid_area": null,
            "grid_auto_columns": null,
            "grid_auto_flow": null,
            "grid_auto_rows": null,
            "grid_column": null,
            "grid_gap": null,
            "grid_row": null,
            "grid_template_areas": null,
            "grid_template_columns": null,
            "grid_template_rows": null,
            "height": null,
            "justify_content": null,
            "justify_items": null,
            "left": null,
            "margin": null,
            "max_height": null,
            "max_width": null,
            "min_height": null,
            "min_width": null,
            "object_fit": null,
            "object_position": null,
            "order": null,
            "overflow": null,
            "overflow_x": null,
            "overflow_y": null,
            "padding": null,
            "right": null,
            "top": null,
            "visibility": null,
            "width": null
          }
        },
        "f0926c8fc8bc4ef19821a703734c2203": {
          "model_module": "@jupyter-widgets/controls",
          "model_name": "DescriptionStyleModel",
          "model_module_version": "1.5.0",
          "state": {
            "_model_module": "@jupyter-widgets/controls",
            "_model_module_version": "1.5.0",
            "_model_name": "DescriptionStyleModel",
            "_view_count": null,
            "_view_module": "@jupyter-widgets/base",
            "_view_module_version": "1.2.0",
            "_view_name": "StyleView",
            "description_width": ""
          }
        },
        "be4921a3720d4acfbaf1ff64c52309cd": {
          "model_module": "@jupyter-widgets/base",
          "model_name": "LayoutModel",
          "model_module_version": "1.2.0",
          "state": {
            "_model_module": "@jupyter-widgets/base",
            "_model_module_version": "1.2.0",
            "_model_name": "LayoutModel",
            "_view_count": null,
            "_view_module": "@jupyter-widgets/base",
            "_view_module_version": "1.2.0",
            "_view_name": "LayoutView",
            "align_content": null,
            "align_items": null,
            "align_self": null,
            "border": null,
            "bottom": null,
            "display": null,
            "flex": null,
            "flex_flow": null,
            "grid_area": null,
            "grid_auto_columns": null,
            "grid_auto_flow": null,
            "grid_auto_rows": null,
            "grid_column": null,
            "grid_gap": null,
            "grid_row": null,
            "grid_template_areas": null,
            "grid_template_columns": null,
            "grid_template_rows": null,
            "height": null,
            "justify_content": null,
            "justify_items": null,
            "left": null,
            "margin": null,
            "max_height": null,
            "max_width": null,
            "min_height": null,
            "min_width": null,
            "object_fit": null,
            "object_position": null,
            "order": null,
            "overflow": null,
            "overflow_x": null,
            "overflow_y": null,
            "padding": null,
            "right": null,
            "top": null,
            "visibility": null,
            "width": null
          }
        },
        "40fbc063e387431092f6bd6c10be893c": {
          "model_module": "@jupyter-widgets/controls",
          "model_name": "ProgressStyleModel",
          "model_module_version": "1.5.0",
          "state": {
            "_model_module": "@jupyter-widgets/controls",
            "_model_module_version": "1.5.0",
            "_model_name": "ProgressStyleModel",
            "_view_count": null,
            "_view_module": "@jupyter-widgets/base",
            "_view_module_version": "1.2.0",
            "_view_name": "StyleView",
            "bar_color": null,
            "description_width": ""
          }
        },
        "cf59f5e98a0f4cc583a39a7ca3b3aabd": {
          "model_module": "@jupyter-widgets/base",
          "model_name": "LayoutModel",
          "model_module_version": "1.2.0",
          "state": {
            "_model_module": "@jupyter-widgets/base",
            "_model_module_version": "1.2.0",
            "_model_name": "LayoutModel",
            "_view_count": null,
            "_view_module": "@jupyter-widgets/base",
            "_view_module_version": "1.2.0",
            "_view_name": "LayoutView",
            "align_content": null,
            "align_items": null,
            "align_self": null,
            "border": null,
            "bottom": null,
            "display": null,
            "flex": null,
            "flex_flow": null,
            "grid_area": null,
            "grid_auto_columns": null,
            "grid_auto_flow": null,
            "grid_auto_rows": null,
            "grid_column": null,
            "grid_gap": null,
            "grid_row": null,
            "grid_template_areas": null,
            "grid_template_columns": null,
            "grid_template_rows": null,
            "height": null,
            "justify_content": null,
            "justify_items": null,
            "left": null,
            "margin": null,
            "max_height": null,
            "max_width": null,
            "min_height": null,
            "min_width": null,
            "object_fit": null,
            "object_position": null,
            "order": null,
            "overflow": null,
            "overflow_x": null,
            "overflow_y": null,
            "padding": null,
            "right": null,
            "top": null,
            "visibility": null,
            "width": null
          }
        },
        "fd859acb75444e48b613e58f056da3a5": {
          "model_module": "@jupyter-widgets/controls",
          "model_name": "DescriptionStyleModel",
          "model_module_version": "1.5.0",
          "state": {
            "_model_module": "@jupyter-widgets/controls",
            "_model_module_version": "1.5.0",
            "_model_name": "DescriptionStyleModel",
            "_view_count": null,
            "_view_module": "@jupyter-widgets/base",
            "_view_module_version": "1.2.0",
            "_view_name": "StyleView",
            "description_width": ""
          }
        },
        "e3e1379b5aa447afb1c17091b64a93db": {
          "model_module": "@jupyter-widgets/controls",
          "model_name": "HBoxModel",
          "model_module_version": "1.5.0",
          "state": {
            "_dom_classes": [],
            "_model_module": "@jupyter-widgets/controls",
            "_model_module_version": "1.5.0",
            "_model_name": "HBoxModel",
            "_view_count": null,
            "_view_module": "@jupyter-widgets/controls",
            "_view_module_version": "1.5.0",
            "_view_name": "HBoxView",
            "box_style": "",
            "children": [
              "IPY_MODEL_296ad2378add4ce7ae8a6a66cc701eaf",
              "IPY_MODEL_0f5fffe9efcb453495e80dbc994d1a63",
              "IPY_MODEL_85735bf612604f57a6bb15dcec74b7a7"
            ],
            "layout": "IPY_MODEL_31dcc85b5eb54f98b50a0b17def1be6c"
          }
        },
        "296ad2378add4ce7ae8a6a66cc701eaf": {
          "model_module": "@jupyter-widgets/controls",
          "model_name": "HTMLModel",
          "model_module_version": "1.5.0",
          "state": {
            "_dom_classes": [],
            "_model_module": "@jupyter-widgets/controls",
            "_model_module_version": "1.5.0",
            "_model_name": "HTMLModel",
            "_view_count": null,
            "_view_module": "@jupyter-widgets/controls",
            "_view_module_version": "1.5.0",
            "_view_name": "HTMLView",
            "description": "",
            "description_tooltip": null,
            "layout": "IPY_MODEL_b06ac2ae5bca41a3a17f30c2cbccbb83",
            "placeholder": "​",
            "style": "IPY_MODEL_ff1b3652afc24ff89331c92d95dfabc8",
            "value": "100%"
          }
        },
        "0f5fffe9efcb453495e80dbc994d1a63": {
          "model_module": "@jupyter-widgets/controls",
          "model_name": "FloatProgressModel",
          "model_module_version": "1.5.0",
          "state": {
            "_dom_classes": [],
            "_model_module": "@jupyter-widgets/controls",
            "_model_module_version": "1.5.0",
            "_model_name": "FloatProgressModel",
            "_view_count": null,
            "_view_module": "@jupyter-widgets/controls",
            "_view_module_version": "1.5.0",
            "_view_name": "ProgressView",
            "bar_style": "success",
            "description": "",
            "description_tooltip": null,
            "layout": "IPY_MODEL_33d7f6d8db944344982cc1a8987025b4",
            "max": 28881,
            "min": 0,
            "orientation": "horizontal",
            "style": "IPY_MODEL_3d0b00f317fb407c961180b8449f2010",
            "value": 28881
          }
        },
        "85735bf612604f57a6bb15dcec74b7a7": {
          "model_module": "@jupyter-widgets/controls",
          "model_name": "HTMLModel",
          "model_module_version": "1.5.0",
          "state": {
            "_dom_classes": [],
            "_model_module": "@jupyter-widgets/controls",
            "_model_module_version": "1.5.0",
            "_model_name": "HTMLModel",
            "_view_count": null,
            "_view_module": "@jupyter-widgets/controls",
            "_view_module_version": "1.5.0",
            "_view_name": "HTMLView",
            "description": "",
            "description_tooltip": null,
            "layout": "IPY_MODEL_00929aa728e94eadad4c0edcd854b985",
            "placeholder": "​",
            "style": "IPY_MODEL_6f8b6822c43745dbb45d33349514d9c6",
            "value": " 28881/28881 [00:00&lt;00:00, 1511098.42it/s]"
          }
        },
        "31dcc85b5eb54f98b50a0b17def1be6c": {
          "model_module": "@jupyter-widgets/base",
          "model_name": "LayoutModel",
          "model_module_version": "1.2.0",
          "state": {
            "_model_module": "@jupyter-widgets/base",
            "_model_module_version": "1.2.0",
            "_model_name": "LayoutModel",
            "_view_count": null,
            "_view_module": "@jupyter-widgets/base",
            "_view_module_version": "1.2.0",
            "_view_name": "LayoutView",
            "align_content": null,
            "align_items": null,
            "align_self": null,
            "border": null,
            "bottom": null,
            "display": null,
            "flex": null,
            "flex_flow": null,
            "grid_area": null,
            "grid_auto_columns": null,
            "grid_auto_flow": null,
            "grid_auto_rows": null,
            "grid_column": null,
            "grid_gap": null,
            "grid_row": null,
            "grid_template_areas": null,
            "grid_template_columns": null,
            "grid_template_rows": null,
            "height": null,
            "justify_content": null,
            "justify_items": null,
            "left": null,
            "margin": null,
            "max_height": null,
            "max_width": null,
            "min_height": null,
            "min_width": null,
            "object_fit": null,
            "object_position": null,
            "order": null,
            "overflow": null,
            "overflow_x": null,
            "overflow_y": null,
            "padding": null,
            "right": null,
            "top": null,
            "visibility": null,
            "width": null
          }
        },
        "b06ac2ae5bca41a3a17f30c2cbccbb83": {
          "model_module": "@jupyter-widgets/base",
          "model_name": "LayoutModel",
          "model_module_version": "1.2.0",
          "state": {
            "_model_module": "@jupyter-widgets/base",
            "_model_module_version": "1.2.0",
            "_model_name": "LayoutModel",
            "_view_count": null,
            "_view_module": "@jupyter-widgets/base",
            "_view_module_version": "1.2.0",
            "_view_name": "LayoutView",
            "align_content": null,
            "align_items": null,
            "align_self": null,
            "border": null,
            "bottom": null,
            "display": null,
            "flex": null,
            "flex_flow": null,
            "grid_area": null,
            "grid_auto_columns": null,
            "grid_auto_flow": null,
            "grid_auto_rows": null,
            "grid_column": null,
            "grid_gap": null,
            "grid_row": null,
            "grid_template_areas": null,
            "grid_template_columns": null,
            "grid_template_rows": null,
            "height": null,
            "justify_content": null,
            "justify_items": null,
            "left": null,
            "margin": null,
            "max_height": null,
            "max_width": null,
            "min_height": null,
            "min_width": null,
            "object_fit": null,
            "object_position": null,
            "order": null,
            "overflow": null,
            "overflow_x": null,
            "overflow_y": null,
            "padding": null,
            "right": null,
            "top": null,
            "visibility": null,
            "width": null
          }
        },
        "ff1b3652afc24ff89331c92d95dfabc8": {
          "model_module": "@jupyter-widgets/controls",
          "model_name": "DescriptionStyleModel",
          "model_module_version": "1.5.0",
          "state": {
            "_model_module": "@jupyter-widgets/controls",
            "_model_module_version": "1.5.0",
            "_model_name": "DescriptionStyleModel",
            "_view_count": null,
            "_view_module": "@jupyter-widgets/base",
            "_view_module_version": "1.2.0",
            "_view_name": "StyleView",
            "description_width": ""
          }
        },
        "33d7f6d8db944344982cc1a8987025b4": {
          "model_module": "@jupyter-widgets/base",
          "model_name": "LayoutModel",
          "model_module_version": "1.2.0",
          "state": {
            "_model_module": "@jupyter-widgets/base",
            "_model_module_version": "1.2.0",
            "_model_name": "LayoutModel",
            "_view_count": null,
            "_view_module": "@jupyter-widgets/base",
            "_view_module_version": "1.2.0",
            "_view_name": "LayoutView",
            "align_content": null,
            "align_items": null,
            "align_self": null,
            "border": null,
            "bottom": null,
            "display": null,
            "flex": null,
            "flex_flow": null,
            "grid_area": null,
            "grid_auto_columns": null,
            "grid_auto_flow": null,
            "grid_auto_rows": null,
            "grid_column": null,
            "grid_gap": null,
            "grid_row": null,
            "grid_template_areas": null,
            "grid_template_columns": null,
            "grid_template_rows": null,
            "height": null,
            "justify_content": null,
            "justify_items": null,
            "left": null,
            "margin": null,
            "max_height": null,
            "max_width": null,
            "min_height": null,
            "min_width": null,
            "object_fit": null,
            "object_position": null,
            "order": null,
            "overflow": null,
            "overflow_x": null,
            "overflow_y": null,
            "padding": null,
            "right": null,
            "top": null,
            "visibility": null,
            "width": null
          }
        },
        "3d0b00f317fb407c961180b8449f2010": {
          "model_module": "@jupyter-widgets/controls",
          "model_name": "ProgressStyleModel",
          "model_module_version": "1.5.0",
          "state": {
            "_model_module": "@jupyter-widgets/controls",
            "_model_module_version": "1.5.0",
            "_model_name": "ProgressStyleModel",
            "_view_count": null,
            "_view_module": "@jupyter-widgets/base",
            "_view_module_version": "1.2.0",
            "_view_name": "StyleView",
            "bar_color": null,
            "description_width": ""
          }
        },
        "00929aa728e94eadad4c0edcd854b985": {
          "model_module": "@jupyter-widgets/base",
          "model_name": "LayoutModel",
          "model_module_version": "1.2.0",
          "state": {
            "_model_module": "@jupyter-widgets/base",
            "_model_module_version": "1.2.0",
            "_model_name": "LayoutModel",
            "_view_count": null,
            "_view_module": "@jupyter-widgets/base",
            "_view_module_version": "1.2.0",
            "_view_name": "LayoutView",
            "align_content": null,
            "align_items": null,
            "align_self": null,
            "border": null,
            "bottom": null,
            "display": null,
            "flex": null,
            "flex_flow": null,
            "grid_area": null,
            "grid_auto_columns": null,
            "grid_auto_flow": null,
            "grid_auto_rows": null,
            "grid_column": null,
            "grid_gap": null,
            "grid_row": null,
            "grid_template_areas": null,
            "grid_template_columns": null,
            "grid_template_rows": null,
            "height": null,
            "justify_content": null,
            "justify_items": null,
            "left": null,
            "margin": null,
            "max_height": null,
            "max_width": null,
            "min_height": null,
            "min_width": null,
            "object_fit": null,
            "object_position": null,
            "order": null,
            "overflow": null,
            "overflow_x": null,
            "overflow_y": null,
            "padding": null,
            "right": null,
            "top": null,
            "visibility": null,
            "width": null
          }
        },
        "6f8b6822c43745dbb45d33349514d9c6": {
          "model_module": "@jupyter-widgets/controls",
          "model_name": "DescriptionStyleModel",
          "model_module_version": "1.5.0",
          "state": {
            "_model_module": "@jupyter-widgets/controls",
            "_model_module_version": "1.5.0",
            "_model_name": "DescriptionStyleModel",
            "_view_count": null,
            "_view_module": "@jupyter-widgets/base",
            "_view_module_version": "1.2.0",
            "_view_name": "StyleView",
            "description_width": ""
          }
        },
        "d73b8d7764da4e0db48f3eae55d055d1": {
          "model_module": "@jupyter-widgets/controls",
          "model_name": "HBoxModel",
          "model_module_version": "1.5.0",
          "state": {
            "_dom_classes": [],
            "_model_module": "@jupyter-widgets/controls",
            "_model_module_version": "1.5.0",
            "_model_name": "HBoxModel",
            "_view_count": null,
            "_view_module": "@jupyter-widgets/controls",
            "_view_module_version": "1.5.0",
            "_view_name": "HBoxView",
            "box_style": "",
            "children": [
              "IPY_MODEL_6cd0cf30e0b44d84a8a593b9b90ebe06",
              "IPY_MODEL_aaa3cafbbabe40f4ab2e39d8a678df41",
              "IPY_MODEL_f5e938c165c04bf0bc74b7fb757357d2"
            ],
            "layout": "IPY_MODEL_4e18533b422441429365e7effda6985f"
          }
        },
        "6cd0cf30e0b44d84a8a593b9b90ebe06": {
          "model_module": "@jupyter-widgets/controls",
          "model_name": "HTMLModel",
          "model_module_version": "1.5.0",
          "state": {
            "_dom_classes": [],
            "_model_module": "@jupyter-widgets/controls",
            "_model_module_version": "1.5.0",
            "_model_name": "HTMLModel",
            "_view_count": null,
            "_view_module": "@jupyter-widgets/controls",
            "_view_module_version": "1.5.0",
            "_view_name": "HTMLView",
            "description": "",
            "description_tooltip": null,
            "layout": "IPY_MODEL_d5322f5903f847b7a38ab2e5fa09c25f",
            "placeholder": "​",
            "style": "IPY_MODEL_b5896fa99e1b473da3e073bda8bea00c",
            "value": "100%"
          }
        },
        "aaa3cafbbabe40f4ab2e39d8a678df41": {
          "model_module": "@jupyter-widgets/controls",
          "model_name": "FloatProgressModel",
          "model_module_version": "1.5.0",
          "state": {
            "_dom_classes": [],
            "_model_module": "@jupyter-widgets/controls",
            "_model_module_version": "1.5.0",
            "_model_name": "FloatProgressModel",
            "_view_count": null,
            "_view_module": "@jupyter-widgets/controls",
            "_view_module_version": "1.5.0",
            "_view_name": "ProgressView",
            "bar_style": "success",
            "description": "",
            "description_tooltip": null,
            "layout": "IPY_MODEL_8f3b1b176dba4ca7b7460b7e9f8e3682",
            "max": 1648877,
            "min": 0,
            "orientation": "horizontal",
            "style": "IPY_MODEL_245f5bd2a12a4ccc94ea6024e0fc5f58",
            "value": 1648877
          }
        },
        "f5e938c165c04bf0bc74b7fb757357d2": {
          "model_module": "@jupyter-widgets/controls",
          "model_name": "HTMLModel",
          "model_module_version": "1.5.0",
          "state": {
            "_dom_classes": [],
            "_model_module": "@jupyter-widgets/controls",
            "_model_module_version": "1.5.0",
            "_model_name": "HTMLModel",
            "_view_count": null,
            "_view_module": "@jupyter-widgets/controls",
            "_view_module_version": "1.5.0",
            "_view_name": "HTMLView",
            "description": "",
            "description_tooltip": null,
            "layout": "IPY_MODEL_256a8464398d4a65ba53e9be9a24f331",
            "placeholder": "​",
            "style": "IPY_MODEL_9bb3c7d5ad6a4c1081d39d214bb51b8d",
            "value": " 1648877/1648877 [00:00&lt;00:00, 26752586.51it/s]"
          }
        },
        "4e18533b422441429365e7effda6985f": {
          "model_module": "@jupyter-widgets/base",
          "model_name": "LayoutModel",
          "model_module_version": "1.2.0",
          "state": {
            "_model_module": "@jupyter-widgets/base",
            "_model_module_version": "1.2.0",
            "_model_name": "LayoutModel",
            "_view_count": null,
            "_view_module": "@jupyter-widgets/base",
            "_view_module_version": "1.2.0",
            "_view_name": "LayoutView",
            "align_content": null,
            "align_items": null,
            "align_self": null,
            "border": null,
            "bottom": null,
            "display": null,
            "flex": null,
            "flex_flow": null,
            "grid_area": null,
            "grid_auto_columns": null,
            "grid_auto_flow": null,
            "grid_auto_rows": null,
            "grid_column": null,
            "grid_gap": null,
            "grid_row": null,
            "grid_template_areas": null,
            "grid_template_columns": null,
            "grid_template_rows": null,
            "height": null,
            "justify_content": null,
            "justify_items": null,
            "left": null,
            "margin": null,
            "max_height": null,
            "max_width": null,
            "min_height": null,
            "min_width": null,
            "object_fit": null,
            "object_position": null,
            "order": null,
            "overflow": null,
            "overflow_x": null,
            "overflow_y": null,
            "padding": null,
            "right": null,
            "top": null,
            "visibility": null,
            "width": null
          }
        },
        "d5322f5903f847b7a38ab2e5fa09c25f": {
          "model_module": "@jupyter-widgets/base",
          "model_name": "LayoutModel",
          "model_module_version": "1.2.0",
          "state": {
            "_model_module": "@jupyter-widgets/base",
            "_model_module_version": "1.2.0",
            "_model_name": "LayoutModel",
            "_view_count": null,
            "_view_module": "@jupyter-widgets/base",
            "_view_module_version": "1.2.0",
            "_view_name": "LayoutView",
            "align_content": null,
            "align_items": null,
            "align_self": null,
            "border": null,
            "bottom": null,
            "display": null,
            "flex": null,
            "flex_flow": null,
            "grid_area": null,
            "grid_auto_columns": null,
            "grid_auto_flow": null,
            "grid_auto_rows": null,
            "grid_column": null,
            "grid_gap": null,
            "grid_row": null,
            "grid_template_areas": null,
            "grid_template_columns": null,
            "grid_template_rows": null,
            "height": null,
            "justify_content": null,
            "justify_items": null,
            "left": null,
            "margin": null,
            "max_height": null,
            "max_width": null,
            "min_height": null,
            "min_width": null,
            "object_fit": null,
            "object_position": null,
            "order": null,
            "overflow": null,
            "overflow_x": null,
            "overflow_y": null,
            "padding": null,
            "right": null,
            "top": null,
            "visibility": null,
            "width": null
          }
        },
        "b5896fa99e1b473da3e073bda8bea00c": {
          "model_module": "@jupyter-widgets/controls",
          "model_name": "DescriptionStyleModel",
          "model_module_version": "1.5.0",
          "state": {
            "_model_module": "@jupyter-widgets/controls",
            "_model_module_version": "1.5.0",
            "_model_name": "DescriptionStyleModel",
            "_view_count": null,
            "_view_module": "@jupyter-widgets/base",
            "_view_module_version": "1.2.0",
            "_view_name": "StyleView",
            "description_width": ""
          }
        },
        "8f3b1b176dba4ca7b7460b7e9f8e3682": {
          "model_module": "@jupyter-widgets/base",
          "model_name": "LayoutModel",
          "model_module_version": "1.2.0",
          "state": {
            "_model_module": "@jupyter-widgets/base",
            "_model_module_version": "1.2.0",
            "_model_name": "LayoutModel",
            "_view_count": null,
            "_view_module": "@jupyter-widgets/base",
            "_view_module_version": "1.2.0",
            "_view_name": "LayoutView",
            "align_content": null,
            "align_items": null,
            "align_self": null,
            "border": null,
            "bottom": null,
            "display": null,
            "flex": null,
            "flex_flow": null,
            "grid_area": null,
            "grid_auto_columns": null,
            "grid_auto_flow": null,
            "grid_auto_rows": null,
            "grid_column": null,
            "grid_gap": null,
            "grid_row": null,
            "grid_template_areas": null,
            "grid_template_columns": null,
            "grid_template_rows": null,
            "height": null,
            "justify_content": null,
            "justify_items": null,
            "left": null,
            "margin": null,
            "max_height": null,
            "max_width": null,
            "min_height": null,
            "min_width": null,
            "object_fit": null,
            "object_position": null,
            "order": null,
            "overflow": null,
            "overflow_x": null,
            "overflow_y": null,
            "padding": null,
            "right": null,
            "top": null,
            "visibility": null,
            "width": null
          }
        },
        "245f5bd2a12a4ccc94ea6024e0fc5f58": {
          "model_module": "@jupyter-widgets/controls",
          "model_name": "ProgressStyleModel",
          "model_module_version": "1.5.0",
          "state": {
            "_model_module": "@jupyter-widgets/controls",
            "_model_module_version": "1.5.0",
            "_model_name": "ProgressStyleModel",
            "_view_count": null,
            "_view_module": "@jupyter-widgets/base",
            "_view_module_version": "1.2.0",
            "_view_name": "StyleView",
            "bar_color": null,
            "description_width": ""
          }
        },
        "256a8464398d4a65ba53e9be9a24f331": {
          "model_module": "@jupyter-widgets/base",
          "model_name": "LayoutModel",
          "model_module_version": "1.2.0",
          "state": {
            "_model_module": "@jupyter-widgets/base",
            "_model_module_version": "1.2.0",
            "_model_name": "LayoutModel",
            "_view_count": null,
            "_view_module": "@jupyter-widgets/base",
            "_view_module_version": "1.2.0",
            "_view_name": "LayoutView",
            "align_content": null,
            "align_items": null,
            "align_self": null,
            "border": null,
            "bottom": null,
            "display": null,
            "flex": null,
            "flex_flow": null,
            "grid_area": null,
            "grid_auto_columns": null,
            "grid_auto_flow": null,
            "grid_auto_rows": null,
            "grid_column": null,
            "grid_gap": null,
            "grid_row": null,
            "grid_template_areas": null,
            "grid_template_columns": null,
            "grid_template_rows": null,
            "height": null,
            "justify_content": null,
            "justify_items": null,
            "left": null,
            "margin": null,
            "max_height": null,
            "max_width": null,
            "min_height": null,
            "min_width": null,
            "object_fit": null,
            "object_position": null,
            "order": null,
            "overflow": null,
            "overflow_x": null,
            "overflow_y": null,
            "padding": null,
            "right": null,
            "top": null,
            "visibility": null,
            "width": null
          }
        },
        "9bb3c7d5ad6a4c1081d39d214bb51b8d": {
          "model_module": "@jupyter-widgets/controls",
          "model_name": "DescriptionStyleModel",
          "model_module_version": "1.5.0",
          "state": {
            "_model_module": "@jupyter-widgets/controls",
            "_model_module_version": "1.5.0",
            "_model_name": "DescriptionStyleModel",
            "_view_count": null,
            "_view_module": "@jupyter-widgets/base",
            "_view_module_version": "1.2.0",
            "_view_name": "StyleView",
            "description_width": ""
          }
        },
        "2252986fdd1b4b8a8f7f8e84d8e2c190": {
          "model_module": "@jupyter-widgets/controls",
          "model_name": "HBoxModel",
          "model_module_version": "1.5.0",
          "state": {
            "_dom_classes": [],
            "_model_module": "@jupyter-widgets/controls",
            "_model_module_version": "1.5.0",
            "_model_name": "HBoxModel",
            "_view_count": null,
            "_view_module": "@jupyter-widgets/controls",
            "_view_module_version": "1.5.0",
            "_view_name": "HBoxView",
            "box_style": "",
            "children": [
              "IPY_MODEL_530f37599a4249c5a37d542a9fa80452",
              "IPY_MODEL_92d1ac774dd54f4799adb0b084705756",
              "IPY_MODEL_d7c9c043519e4027a24e8be474023920"
            ],
            "layout": "IPY_MODEL_a8fac5be289142d0b2662a07d99b40a1"
          }
        },
        "530f37599a4249c5a37d542a9fa80452": {
          "model_module": "@jupyter-widgets/controls",
          "model_name": "HTMLModel",
          "model_module_version": "1.5.0",
          "state": {
            "_dom_classes": [],
            "_model_module": "@jupyter-widgets/controls",
            "_model_module_version": "1.5.0",
            "_model_name": "HTMLModel",
            "_view_count": null,
            "_view_module": "@jupyter-widgets/controls",
            "_view_module_version": "1.5.0",
            "_view_name": "HTMLView",
            "description": "",
            "description_tooltip": null,
            "layout": "IPY_MODEL_8f78197ce2bd4c9d8a76378d586eb87e",
            "placeholder": "​",
            "style": "IPY_MODEL_55c3261f23d64b4089674d00f9889e0b",
            "value": "100%"
          }
        },
        "92d1ac774dd54f4799adb0b084705756": {
          "model_module": "@jupyter-widgets/controls",
          "model_name": "FloatProgressModel",
          "model_module_version": "1.5.0",
          "state": {
            "_dom_classes": [],
            "_model_module": "@jupyter-widgets/controls",
            "_model_module_version": "1.5.0",
            "_model_name": "FloatProgressModel",
            "_view_count": null,
            "_view_module": "@jupyter-widgets/controls",
            "_view_module_version": "1.5.0",
            "_view_name": "ProgressView",
            "bar_style": "success",
            "description": "",
            "description_tooltip": null,
            "layout": "IPY_MODEL_15499bcef6dc4c9c938a189f147d6773",
            "max": 4542,
            "min": 0,
            "orientation": "horizontal",
            "style": "IPY_MODEL_c8dd006515af49cdb66d6d4184e4c34c",
            "value": 4542
          }
        },
        "d7c9c043519e4027a24e8be474023920": {
          "model_module": "@jupyter-widgets/controls",
          "model_name": "HTMLModel",
          "model_module_version": "1.5.0",
          "state": {
            "_dom_classes": [],
            "_model_module": "@jupyter-widgets/controls",
            "_model_module_version": "1.5.0",
            "_model_name": "HTMLModel",
            "_view_count": null,
            "_view_module": "@jupyter-widgets/controls",
            "_view_module_version": "1.5.0",
            "_view_name": "HTMLView",
            "description": "",
            "description_tooltip": null,
            "layout": "IPY_MODEL_c442b28a1e154d2ab4f7db97369522da",
            "placeholder": "​",
            "style": "IPY_MODEL_79e3a0bf8d2444d89c82eb5bafa9f618",
            "value": " 4542/4542 [00:00&lt;00:00, 401351.05it/s]"
          }
        },
        "a8fac5be289142d0b2662a07d99b40a1": {
          "model_module": "@jupyter-widgets/base",
          "model_name": "LayoutModel",
          "model_module_version": "1.2.0",
          "state": {
            "_model_module": "@jupyter-widgets/base",
            "_model_module_version": "1.2.0",
            "_model_name": "LayoutModel",
            "_view_count": null,
            "_view_module": "@jupyter-widgets/base",
            "_view_module_version": "1.2.0",
            "_view_name": "LayoutView",
            "align_content": null,
            "align_items": null,
            "align_self": null,
            "border": null,
            "bottom": null,
            "display": null,
            "flex": null,
            "flex_flow": null,
            "grid_area": null,
            "grid_auto_columns": null,
            "grid_auto_flow": null,
            "grid_auto_rows": null,
            "grid_column": null,
            "grid_gap": null,
            "grid_row": null,
            "grid_template_areas": null,
            "grid_template_columns": null,
            "grid_template_rows": null,
            "height": null,
            "justify_content": null,
            "justify_items": null,
            "left": null,
            "margin": null,
            "max_height": null,
            "max_width": null,
            "min_height": null,
            "min_width": null,
            "object_fit": null,
            "object_position": null,
            "order": null,
            "overflow": null,
            "overflow_x": null,
            "overflow_y": null,
            "padding": null,
            "right": null,
            "top": null,
            "visibility": null,
            "width": null
          }
        },
        "8f78197ce2bd4c9d8a76378d586eb87e": {
          "model_module": "@jupyter-widgets/base",
          "model_name": "LayoutModel",
          "model_module_version": "1.2.0",
          "state": {
            "_model_module": "@jupyter-widgets/base",
            "_model_module_version": "1.2.0",
            "_model_name": "LayoutModel",
            "_view_count": null,
            "_view_module": "@jupyter-widgets/base",
            "_view_module_version": "1.2.0",
            "_view_name": "LayoutView",
            "align_content": null,
            "align_items": null,
            "align_self": null,
            "border": null,
            "bottom": null,
            "display": null,
            "flex": null,
            "flex_flow": null,
            "grid_area": null,
            "grid_auto_columns": null,
            "grid_auto_flow": null,
            "grid_auto_rows": null,
            "grid_column": null,
            "grid_gap": null,
            "grid_row": null,
            "grid_template_areas": null,
            "grid_template_columns": null,
            "grid_template_rows": null,
            "height": null,
            "justify_content": null,
            "justify_items": null,
            "left": null,
            "margin": null,
            "max_height": null,
            "max_width": null,
            "min_height": null,
            "min_width": null,
            "object_fit": null,
            "object_position": null,
            "order": null,
            "overflow": null,
            "overflow_x": null,
            "overflow_y": null,
            "padding": null,
            "right": null,
            "top": null,
            "visibility": null,
            "width": null
          }
        },
        "55c3261f23d64b4089674d00f9889e0b": {
          "model_module": "@jupyter-widgets/controls",
          "model_name": "DescriptionStyleModel",
          "model_module_version": "1.5.0",
          "state": {
            "_model_module": "@jupyter-widgets/controls",
            "_model_module_version": "1.5.0",
            "_model_name": "DescriptionStyleModel",
            "_view_count": null,
            "_view_module": "@jupyter-widgets/base",
            "_view_module_version": "1.2.0",
            "_view_name": "StyleView",
            "description_width": ""
          }
        },
        "15499bcef6dc4c9c938a189f147d6773": {
          "model_module": "@jupyter-widgets/base",
          "model_name": "LayoutModel",
          "model_module_version": "1.2.0",
          "state": {
            "_model_module": "@jupyter-widgets/base",
            "_model_module_version": "1.2.0",
            "_model_name": "LayoutModel",
            "_view_count": null,
            "_view_module": "@jupyter-widgets/base",
            "_view_module_version": "1.2.0",
            "_view_name": "LayoutView",
            "align_content": null,
            "align_items": null,
            "align_self": null,
            "border": null,
            "bottom": null,
            "display": null,
            "flex": null,
            "flex_flow": null,
            "grid_area": null,
            "grid_auto_columns": null,
            "grid_auto_flow": null,
            "grid_auto_rows": null,
            "grid_column": null,
            "grid_gap": null,
            "grid_row": null,
            "grid_template_areas": null,
            "grid_template_columns": null,
            "grid_template_rows": null,
            "height": null,
            "justify_content": null,
            "justify_items": null,
            "left": null,
            "margin": null,
            "max_height": null,
            "max_width": null,
            "min_height": null,
            "min_width": null,
            "object_fit": null,
            "object_position": null,
            "order": null,
            "overflow": null,
            "overflow_x": null,
            "overflow_y": null,
            "padding": null,
            "right": null,
            "top": null,
            "visibility": null,
            "width": null
          }
        },
        "c8dd006515af49cdb66d6d4184e4c34c": {
          "model_module": "@jupyter-widgets/controls",
          "model_name": "ProgressStyleModel",
          "model_module_version": "1.5.0",
          "state": {
            "_model_module": "@jupyter-widgets/controls",
            "_model_module_version": "1.5.0",
            "_model_name": "ProgressStyleModel",
            "_view_count": null,
            "_view_module": "@jupyter-widgets/base",
            "_view_module_version": "1.2.0",
            "_view_name": "StyleView",
            "bar_color": null,
            "description_width": ""
          }
        },
        "c442b28a1e154d2ab4f7db97369522da": {
          "model_module": "@jupyter-widgets/base",
          "model_name": "LayoutModel",
          "model_module_version": "1.2.0",
          "state": {
            "_model_module": "@jupyter-widgets/base",
            "_model_module_version": "1.2.0",
            "_model_name": "LayoutModel",
            "_view_count": null,
            "_view_module": "@jupyter-widgets/base",
            "_view_module_version": "1.2.0",
            "_view_name": "LayoutView",
            "align_content": null,
            "align_items": null,
            "align_self": null,
            "border": null,
            "bottom": null,
            "display": null,
            "flex": null,
            "flex_flow": null,
            "grid_area": null,
            "grid_auto_columns": null,
            "grid_auto_flow": null,
            "grid_auto_rows": null,
            "grid_column": null,
            "grid_gap": null,
            "grid_row": null,
            "grid_template_areas": null,
            "grid_template_columns": null,
            "grid_template_rows": null,
            "height": null,
            "justify_content": null,
            "justify_items": null,
            "left": null,
            "margin": null,
            "max_height": null,
            "max_width": null,
            "min_height": null,
            "min_width": null,
            "object_fit": null,
            "object_position": null,
            "order": null,
            "overflow": null,
            "overflow_x": null,
            "overflow_y": null,
            "padding": null,
            "right": null,
            "top": null,
            "visibility": null,
            "width": null
          }
        },
        "79e3a0bf8d2444d89c82eb5bafa9f618": {
          "model_module": "@jupyter-widgets/controls",
          "model_name": "DescriptionStyleModel",
          "model_module_version": "1.5.0",
          "state": {
            "_model_module": "@jupyter-widgets/controls",
            "_model_module_version": "1.5.0",
            "_model_name": "DescriptionStyleModel",
            "_view_count": null,
            "_view_module": "@jupyter-widgets/base",
            "_view_module_version": "1.2.0",
            "_view_name": "StyleView",
            "description_width": ""
          }
        }
      }
    }
  },
  "cells": [
    {
      "cell_type": "markdown",
      "source": [
        "# **Implementation of the Noisy Student Training method on MNIST dataset**\n",
        "\n",
        "## **Etienne Gaucher**\n",
        "\n",
        "\n"
      ],
      "metadata": {
        "id": "NlZkjOuHOK5P"
      }
    },
    {
      "cell_type": "markdown",
      "source": [
        "# 1 - Importing libraries and checking GPU availability\n"
      ],
      "metadata": {
        "id": "6oNen9TyoBtb"
      }
    },
    {
      "cell_type": "code",
      "execution_count": 1,
      "metadata": {
        "id": "iJ9WySuftfoB"
      },
      "outputs": [],
      "source": [
        "# Import libraries\n",
        "import torch\n",
        "import numpy as np\n",
        "from tqdm import tqdm\n",
        "import torch.nn as nn\n",
        "import torch.optim as optim\n",
        "import torch.nn.functional as F\n",
        "from collections import Counter\n",
        "import matplotlib.pyplot as plt\n",
        "from torchvision import datasets\n",
        "import torchvision.transforms as transforms\n",
        "from sklearn.model_selection import train_test_split"
      ]
    },
    {
      "cell_type": "code",
      "metadata": {
        "colab": {
          "base_uri": "https://localhost:8080/"
        },
        "id": "NXykerxSW3ks",
        "outputId": "50f11391-8d2c-48dc-9c6b-7af67c73faad"
      },
      "source": [
        "# Check GPU availability\n",
        "device = \"cuda:0\" if torch.cuda.is_available() else \"cpu\"\n",
        "print(f\"Using {device} device\")"
      ],
      "execution_count": 2,
      "outputs": [
        {
          "output_type": "stream",
          "name": "stdout",
          "text": [
            "Using cuda:0 device\n"
          ]
        }
      ]
    },
    {
      "cell_type": "markdown",
      "source": [
        "# 2 - Loading MNIST dataset"
      ],
      "metadata": {
        "id": "ez2rVEM8ofvY"
      }
    },
    {
      "cell_type": "code",
      "source": [
        "# Normalize images in the range [-1, 1]\n",
        "transform = transforms.Compose([transforms.ToTensor(),\n",
        "                                transforms.Normalize((0.5,),(0.5,))])\n",
        "\n",
        "# Load MNIST training dataset\n",
        "training_data = datasets.MNIST(\n",
        "    root=\"./data\",\n",
        "    train=True,\n",
        "    download=True,\n",
        "    transform=transform\n",
        ")\n",
        "\n",
        "# Load MNIST test dataset\n",
        "test_data = datasets.MNIST(\n",
        "    root=\"./data\",\n",
        "    train=False,\n",
        "    download=True,\n",
        "    transform=transform\n",
        ")"
      ],
      "metadata": {
        "id": "NT97oYJ2ohFc",
        "colab": {
          "base_uri": "https://localhost:8080/",
          "height": 429,
          "referenced_widgets": [
            "3dfd5ea177ce40ee9f332ae7c02738d8",
            "3d977cc5b74d4ffbb0af9fb4ffd2208e",
            "d16ffe278c9448f58a0b183f43ecc87a",
            "fbd0d212c035421b936b9131a292e5be",
            "9ae26ad8f8d841bb9d435298d8d9374f",
            "c82fc0b844bf454bbd5ca2d8171eac48",
            "f0926c8fc8bc4ef19821a703734c2203",
            "be4921a3720d4acfbaf1ff64c52309cd",
            "40fbc063e387431092f6bd6c10be893c",
            "cf59f5e98a0f4cc583a39a7ca3b3aabd",
            "fd859acb75444e48b613e58f056da3a5",
            "e3e1379b5aa447afb1c17091b64a93db",
            "296ad2378add4ce7ae8a6a66cc701eaf",
            "0f5fffe9efcb453495e80dbc994d1a63",
            "85735bf612604f57a6bb15dcec74b7a7",
            "31dcc85b5eb54f98b50a0b17def1be6c",
            "b06ac2ae5bca41a3a17f30c2cbccbb83",
            "ff1b3652afc24ff89331c92d95dfabc8",
            "33d7f6d8db944344982cc1a8987025b4",
            "3d0b00f317fb407c961180b8449f2010",
            "00929aa728e94eadad4c0edcd854b985",
            "6f8b6822c43745dbb45d33349514d9c6",
            "d73b8d7764da4e0db48f3eae55d055d1",
            "6cd0cf30e0b44d84a8a593b9b90ebe06",
            "aaa3cafbbabe40f4ab2e39d8a678df41",
            "f5e938c165c04bf0bc74b7fb757357d2",
            "4e18533b422441429365e7effda6985f",
            "d5322f5903f847b7a38ab2e5fa09c25f",
            "b5896fa99e1b473da3e073bda8bea00c",
            "8f3b1b176dba4ca7b7460b7e9f8e3682",
            "245f5bd2a12a4ccc94ea6024e0fc5f58",
            "256a8464398d4a65ba53e9be9a24f331",
            "9bb3c7d5ad6a4c1081d39d214bb51b8d",
            "2252986fdd1b4b8a8f7f8e84d8e2c190",
            "530f37599a4249c5a37d542a9fa80452",
            "92d1ac774dd54f4799adb0b084705756",
            "d7c9c043519e4027a24e8be474023920",
            "a8fac5be289142d0b2662a07d99b40a1",
            "8f78197ce2bd4c9d8a76378d586eb87e",
            "55c3261f23d64b4089674d00f9889e0b",
            "15499bcef6dc4c9c938a189f147d6773",
            "c8dd006515af49cdb66d6d4184e4c34c",
            "c442b28a1e154d2ab4f7db97369522da",
            "79e3a0bf8d2444d89c82eb5bafa9f618"
          ]
        },
        "outputId": "bbf17a60-445f-4ae6-bc12-412a11fdc094"
      },
      "execution_count": 3,
      "outputs": [
        {
          "output_type": "stream",
          "name": "stdout",
          "text": [
            "Downloading http://yann.lecun.com/exdb/mnist/train-images-idx3-ubyte.gz\n",
            "Downloading http://yann.lecun.com/exdb/mnist/train-images-idx3-ubyte.gz to ./data/MNIST/raw/train-images-idx3-ubyte.gz\n"
          ]
        },
        {
          "output_type": "display_data",
          "data": {
            "text/plain": [
              "  0%|          | 0/9912422 [00:00<?, ?it/s]"
            ],
            "application/vnd.jupyter.widget-view+json": {
              "version_major": 2,
              "version_minor": 0,
              "model_id": "3dfd5ea177ce40ee9f332ae7c02738d8"
            }
          },
          "metadata": {}
        },
        {
          "output_type": "stream",
          "name": "stdout",
          "text": [
            "Extracting ./data/MNIST/raw/train-images-idx3-ubyte.gz to ./data/MNIST/raw\n",
            "\n",
            "Downloading http://yann.lecun.com/exdb/mnist/train-labels-idx1-ubyte.gz\n",
            "Downloading http://yann.lecun.com/exdb/mnist/train-labels-idx1-ubyte.gz to ./data/MNIST/raw/train-labels-idx1-ubyte.gz\n"
          ]
        },
        {
          "output_type": "display_data",
          "data": {
            "text/plain": [
              "  0%|          | 0/28881 [00:00<?, ?it/s]"
            ],
            "application/vnd.jupyter.widget-view+json": {
              "version_major": 2,
              "version_minor": 0,
              "model_id": "e3e1379b5aa447afb1c17091b64a93db"
            }
          },
          "metadata": {}
        },
        {
          "output_type": "stream",
          "name": "stdout",
          "text": [
            "Extracting ./data/MNIST/raw/train-labels-idx1-ubyte.gz to ./data/MNIST/raw\n",
            "\n",
            "Downloading http://yann.lecun.com/exdb/mnist/t10k-images-idx3-ubyte.gz\n",
            "Downloading http://yann.lecun.com/exdb/mnist/t10k-images-idx3-ubyte.gz to ./data/MNIST/raw/t10k-images-idx3-ubyte.gz\n"
          ]
        },
        {
          "output_type": "display_data",
          "data": {
            "text/plain": [
              "  0%|          | 0/1648877 [00:00<?, ?it/s]"
            ],
            "application/vnd.jupyter.widget-view+json": {
              "version_major": 2,
              "version_minor": 0,
              "model_id": "d73b8d7764da4e0db48f3eae55d055d1"
            }
          },
          "metadata": {}
        },
        {
          "output_type": "stream",
          "name": "stdout",
          "text": [
            "Extracting ./data/MNIST/raw/t10k-images-idx3-ubyte.gz to ./data/MNIST/raw\n",
            "\n",
            "Downloading http://yann.lecun.com/exdb/mnist/t10k-labels-idx1-ubyte.gz\n",
            "Downloading http://yann.lecun.com/exdb/mnist/t10k-labels-idx1-ubyte.gz to ./data/MNIST/raw/t10k-labels-idx1-ubyte.gz\n"
          ]
        },
        {
          "output_type": "display_data",
          "data": {
            "text/plain": [
              "  0%|          | 0/4542 [00:00<?, ?it/s]"
            ],
            "application/vnd.jupyter.widget-view+json": {
              "version_major": 2,
              "version_minor": 0,
              "model_id": "2252986fdd1b4b8a8f7f8e84d8e2c190"
            }
          },
          "metadata": {}
        },
        {
          "output_type": "stream",
          "name": "stdout",
          "text": [
            "Extracting ./data/MNIST/raw/t10k-labels-idx1-ubyte.gz to ./data/MNIST/raw\n",
            "\n"
          ]
        }
      ]
    },
    {
      "cell_type": "code",
      "source": [
        "# training_data = 60 000 images of 28 x 28 pixels\n",
        "print(\"training_data shape:\", training_data.data.shape, \"\\n\")\n",
        "\n",
        "# test_data = 10 000 images of 28 x 28 pixels\n",
        "print(\"test_data shape:\", test_data.data.shape)"
      ],
      "metadata": {
        "id": "KzQQ2xc9slrZ",
        "colab": {
          "base_uri": "https://localhost:8080/"
        },
        "outputId": "f54b2330-4caf-407b-a089-1f4761ee01f0"
      },
      "execution_count": 4,
      "outputs": [
        {
          "output_type": "stream",
          "name": "stdout",
          "text": [
            "training_data shape: torch.Size([60000, 28, 28]) \n",
            "\n",
            "test_data shape: torch.Size([10000, 28, 28])\n"
          ]
        }
      ]
    },
    {
      "cell_type": "code",
      "source": [
        "# Number of images per class and proportion\n",
        "counter = sorted(Counter(training_data.targets.tolist()).items())\n",
        "print(\"Number of images per class:\", counter, \"\\n\")\n",
        "print(\"Proportion per class:\", [(x, round(y/len(training_data), 3)) for (x,y) in counter])"
      ],
      "metadata": {
        "id": "hVlDpdEBtv4h",
        "colab": {
          "base_uri": "https://localhost:8080/"
        },
        "outputId": "6714cd77-3458-42d7-b693-0076992cf8c5"
      },
      "execution_count": 5,
      "outputs": [
        {
          "output_type": "stream",
          "name": "stdout",
          "text": [
            "Number of images per class: [(0, 5923), (1, 6742), (2, 5958), (3, 6131), (4, 5842), (5, 5421), (6, 5918), (7, 6265), (8, 5851), (9, 5949)] \n",
            "\n",
            "Proportion per class: [(0, 0.099), (1, 0.112), (2, 0.099), (3, 0.102), (4, 0.097), (5, 0.09), (6, 0.099), (7, 0.104), (8, 0.098), (9, 0.099)]\n"
          ]
        }
      ]
    },
    {
      "cell_type": "code",
      "source": [
        "# One sample for every class\n",
        "figure = plt.figure(figsize=(10, 10))\n",
        "idx = [1, 3, 5, 7, 2, 0, 13, 15, 17, 4]\n",
        "for i in range(1, 11):\n",
        "    sample_idx = idx[i-1]\n",
        "    img, label = training_data[sample_idx]\n",
        "    figure.add_subplot(2, 5, i)\n",
        "    plt.title(label)\n",
        "    plt.axis(\"off\")\n",
        "    plt.imshow(img.squeeze(), cmap=\"gray\")\n",
        "plt.show()"
      ],
      "metadata": {
        "id": "EeMqh3AptixR",
        "colab": {
          "base_uri": "https://localhost:8080/",
          "height": 440
        },
        "outputId": "47dd33f9-88cc-4828-94cf-71f1da33b057"
      },
      "execution_count": 6,
      "outputs": [
        {
          "output_type": "display_data",
          "data": {
            "text/plain": [
              "<Figure size 720x720 with 10 Axes>"
            ],
            "image/png": "[encoded data removed]"
          },
          "metadata": {
            "needs_background": "light"
          }
        }
      ]
    },
    {
      "cell_type": "markdown",
      "source": [
        "# 3 - Datasets building"
      ],
      "metadata": {
        "id": "qYdtEgpIoPRF"
      }
    },
    {
      "cell_type": "markdown",
      "source": [
        "### Splitting training_data into trainset (training dataset) and valset (validation dataset)"
      ],
      "metadata": {
        "id": "9IVF_DjmoesM"
      }
    },
    {
      "cell_type": "code",
      "source": [
        "random_state = 42\n",
        "\n",
        "# Generate random indices for training and validation datasets\n",
        "train_indices, val_indices = train_test_split(list(range(len(training_data.targets))), test_size=10000, stratify=training_data.targets, random_state=random_state)\n",
        "\n",
        "# Validation dataset = subset of training_data at val_indices\n",
        "valset = torch.utils.data.Subset(training_data, val_indices)\n",
        "\n",
        "# Training dataset = subset of training_data at train_indices\n",
        "trainset = torch.utils.data.Subset(training_data, train_indices)"
      ],
      "metadata": {
        "id": "cWlwpEI-uaHk"
      },
      "execution_count": 40,
      "outputs": []
    },
    {
      "cell_type": "code",
      "source": [
        "# Check of the split\n",
        "print(\"valset size:\", len(valset), \"\\n\")\n",
        "valset_label = [valset[i][1] for i in range(len(valset))]\n",
        "valset_counter = sorted(Counter(valset_label).items())\n",
        "print(\"Number of images per class in valset:\", valset_counter)"
      ],
      "metadata": {
        "colab": {
          "base_uri": "https://localhost:8080/"
        },
        "id": "dRAw5s85uGvt",
        "outputId": "aee46378-ce71-4c04-c4e8-167a985de668"
      },
      "execution_count": 25,
      "outputs": [
        {
          "output_type": "stream",
          "name": "stdout",
          "text": [
            "valset size: 10000 \n",
            "\n",
            "Number of images per class in valset: [(0, 987), (1, 1124), (2, 993), (3, 1022), (4, 974), (5, 903), (6, 986), (7, 1044), (8, 975), (9, 992)]\n"
          ]
        }
      ]
    },
    {
      "cell_type": "markdown",
      "source": [
        "### Splitting trainset into labelset (labeled dataset) and unlabelset (unlabeled dataset)"
      ],
      "metadata": {
        "id": "iqE6JDEl02av"
      }
    },
    {
      "cell_type": "code",
      "source": [
        "# Generate random indices for labeled and unlabeled datasets\n",
        "unlabel_indices, label_indices = train_test_split(train_indices, test_size=100, stratify=training_data.targets[train_indices], random_state=random_state)\n",
        "\n",
        "# Unlabeled dataset = subset of training_data at unlabel_indices\n",
        "unlabelset = torch.utils.data.Subset(training_data, unlabel_indices)\n",
        "\n",
        "# Labeled dataset = subset of training_data at label_indices\n",
        "labelset = torch.utils.data.Subset(training_data, label_indices)"
      ],
      "metadata": {
        "id": "1kqnDbHjwxzP"
      },
      "execution_count": 41,
      "outputs": []
    },
    {
      "cell_type": "code",
      "source": [
        "# Check of the split\n",
        "print(\"labelset size:\", len(labelset), \"\\n\")\n",
        "labelset_label = [labelset[i][1] for i in range(len(labelset))]\n",
        "labelset_counter = sorted(Counter(labelset_label).items())\n",
        "print(\"Number of images per class in labelset:\", labelset_counter, \"\\n\")\n",
        "\n",
        "print(\"unlabelset size: \", len(unlabelset), \"\\n\")\n",
        "unlabelset_label = [unlabelset[i][1] for i in range(len(unlabelset))]\n",
        "unlabelset_counter = sorted(Counter(unlabelset_label).items())\n",
        "print(\"Number of images per class in unlabelset:\", unlabelset_counter)"
      ],
      "metadata": {
        "colab": {
          "base_uri": "https://localhost:8080/"
        },
        "id": "nSuS00dZyEG7",
        "outputId": "ed667cac-637b-45b2-a903-1e3c7a15eba9"
      },
      "execution_count": 10,
      "outputs": [
        {
          "output_type": "stream",
          "name": "stdout",
          "text": [
            "labelset size: 100 \n",
            "\n",
            "Number of images per class in labelset: [(0, 10), (1, 11), (2, 10), (3, 10), (4, 10), (5, 9), (6, 10), (7, 10), (8, 10), (9, 10)] \n",
            "\n",
            "unlabelset size:  49900 \n",
            "\n",
            "Number of images per class in unlabelset: [(0, 4926), (1, 5607), (2, 4955), (3, 5099), (4, 4858), (5, 4509), (6, 4922), (7, 5211), (8, 4866), (9, 4947)]\n"
          ]
        }
      ]
    },
    {
      "cell_type": "markdown",
      "source": [
        "### Creating dataloaders"
      ],
      "metadata": {
        "id": "a3FDBiHk9hm7"
      }
    },
    {
      "cell_type": "code",
      "source": [
        "# Dataloader of the labeled dataset\n",
        "labelloader = torch.utils.data.DataLoader(labelset, batch_size=1,\n",
        "                                          shuffle=False, num_workers=2)\n",
        "\n",
        "# Dataloader of the unlabeled dataset\n",
        "unlabelloader = torch.utils.data.DataLoader(unlabelset, batch_size=64,\n",
        "                                            shuffle=False, num_workers=2)\n",
        "\n",
        "# Dataloader of the validation dataset\n",
        "valloader = torch.utils.data.DataLoader(valset, batch_size=64,\n",
        "                                        shuffle=False, num_workers=2)\n",
        "\n",
        "# Dataloader of the training dataset\n",
        "trainloader = torch.utils.data.DataLoader(trainset, batch_size=64,\n",
        "                                          shuffle=False, num_workers=2)\n",
        "\n",
        "# Dataloader of the test dataset\n",
        "testloader = torch.utils.data.DataLoader(test_data, batch_size=64,\n",
        "                                         shuffle=False, num_workers=2)"
      ],
      "metadata": {
        "id": "ZsXUwGLl9mXA"
      },
      "execution_count": 42,
      "outputs": []
    },
    {
      "cell_type": "markdown",
      "source": [
        "# 4 - Implementation of the neural networks"
      ],
      "metadata": {
        "id": "SZbu_uJQ_qGN"
      }
    },
    {
      "cell_type": "markdown",
      "source": [
        "### Implementation of the teacher model (unnoised neural network)"
      ],
      "metadata": {
        "id": "Z-_c-k8FBhvs"
      }
    },
    {
      "cell_type": "code",
      "source": [
        "class Teacher(nn.Module):\n",
        "    def __init__(self):\n",
        "        super().__init__()\n",
        "        self.conv1 = nn.Conv2d(in_channels=1, out_channels=32, kernel_size=3, padding=\"same\")\n",
        "        self.conv2 = nn.Conv2d(in_channels=32, out_channels=32, kernel_size=3, padding=\"same\")\n",
        "        self.pool = nn.MaxPool2d(kernel_size=2)\n",
        "        self.fc1 = nn.Linear(in_features=32 * 14 * 14, out_features=512)\n",
        "        self.fc2 = nn.Linear(in_features=512, out_features=10)\n",
        "\n",
        "    def forward(self, x):\n",
        "        x = F.relu(self.conv1(x))\n",
        "        x = self.pool(F.relu(self.conv2(x)))\n",
        "        x = torch.flatten(x, 1)\n",
        "        x = F.relu(self.fc1(x))\n",
        "        x = self.fc2(x)\n",
        "        return x\n",
        "\n",
        "teacher = Teacher().to(device)"
      ],
      "metadata": {
        "id": "mcB6lejz_xJl"
      },
      "execution_count": 43,
      "outputs": []
    },
    {
      "cell_type": "markdown",
      "source": [
        "### Implementation of the student model (noised with dropout)"
      ],
      "metadata": {
        "id": "0oKdJ2HBOhIg"
      }
    },
    {
      "cell_type": "code",
      "source": [
        "class Student(nn.Module):\n",
        "    def __init__(self):\n",
        "        super().__init__()\n",
        "        self.conv1 = nn.Conv2d(in_channels=1, out_channels=32, kernel_size=3, padding=\"same\")\n",
        "        self.conv2 = nn.Conv2d(in_channels=32, out_channels=32, kernel_size=3, padding=\"same\")\n",
        "        self.pool = nn.MaxPool2d(kernel_size=2)\n",
        "        self.dp = nn.Dropout(p=0.5)\n",
        "        self.fc1 = nn.Linear(in_features=32 * 14 * 14, out_features=512)\n",
        "        self.fc2 = nn.Linear(in_features=512, out_features=10)\n",
        "\n",
        "    def forward(self, x):\n",
        "        x = F.relu(self.conv1(x))\n",
        "        x = self.pool(F.relu(self.conv2(x)))\n",
        "        x = torch.flatten(x, 1)\n",
        "        x = self.dp(F.relu(self.fc1(x)))\n",
        "        x = self.fc2(x)\n",
        "        return x\n",
        "\n",
        "student = Student().to(device)"
      ],
      "metadata": {
        "id": "LyfmJ3qFOjVl"
      },
      "execution_count": 44,
      "outputs": []
    },
    {
      "cell_type": "markdown",
      "source": [
        "### Set the last-layer activation, loss function, optimizer and metric"
      ],
      "metadata": {
        "id": "I_szEmr_Bs3i"
      }
    },
    {
      "cell_type": "code",
      "source": [
        "# Last-layer activation = softmax activation\n",
        "output_fn = torch.nn.Softmax(dim=1)\n",
        "\n",
        "# Loss function = cross entropy loss\n",
        "criterion = nn.CrossEntropyLoss()\n",
        "\n",
        "# Optimizer = Adam optimization\n",
        "optimizer = optim.Adam(teacher.parameters(), lr=0.001)\n",
        "\n",
        "# Metric = accuracy\n",
        "def get_accuracy(y_true, y_pred):\n",
        "    return int(np.sum(np.equal(y_true, y_pred))) / y_true.shape[0]"
      ],
      "metadata": {
        "id": "WfQcB50fBgp6"
      },
      "execution_count": 45,
      "outputs": []
    },
    {
      "cell_type": "markdown",
      "source": [
        "# 5 - Early stopping implementation\n"
      ],
      "metadata": {
        "id": "NOBvHtDIGHZe"
      }
    },
    {
      "cell_type": "code",
      "source": [
        "### EARLY STOPPING PARAMETERS\n",
        "# Number of epochs with no improvement of the validation loss after which training will be stopped\n",
        "patience = 5\n",
        "# Minimum change in the validation loss to qualify as an improvement\n",
        "delta = 0\n",
        "# Initialize number of epochs with no improvement \n",
        "epoch_no_improve = 0\n",
        "# Initialize minimum validation loss\n",
        "min_val_loss = 10\n",
        "\n",
        "# Maximum number of epochs to train the model\n",
        "epochs = 25\n",
        "\n",
        "\n",
        "# Initialize lists monitoring validation loss and validation accuracy for every epoch\n",
        "loss_valid, acc_valid = [], []\n",
        "# Initialize lists monitoring training loss and training accuracy for every epoch \n",
        "loss_train, acc_train = [], []\n",
        "\n",
        "\n",
        "for epoch in tqdm(range(epochs)):\n",
        "\n",
        "  ### TRAINING\n",
        "  teacher.train()\n",
        "  for idx, batch in enumerate(labelloader):\n",
        "\n",
        "    # Get inputs and labels of the batch\n",
        "    inputs, labels = batch\n",
        "    inputs = inputs.to(device)\n",
        "    labels = labels.to(device)\n",
        "\n",
        "    # Set gradients to zero\n",
        "    optimizer.zero_grad()\n",
        "\n",
        "    # Forward\n",
        "    out = teacher(x=inputs)\n",
        "    loss = criterion(out, labels)\n",
        "\n",
        "    # Backward\n",
        "    loss.backward()\n",
        "\n",
        "    # Optimization step\n",
        "    optimizer.step()\n",
        "\n",
        "\n",
        "\t### COMPUTE VALIDATION LOSS AND VALIDATION ACCURACY\n",
        "  teacher.eval()\n",
        "  with torch.no_grad():\n",
        "    idx = 0\n",
        "    for batch in valloader:\n",
        "\n",
        "      # Get inputs and labels of the batch\n",
        "      inputs, labels = batch\n",
        "      inputs = inputs.to(device)\n",
        "      labels = labels.to(device)\n",
        "\n",
        "      if idx==0:\n",
        "        # Get outputs of the model\n",
        "        t_out = teacher(x=inputs)\n",
        "        # Compute batch loss\n",
        "        t_loss = criterion(t_out, labels).view(1).item()\n",
        "        # Class predictions\n",
        "        t_out = output_fn(t_out).detach().cpu().numpy()\n",
        "        t_out = t_out.argmax(axis=1)\n",
        "        # Labels                \n",
        "        ground_truth = labels.detach().cpu().numpy()\n",
        "      \n",
        "      else:\n",
        "        # Get outputs of the model\n",
        "        out = teacher(x=inputs)\n",
        "        # Compute and add batch loss\n",
        "        t_loss = np.hstack((t_loss, criterion(out, labels).item()))\n",
        "        # Add class predictions\n",
        "        t_out = np.hstack((t_out, output_fn(out).argmax(axis=1).detach().cpu().numpy()))\n",
        "        # Add labels\n",
        "        ground_truth = np.hstack((ground_truth, labels.detach().cpu().numpy()))\n",
        "\n",
        "      idx+=1\n",
        "\n",
        "    # Add validation accuracy to acc_valid\n",
        "    acc_valid.append(get_accuracy(ground_truth, t_out))\n",
        "    # Add validation loss to loss_valid\n",
        "    loss_valid.append(np.mean(t_loss))\n",
        "    \n",
        "\n",
        "    ### EARLY STOPPING IMPLEMENTATION\n",
        "    # Check if validation loss has improved\n",
        "    if np.mean(t_loss) < (min_val_loss - delta):\n",
        "      epoch_no_improve = 0\n",
        "      # Set new minimum validation loss\n",
        "      min_val_loss = np.mean(t_loss)\n",
        "      # Save model\n",
        "      torch.save(teacher.state_dict(), 'net.pth')\n",
        "      print('\\nSaving model... \\n')\n",
        "    \n",
        "    else:\n",
        "      epoch_no_improve += 1\n",
        "\n",
        "\n",
        "  ### COMPUTE TRAINING LOSS AND TRAINING ACCURACY\n",
        "  with torch.no_grad():\n",
        "    idx = 0\n",
        "    for batch in labelloader:\n",
        "\n",
        "      # Get inputs and labels of the batch\n",
        "      inputs, labels = batch\n",
        "      inputs = inputs.to(device)\n",
        "      labels = labels.to(device)\n",
        "\n",
        "      if idx==0:\n",
        "        # Get outputs of the model\n",
        "        t_out = teacher(x=inputs)\n",
        "        # Compute batch loss\n",
        "        t_loss = criterion(t_out, labels).view(1).item()\n",
        "        # Class predictions\n",
        "        t_out = output_fn(t_out).detach().cpu().numpy()\n",
        "        t_out = t_out.argmax(axis=1)\n",
        "        # Labels\n",
        "        ground_truth = labels.detach().cpu().numpy()\n",
        "\n",
        "      else:\n",
        "        # Get outputs of the model\n",
        "        out = teacher(x=inputs)\n",
        "        # Compute and add batch loss\n",
        "        t_loss = np.hstack((t_loss, criterion(out, labels).item()))\n",
        "        # Add class predictions\n",
        "        t_out = np.hstack((t_out, output_fn(out).argmax(axis=1).detach().cpu().numpy()))\n",
        "        # Add labels\n",
        "        ground_truth = np.hstack((ground_truth, labels.detach().cpu().numpy()))\n",
        "        \n",
        "      idx+=1\n",
        "\n",
        "    # Add training accuracy to acc_train\n",
        "    acc_train.append(get_accuracy(ground_truth, t_out))\n",
        "    # Add training loss to loss_train\n",
        "    loss_train.append(np.mean(t_loss))\n",
        "    \n",
        "\n",
        "  print('| Epoch: {}/{} | Train: Loss {:.4f} Accuracy : {:.4f} '\\\n",
        "      '| Val: Loss {:.4f} Accuracy : {:.4f}\\n'.format(epoch+1, epochs, loss_train[epoch], acc_train[epoch], loss_valid[epoch], acc_valid[epoch]))\n",
        "\n",
        "\n",
        "  ### STOP TRAINING CONDITION\n",
        "  if epoch_no_improve == patience:\n",
        "    break"
      ],
      "metadata": {
        "id": "fZ6o0AWSb1qE",
        "colab": {
          "base_uri": "https://localhost:8080/"
        },
        "outputId": "24ea4239-e9ee-4c2e-aff3-27c4ecc6c8b2"
      },
      "execution_count": 15,
      "outputs": [
        {
          "output_type": "stream",
          "name": "stderr",
          "text": [
            "\r  0%|          | 0/25 [00:00<?, ?it/s]"
          ]
        },
        {
          "output_type": "stream",
          "name": "stdout",
          "text": [
            "\n",
            "Saving model... \n",
            "\n"
          ]
        },
        {
          "output_type": "stream",
          "name": "stderr",
          "text": [
            "\r  4%|▍         | 1/25 [00:10<04:02, 10.09s/it]"
          ]
        },
        {
          "output_type": "stream",
          "name": "stdout",
          "text": [
            "| Epoch: 1/25 | Train: Loss 1.1135 Accuracy : 0.6700 | Val: Loss 1.4394 Accuracy : 0.5603\n",
            "\n",
            "\n",
            "Saving model... \n",
            "\n"
          ]
        },
        {
          "output_type": "stream",
          "name": "stderr",
          "text": [
            "\r  8%|▊         | 2/25 [00:12<02:13,  5.79s/it]"
          ]
        },
        {
          "output_type": "stream",
          "name": "stdout",
          "text": [
            "| Epoch: 2/25 | Train: Loss 0.3218 Accuracy : 0.8800 | Val: Loss 1.0522 Accuracy : 0.7011\n",
            "\n",
            "\n",
            "Saving model... \n",
            "\n"
          ]
        },
        {
          "output_type": "stream",
          "name": "stderr",
          "text": [
            "\r 12%|█▏        | 3/25 [00:15<01:37,  4.45s/it]"
          ]
        },
        {
          "output_type": "stream",
          "name": "stdout",
          "text": [
            "| Epoch: 3/25 | Train: Loss 0.1659 Accuracy : 0.9400 | Val: Loss 0.9133 Accuracy : 0.7415\n",
            "\n",
            "\n",
            "Saving model... \n",
            "\n"
          ]
        },
        {
          "output_type": "stream",
          "name": "stderr",
          "text": [
            "\r 16%|█▌        | 4/25 [00:18<01:19,  3.79s/it]"
          ]
        },
        {
          "output_type": "stream",
          "name": "stdout",
          "text": [
            "| Epoch: 4/25 | Train: Loss 0.0488 Accuracy : 0.9900 | Val: Loss 0.8516 Accuracy : 0.7772\n",
            "\n"
          ]
        },
        {
          "output_type": "stream",
          "name": "stderr",
          "text": [
            "\r 20%|██        | 5/25 [00:21<01:12,  3.63s/it]"
          ]
        },
        {
          "output_type": "stream",
          "name": "stdout",
          "text": [
            "| Epoch: 5/25 | Train: Loss 0.0715 Accuracy : 0.9800 | Val: Loss 0.8881 Accuracy : 0.7600\n",
            "\n"
          ]
        },
        {
          "output_type": "stream",
          "name": "stderr",
          "text": [
            "\r 24%|██▍       | 6/25 [00:24<01:03,  3.32s/it]"
          ]
        },
        {
          "output_type": "stream",
          "name": "stdout",
          "text": [
            "| Epoch: 6/25 | Train: Loss 0.0794 Accuracy : 0.9800 | Val: Loss 1.3455 Accuracy : 0.7352\n",
            "\n"
          ]
        },
        {
          "output_type": "stream",
          "name": "stderr",
          "text": [
            "\r 28%|██▊       | 7/25 [00:27<00:56,  3.15s/it]"
          ]
        },
        {
          "output_type": "stream",
          "name": "stdout",
          "text": [
            "| Epoch: 7/25 | Train: Loss 0.0077 Accuracy : 1.0000 | Val: Loss 1.1076 Accuracy : 0.7659\n",
            "\n"
          ]
        },
        {
          "output_type": "stream",
          "name": "stderr",
          "text": [
            "\r 32%|███▏      | 8/25 [00:30<00:51,  3.01s/it]"
          ]
        },
        {
          "output_type": "stream",
          "name": "stdout",
          "text": [
            "| Epoch: 8/25 | Train: Loss 0.0105 Accuracy : 1.0000 | Val: Loss 1.2023 Accuracy : 0.7529\n",
            "\n"
          ]
        },
        {
          "output_type": "stream",
          "name": "stderr",
          "text": [
            "\r 32%|███▏      | 8/25 [00:33<01:11,  4.22s/it]"
          ]
        },
        {
          "output_type": "stream",
          "name": "stdout",
          "text": [
            "| Epoch: 9/25 | Train: Loss 0.0017 Accuracy : 1.0000 | Val: Loss 1.0702 Accuracy : 0.7867\n",
            "\n"
          ]
        },
        {
          "output_type": "stream",
          "name": "stderr",
          "text": [
            "\n"
          ]
        }
      ]
    },
    {
      "cell_type": "code",
      "source": [
        "# Plotting training accuracy, training loss, validation accuracy and validation loss\n",
        "epochs = epoch + 2\n",
        "plt.title(\"Accuracy and loss on training and validation datasets\")\n",
        "plt.xlabel(\"Training epochs\")\n",
        "plt.plot(range(1, epochs), acc_train, label=\"Training accuracy\")\n",
        "plt.plot(range(1, epochs), acc_valid, label=\"Validation accuracy\")\n",
        "plt.plot(range(1, epochs), loss_train, label=\"Training loss\")\n",
        "plt.plot(range(1, epochs), loss_valid, label=\"Validation loss\")\n",
        "plt.ylim((0,2.))\n",
        "plt.xticks(np.arange(1, epochs, 1.0))\n",
        "plt.legend()\n",
        "plt.show()"
      ],
      "metadata": {
        "colab": {
          "base_uri": "https://localhost:8080/",
          "height": 295
        },
        "id": "n0fp-RDRFLxd",
        "outputId": "789b8c2a-124c-4be1-f055-c7635541be00"
      },
      "execution_count": 16,
      "outputs": [
        {
          "output_type": "display_data",
          "data": {
            "text/plain": [
              "<Figure size 432x288 with 1 Axes>"
            ],
            "image/png": "[encoded data removed]"
          },
          "metadata": {
            "needs_background": "light"
          }
        }
      ]
    },
    {
      "cell_type": "markdown",
      "source": [
        "# 6 - Implementation of the Noisy Student Training method"
      ],
      "metadata": {
        "id": "5yJHDe1hSOD6"
      }
    },
    {
      "cell_type": "code",
      "source": [
        "def weight_reset(model):\n",
        "  \"\"\"\n",
        "  Reset all parameters of a model\n",
        "  :param model [nn.Module]: neural network model\n",
        "  \"\"\"\n",
        "  if isinstance(model, nn.Conv2d) or isinstance(model, nn.Linear):\n",
        "    model.reset_parameters()"
      ],
      "metadata": {
        "id": "VNCX6jHxO8Fo"
      },
      "execution_count": 17,
      "outputs": []
    },
    {
      "cell_type": "code",
      "source": [
        "def noisy_student(student_class, data_augmentation):\n",
        "  \"\"\"\n",
        "  Implement the Noisy Student Training method\n",
        "  :param student_network [nn.Module]: neural network class of the student, in {Teacher(), Student()}\n",
        "  :param data_augmentation [bool]: whether to add data augmentation to the labeled and unlabeled datasets when training student model\n",
        "  :return: print training process\n",
        "  \"\"\"\n",
        "\n",
        "  ### EARLY STOPPING PARAMETERS FOR TRAINING A MODEL\n",
        "  # Number of epochs with no improvement of the validation loss after which training will be stopped\n",
        "  patience = 4\n",
        "  # Minimum change in the validation loss to qualify as an improvement\n",
        "  delta = 0\n",
        "  # Initialize number of epochs with no improvement \n",
        "  epoch_no_improve = 0\n",
        "  # Initialize minimum validation loss\n",
        "  min_val_loss = 10\n",
        "\n",
        "  # Maximum number of epochs to train a model\n",
        "  epochs = 25\n",
        "\n",
        "\n",
        "  ### EARLY STOPPING PARAMETERS FOR LOOP TEACHER-STUDENT\n",
        "  # Number of iterations with no improvement of the validation loss after which loop will be stopped\n",
        "  patience_repeat = 3\n",
        "  # Initialize number of iterations with no improvement \n",
        "  repeat_no_improve = 0\n",
        "  # Initialize minimum validation loss\n",
        "  min_val_loss_repeat = 10\n",
        "\n",
        "  # Maximum number of iterations for loop teacher-student\n",
        "  repeat = 10\n",
        "\n",
        "\n",
        "  # Initialize lists monitoring validation loss and validation accuracy for every epoch\n",
        "  loss_valid, acc_valid = [], []\n",
        "  # Initialize lists monitoring training loss and training accuracy for every epoch \n",
        "  loss_train, acc_train = [], []\n",
        "\n",
        "\n",
        "  # Create the teacher model\n",
        "  teacher = Teacher().to(device)\n",
        "  # Set the optimizer\n",
        "  optimizer = optim.Adam(teacher.parameters(), lr=0.001)\n",
        "\n",
        "\n",
        "  ### TRAIN THE TEACHER MODEL ON THE LABELED DATASET WITH EARLY STOPPING\n",
        "  for epoch in tqdm(range(epochs)):\n",
        "\n",
        "    ### TRAINING\n",
        "    teacher.train()\n",
        "    for idx, batch in enumerate(labelloader):\n",
        "\n",
        "      # Get inputs and labels of the batch\n",
        "      inputs, labels = batch\n",
        "      inputs = inputs.to(device)\n",
        "      labels = labels.to(device)\n",
        "\n",
        "      # Set gradients to zero\n",
        "      optimizer.zero_grad()\n",
        "\n",
        "      # Forward\n",
        "      out = teacher(x=inputs)\n",
        "      loss = criterion(out, labels)\n",
        "\n",
        "      # Backward\n",
        "      loss.backward()\n",
        "\n",
        "      # Optimization step\n",
        "      optimizer.step()\n",
        "\n",
        "\n",
        "    ### COMPUTE VALIDATION LOSS AND VALIDATION ACCURACY\n",
        "    teacher.eval()\n",
        "    with torch.no_grad():\n",
        "      idx = 0\n",
        "      for batch in valloader:\n",
        "\n",
        "        # Get inputs and labels of the batch\n",
        "        inputs, labels = batch\n",
        "        inputs = inputs.to(device)\n",
        "        labels = labels.to(device)\n",
        "\n",
        "        if idx==0:\n",
        "          # Get outputs of the model\n",
        "          t_out = teacher(x=inputs)\n",
        "          # Compute batch loss\n",
        "          t_loss = criterion(t_out, labels).view(1).item()\n",
        "          # Class predictions\n",
        "          t_out = output_fn(t_out).detach().cpu().numpy()\n",
        "          t_out = t_out.argmax(axis=1)\n",
        "          # Labels\n",
        "          ground_truth = labels.detach().cpu().numpy()\n",
        "\n",
        "        else:\n",
        "          # Get outputs of the model\n",
        "          out = teacher(x=inputs)\n",
        "          # Compute and add batch loss\n",
        "          t_loss = np.hstack((t_loss, criterion(out, labels).item()))\n",
        "          # Add class predictions\n",
        "          t_out = np.hstack((t_out, output_fn(out).argmax(axis=1).detach().cpu().numpy()))\n",
        "          # Add labels\n",
        "          ground_truth = np.hstack((ground_truth, labels.detach().cpu().numpy()))\n",
        "\n",
        "        idx+=1\n",
        "\n",
        "      # Add validation accuracy to acc_valid\n",
        "      acc_valid.append(get_accuracy(ground_truth, t_out))\n",
        "      # Add validation loss to loss_valid\n",
        "      loss_valid.append(np.mean(t_loss))\n",
        "      \n",
        "\n",
        "      ### EARLY STOPPING IMPLEMENTATION\n",
        "      # Check if validation loss has improved\n",
        "      if np.mean(t_loss) < (min_val_loss - delta):\n",
        "        epoch_no_improve = 0\n",
        "        # Set new minimum validation loss\n",
        "        min_val_loss = np.mean(t_loss)\n",
        "        # Save model\n",
        "        torch.save(teacher.state_dict(), 'net.pth')\n",
        "        print('\\nSaving model... \\n')\n",
        "      \n",
        "      else:\n",
        "        epoch_no_improve += 1\n",
        "\n",
        "\n",
        "    ### COMPUTE TRAINING LOSS AND TRAINING ACCURACY\n",
        "    with torch.no_grad():\n",
        "      idx = 0\n",
        "      for batch in labelloader:\n",
        "\n",
        "        # Get inputs and labels of the batch\n",
        "        inputs, labels = batch\n",
        "        inputs = inputs.to(device)\n",
        "        labels = labels.to(device)\n",
        "\n",
        "        if idx==0:\n",
        "          # Get outputs of the model\n",
        "          t_out = teacher(x=inputs)\n",
        "          # Compute batch loss\n",
        "          t_loss = criterion(t_out, labels).view(1).item()\n",
        "          # Class predictions\n",
        "          t_out = output_fn(t_out).detach().cpu().numpy()\n",
        "          t_out = t_out.argmax(axis=1)\n",
        "          # Labels\n",
        "          ground_truth = labels.detach().cpu().numpy()\n",
        "\n",
        "        else:\n",
        "          # Get outputs of the model\n",
        "          out = teacher(x=inputs)\n",
        "          # Compute and add batch loss\n",
        "          t_loss = np.hstack((t_loss, criterion(out, labels).item()))\n",
        "          # Add class predictions\n",
        "          t_out = np.hstack((t_out, output_fn(out).argmax(axis=1).detach().cpu().numpy()))\n",
        "          # Add labels  \n",
        "          ground_truth = np.hstack((ground_truth, labels.detach().cpu().numpy()))\n",
        "\n",
        "        idx+=1\n",
        "\n",
        "      # Add training accuracy to acc_train\n",
        "      acc_train.append(get_accuracy(ground_truth, t_out))\n",
        "      # Add training loss to loss_train\n",
        "      loss_train.append(np.mean(t_loss))\n",
        "\n",
        "\n",
        "    print('| Epoch: {}/{} | Train: Loss {:.4f} Accuracy : {:.4f} '\\\n",
        "        '| Val: Loss {:.4f} Accuracy : {:.4f}\\n'.format(epoch+1, epochs, loss_train[epoch], acc_train[epoch], loss_valid[epoch], acc_valid[epoch]))\n",
        "\n",
        "\n",
        "    ### STOP TRAINING CONDITION\n",
        "    if epoch_no_improve == patience:\n",
        "      break\n",
        "\n",
        "\n",
        "  ### LOAD THE TEACHER MODEL WITH THE LOWEST VALIDATION LOSS\n",
        "  teacher = Teacher().to(device)\n",
        "  teacher.load_state_dict(torch.load('net.pth'))\n",
        "\n",
        "\n",
        "  ### COMPUTE THE BASELINE ON THE TEST DATASET\n",
        "  teacher.eval()\n",
        "  with torch.no_grad():\n",
        "    idx = 0\n",
        "    for batch in testloader:\n",
        "\n",
        "      # Get inputs and labels of the batch\n",
        "      inputs, labels = batch\n",
        "      inputs = inputs.to(device)\n",
        "      labels = labels.to(device)\n",
        "\n",
        "      if idx==0:\n",
        "        # Get outputs of the model\n",
        "        t_out = teacher(x=inputs)\n",
        "        # Class predictions\n",
        "        t_out = output_fn(t_out).detach().cpu().numpy()\n",
        "        t_out = t_out.argmax(axis=1)\n",
        "        # Labels\n",
        "        ground_truth = labels.detach().cpu().numpy()\n",
        "\n",
        "      else:\n",
        "        # Get outputs of the model\n",
        "        out = teacher(x=inputs)\n",
        "        # Add class predictions\n",
        "        t_out = np.hstack((t_out, output_fn(out).argmax(axis=1).detach().cpu().numpy()))\n",
        "        # Add labels\n",
        "        ground_truth = np.hstack((ground_truth, labels.detach().cpu().numpy()))\n",
        "\n",
        "      idx+=1\n",
        "\n",
        "  print('Baseline accuracy:', get_accuracy(ground_truth, t_out), '\\n')\n",
        "\n",
        "\n",
        "  ### USE THE TEACHER MODEL TO GENERATE PSEUDO LABELS ON THE UNLABELED DATASET\n",
        "  with torch.no_grad():\n",
        "    idx = 0\n",
        "    for batch in unlabelloader:\n",
        "\n",
        "      # Get inputs and labels of the batch\n",
        "      inputs, labels = batch\n",
        "      inputs = inputs.to(device)\n",
        "\n",
        "      if idx==0:\n",
        "        # Get outputs of the model\n",
        "        t_out = teacher(x=inputs)\n",
        "        # Class predictions\n",
        "        t_out = output_fn(t_out).detach().cpu().numpy()\n",
        "        t_out = t_out.argmax(axis=1)\n",
        "\n",
        "      else:\n",
        "        # Get outputs of the model\n",
        "        out = teacher(x=inputs)\n",
        "        # Add class predictions\n",
        "        t_out = np.hstack((t_out, output_fn(out).argmax(axis=1).detach().cpu().numpy()))\n",
        "\n",
        "      idx+=1\n",
        "\n",
        "\n",
        "  ### SET GENERATED PSEUDO LABELS TO THE UNLABELED DATASET\n",
        "  training_data.targets[unlabel_indices] = torch.tensor(t_out)\n",
        "  \n",
        "\n",
        "  ### ADD DATA AUGMENTATION TO THE LABELED AND UNLABELED DATASETS\n",
        "  if data_augmentation:\n",
        "    trainset.dataset.transform = transforms.Compose([transforms.RandAugment(num_ops=2, magnitude=27),\n",
        "                                                     transforms.ToTensor(),\n",
        "                                                     transforms.Normalize((0.5,),(0.5,))])\n",
        "\n",
        "\n",
        "  ### LOOP TEACHER-STUDENT\n",
        "  print('\\nLOOP TEACHER-STUDENT')\n",
        "  for i in range(repeat):\n",
        "\n",
        "    print('\\nITERATION {}\\n'.format(i+1))\n",
        "\n",
        "    # Reset number of epochs with no improvement\n",
        "    epoch_no_improve = 0\n",
        "    # Reset minimum validation loss\n",
        "    min_val_loss = 10\n",
        "\n",
        "    # Reset lists monitoring validation loss and validation accuracy for every epoch\n",
        "    loss_valid, acc_valid = [], []\n",
        "    # Reset lists monitoring training loss and training accuracy for every epoch \n",
        "    loss_train, acc_train = [], []\n",
        "\n",
        "\n",
        "    # Create the student model\n",
        "    student = student_class.to(device)\n",
        "    # Reset all parameters of the student model\n",
        "    student.apply(weight_reset)\n",
        "    # Set the optimizer\n",
        "    optimizer = optim.Adam(student.parameters(), lr=0.001)\n",
        "\n",
        "\n",
        "    ### TRAIN THE STUDENT MODEL ON THE COMBINATION OF LABELED AND PSEUDO LABELED DATASETS WITH EARLY STOPPING\n",
        "    for epoch in tqdm(range(epochs)):\n",
        "\n",
        "      ### TRAINING\n",
        "      student.train()\n",
        "      for idx, batch in enumerate(trainloader):\n",
        "        \n",
        "        # Get inputs and labels of the batch\n",
        "        inputs, labels = batch\n",
        "        inputs = inputs.to(device)\n",
        "        labels = labels.to(device)\n",
        "\n",
        "        # Set gradients to zero\n",
        "        optimizer.zero_grad()\n",
        "\n",
        "        # Forward\n",
        "        out = student(x=inputs)\n",
        "        loss = criterion(out, labels)\n",
        "\n",
        "        # Backward\n",
        "        loss.backward()\n",
        "\n",
        "        # Optimization step\n",
        "        optimizer.step()\n",
        "\n",
        "\n",
        "      ### COMPUTE VALIDATION LOSS AND VALIDATION ACCURACY\n",
        "      student.eval()\n",
        "      with torch.no_grad():\n",
        "        idx = 0\n",
        "        for batch in valloader:\n",
        "\n",
        "          # Get inputs and labels of the batch\n",
        "          inputs, labels = batch\n",
        "          inputs = inputs.to(device)\n",
        "          labels = labels.to(device)\n",
        "\n",
        "          if idx==0:\n",
        "            # Get outputs of the model\n",
        "            t_out = student(x=inputs)\n",
        "            # Compute batch loss\n",
        "            t_loss = criterion(t_out, labels).view(1).item()\n",
        "            # Class predictions\n",
        "            t_out = output_fn(t_out).detach().cpu().numpy()\n",
        "            t_out = t_out.argmax(axis=1)\n",
        "            # Labels\n",
        "            ground_truth = labels.detach().cpu().numpy()\n",
        "\n",
        "          else:\n",
        "            # Get outputs of the model\n",
        "            out = student(x=inputs)\n",
        "            # Compute and add batch loss\n",
        "            t_loss = np.hstack((t_loss, criterion(out, labels).item()))\n",
        "            # Add class predictions\n",
        "            t_out = np.hstack((t_out, output_fn(out).argmax(axis=1).detach().cpu().numpy()))\n",
        "            # Add labels\n",
        "            ground_truth = np.hstack((ground_truth, labels.detach().cpu().numpy()))\n",
        "\n",
        "          idx+=1\n",
        "\n",
        "        # Add validation accuracy to acc_valid\n",
        "        acc_valid.append(get_accuracy(ground_truth, t_out))\n",
        "        # Add validation loss to loss_valid\n",
        "        loss_valid.append(np.mean(t_loss))\n",
        "      \n",
        "\n",
        "        ### EARLY STOPPING IMPLEMENTATION\n",
        "        # Check if validation loss has improved\n",
        "        if np.mean(t_loss) < (min_val_loss - delta):\n",
        "          epoch_no_improve = 0\n",
        "          # Set new minimum validation loss\n",
        "          min_val_loss = np.mean(t_loss)\n",
        "          # Save model\n",
        "          torch.save(student.state_dict(), 'net.pth')\n",
        "          print('\\nSaving model... \\n')\n",
        "        \n",
        "        else:\n",
        "          epoch_no_improve += 1\n",
        "\n",
        "\n",
        "      ### COMPUTE TRAINING LOSS AND TRAINING ACCURACY\n",
        "      with torch.no_grad():\n",
        "        idx = 0\n",
        "        for batch in trainloader:\n",
        "\n",
        "          # Get inputs and labels of the batch\n",
        "          inputs, labels = batch\n",
        "          inputs = inputs.to(device)\n",
        "          labels = labels.to(device)\n",
        "\n",
        "          if idx==0:\n",
        "            # Get outputs of the model\n",
        "            t_out = student(x=inputs)\n",
        "            # Compute batch loss\n",
        "            t_loss = criterion(t_out, labels).view(1).item()\n",
        "            # Class predictions\n",
        "            t_out = output_fn(t_out).detach().cpu().numpy()\n",
        "            t_out = t_out.argmax(axis=1)\n",
        "            # Labels\n",
        "            ground_truth = labels.detach().cpu().numpy()\n",
        "\n",
        "          else:\n",
        "            # Get outputs of the model\n",
        "            out = student(x=inputs)\n",
        "            # Compute and add batch loss\n",
        "            t_loss = np.hstack((t_loss, criterion(out, labels).item()))\n",
        "            # Add class predictions\n",
        "            t_out = np.hstack((t_out, output_fn(out).argmax(axis=1).detach().cpu().numpy()))\n",
        "            # Add labels  \n",
        "            ground_truth = np.hstack((ground_truth, labels.detach().cpu().numpy()))\n",
        "\n",
        "          idx+=1\n",
        "\n",
        "        # Add training accuracy to acc_train\n",
        "        acc_train.append(get_accuracy(ground_truth, t_out))\n",
        "        # Add training loss to loss_train\n",
        "        loss_train.append(np.mean(t_loss))\n",
        "\n",
        "\n",
        "      print('| Epoch: {}/{} | Train: Loss {:.4f} Accuracy : {:.4f} '\\\n",
        "          '| Val: Loss {:.4f} Accuracy : {:.4f}\\n'.format(epoch+1, epochs, loss_train[epoch], acc_train[epoch], loss_valid[epoch], acc_valid[epoch]))\n",
        "\n",
        "\n",
        "      ### STOP TRAINING CONDITION\n",
        "      if epoch_no_improve == patience:\n",
        "        break\n",
        "\n",
        "\n",
        "    ### LOAD THE STUDENT MODEL WITH THE LOWEST VALIDATION LOSS\n",
        "    student = student_class.to(device)\n",
        "    student.load_state_dict(torch.load('net.pth'))\n",
        "\n",
        "\n",
        "    ### COMPUTE TEST ACCURACY\n",
        "    student.eval()\n",
        "    with torch.no_grad():\n",
        "      idx = 0\n",
        "      for batch in testloader:\n",
        "\n",
        "        # Get inputs and labels of the batch\n",
        "        inputs, labels = batch\n",
        "        inputs = inputs.to(device)\n",
        "        labels = labels.to(device)\n",
        "\n",
        "        if idx==0:\n",
        "          # Get outputs of the model\n",
        "          t_out = student(x=inputs)\n",
        "          # Class predictions\n",
        "          t_out = output_fn(t_out).detach().cpu().numpy()\n",
        "          t_out = t_out.argmax(axis=1)\n",
        "          # Labels\n",
        "          ground_truth = labels.detach().cpu().numpy()\n",
        "\n",
        "        else:\n",
        "          # Get outputs of the model\n",
        "          out = student(x=inputs)\n",
        "          # Add class predictions\n",
        "          t_out = np.hstack((t_out, output_fn(out).argmax(axis=1).detach().cpu().numpy()))\n",
        "          # Add labels\n",
        "          ground_truth = np.hstack((ground_truth, labels.detach().cpu().numpy()))\n",
        "\n",
        "        idx+=1\n",
        "\n",
        "    print('Test accuracy:', get_accuracy(ground_truth, t_out), '\\n')\n",
        "\n",
        "\n",
        "    ### PUT BACK THE STUDENT MODEL AS THE TEACHER MODEL TO GENERATE PSEUDO LABELS ON THE UNLABELED DATASET\n",
        "    teacher = student\n",
        "    with torch.no_grad():\n",
        "      idx = 0\n",
        "      for batch in unlabelloader:\n",
        "\n",
        "        # Get inputs and labels of the batch\n",
        "        inputs, labels = batch\n",
        "        inputs = inputs.to(device)\n",
        "\n",
        "        if idx==0:\n",
        "          # Get outputs of the model\n",
        "          t_out = teacher(x=inputs)\n",
        "          # Class predictions\n",
        "          t_out = output_fn(t_out).detach().cpu().numpy()\n",
        "          t_out = t_out.argmax(axis=1)\n",
        "\n",
        "        else:\n",
        "          # Get outputs of the model\n",
        "          out = teacher(x=inputs)\n",
        "          # Add class predictions\n",
        "          t_out = np.hstack((t_out, output_fn(out).argmax(axis=1).detach().cpu().numpy()))\n",
        "\n",
        "        idx+=1\n",
        "\n",
        "\n",
        "    ### SET GENERATED PSEUDO LABELS TO THE UNLABELED DATASET\n",
        "    training_data.targets[unlabel_indices] = torch.tensor(t_out)\n",
        "\n",
        "\n",
        "    ### EARLY STOPPING FOR LOOP TEACHER-STUDENT\n",
        "    # Check if validation loss has improved\n",
        "    if min_val_loss < min_val_loss_repeat:\n",
        "      repeat_no_improve = 0\n",
        "      # Set new minimum validation loss\n",
        "      min_val_loss_repeat = min_val_loss\n",
        "      # Save model\n",
        "      torch.save(student.state_dict(), 'net_final.pth')\n",
        "      print('\\nSaving final model... \\n')\n",
        "    \n",
        "    else:\n",
        "      repeat_no_improve += 1\n",
        "\n",
        "\n",
        "    ### STOP LOOPING CONDITION\n",
        "    if repeat_no_improve == patience_repeat:\n",
        "        break"
      ],
      "metadata": {
        "id": "dk21aqjid7jD"
      },
      "execution_count": 46,
      "outputs": []
    },
    {
      "cell_type": "markdown",
      "source": [
        "### A - Unnoised student model\n"
      ],
      "metadata": {
        "id": "Ikqa4USRetqj"
      }
    },
    {
      "cell_type": "code",
      "source": [
        "noisy_student(Teacher(), False)"
      ],
      "metadata": {
        "id": "kkRboTnSzYHX",
        "colab": {
          "base_uri": "https://localhost:8080/"
        },
        "outputId": "594c1356-f2a3-4b20-b798-95866fea926e"
      },
      "execution_count": 20,
      "outputs": [
        {
          "output_type": "stream",
          "name": "stderr",
          "text": [
            "\r  0%|          | 0/25 [00:00<?, ?it/s]"
          ]
        },
        {
          "output_type": "stream",
          "name": "stdout",
          "text": [
            "\n",
            "Saving model... \n",
            "\n"
          ]
        },
        {
          "output_type": "stream",
          "name": "stderr",
          "text": [
            "\r  4%|▍         | 1/25 [00:03<01:23,  3.47s/it]"
          ]
        },
        {
          "output_type": "stream",
          "name": "stdout",
          "text": [
            "| Epoch: 1/25 | Train: Loss 1.6169 Accuracy : 0.6300 | Val: Loss 1.8144 Accuracy : 0.4959\n",
            "\n",
            "\n",
            "Saving model... \n",
            "\n"
          ]
        },
        {
          "output_type": "stream",
          "name": "stderr",
          "text": [
            "\r  8%|▊         | 2/25 [00:06<01:10,  3.09s/it]"
          ]
        },
        {
          "output_type": "stream",
          "name": "stdout",
          "text": [
            "| Epoch: 2/25 | Train: Loss 0.8048 Accuracy : 0.7500 | Val: Loss 1.5112 Accuracy : 0.6036\n",
            "\n",
            "\n",
            "Saving model... \n",
            "\n"
          ]
        },
        {
          "output_type": "stream",
          "name": "stderr",
          "text": [
            "\r 12%|█▏        | 3/25 [00:09<01:04,  2.95s/it]"
          ]
        },
        {
          "output_type": "stream",
          "name": "stdout",
          "text": [
            "| Epoch: 3/25 | Train: Loss 0.2241 Accuracy : 0.9300 | Val: Loss 0.9369 Accuracy : 0.7103\n",
            "\n",
            "\n",
            "Saving model... \n",
            "\n"
          ]
        },
        {
          "output_type": "stream",
          "name": "stderr",
          "text": [
            "\r 16%|█▌        | 4/25 [00:11<00:59,  2.85s/it]"
          ]
        },
        {
          "output_type": "stream",
          "name": "stdout",
          "text": [
            "| Epoch: 4/25 | Train: Loss 0.1108 Accuracy : 0.9700 | Val: Loss 0.9325 Accuracy : 0.7455\n",
            "\n",
            "\n",
            "Saving model... \n",
            "\n"
          ]
        },
        {
          "output_type": "stream",
          "name": "stderr",
          "text": [
            "\r 20%|██        | 5/25 [00:15<01:01,  3.06s/it]"
          ]
        },
        {
          "output_type": "stream",
          "name": "stdout",
          "text": [
            "| Epoch: 5/25 | Train: Loss 0.1028 Accuracy : 0.9700 | Val: Loss 0.8955 Accuracy : 0.7418\n",
            "\n"
          ]
        },
        {
          "output_type": "stream",
          "name": "stderr",
          "text": [
            "\r 24%|██▍       | 6/25 [00:17<00:55,  2.94s/it]"
          ]
        },
        {
          "output_type": "stream",
          "name": "stdout",
          "text": [
            "| Epoch: 6/25 | Train: Loss 0.1192 Accuracy : 0.9200 | Val: Loss 1.3769 Accuracy : 0.6971\n",
            "\n"
          ]
        },
        {
          "output_type": "stream",
          "name": "stderr",
          "text": [
            "\r 28%|██▊       | 7/25 [00:20<00:51,  2.86s/it]"
          ]
        },
        {
          "output_type": "stream",
          "name": "stdout",
          "text": [
            "| Epoch: 7/25 | Train: Loss 0.0290 Accuracy : 0.9900 | Val: Loss 1.1703 Accuracy : 0.7569\n",
            "\n"
          ]
        },
        {
          "output_type": "stream",
          "name": "stderr",
          "text": [
            "\r 32%|███▏      | 8/25 [00:23<00:47,  2.82s/it]"
          ]
        },
        {
          "output_type": "stream",
          "name": "stdout",
          "text": [
            "| Epoch: 8/25 | Train: Loss 0.0048 Accuracy : 1.0000 | Val: Loss 1.0784 Accuracy : 0.7733\n",
            "\n"
          ]
        },
        {
          "output_type": "stream",
          "name": "stderr",
          "text": [
            "\r 32%|███▏      | 8/25 [00:26<00:56,  3.34s/it]"
          ]
        },
        {
          "output_type": "stream",
          "name": "stdout",
          "text": [
            "| Epoch: 9/25 | Train: Loss 0.0008 Accuracy : 1.0000 | Val: Loss 0.9987 Accuracy : 0.7882\n",
            "\n"
          ]
        },
        {
          "output_type": "stream",
          "name": "stderr",
          "text": [
            "\n"
          ]
        },
        {
          "output_type": "stream",
          "name": "stdout",
          "text": [
            "Baseline accuracy: 0.7519 \n",
            "\n",
            "\n",
            "LOOP TEACHER-STUDENT\n",
            "\n",
            "ITERATION 1\n",
            "\n"
          ]
        },
        {
          "output_type": "stream",
          "name": "stderr",
          "text": [
            "\r  0%|          | 0/25 [00:00<?, ?it/s]"
          ]
        },
        {
          "output_type": "stream",
          "name": "stdout",
          "text": [
            "\n",
            "Saving model... \n",
            "\n"
          ]
        },
        {
          "output_type": "stream",
          "name": "stderr",
          "text": [
            "\r  4%|▍         | 1/25 [00:21<08:36, 21.53s/it]"
          ]
        },
        {
          "output_type": "stream",
          "name": "stdout",
          "text": [
            "| Epoch: 1/25 | Train: Loss 0.1363 Accuracy : 0.9456 | Val: Loss 1.8375 Accuracy : 0.7333\n",
            "\n"
          ]
        },
        {
          "output_type": "stream",
          "name": "stderr",
          "text": [
            "\r  8%|▊         | 2/25 [00:43<08:25, 21.97s/it]"
          ]
        },
        {
          "output_type": "stream",
          "name": "stdout",
          "text": [
            "| Epoch: 2/25 | Train: Loss 0.1181 Accuracy : 0.9538 | Val: Loss 2.3321 Accuracy : 0.7375\n",
            "\n"
          ]
        },
        {
          "output_type": "stream",
          "name": "stderr",
          "text": [
            "\r 12%|█▏        | 3/25 [01:06<08:05, 22.08s/it]"
          ]
        },
        {
          "output_type": "stream",
          "name": "stdout",
          "text": [
            "| Epoch: 3/25 | Train: Loss 0.0934 Accuracy : 0.9631 | Val: Loss 2.7143 Accuracy : 0.7403\n",
            "\n"
          ]
        },
        {
          "output_type": "stream",
          "name": "stderr",
          "text": [
            "\r 16%|█▌        | 4/25 [01:28<07:43, 22.09s/it]"
          ]
        },
        {
          "output_type": "stream",
          "name": "stdout",
          "text": [
            "| Epoch: 4/25 | Train: Loss 0.0925 Accuracy : 0.9649 | Val: Loss 2.9161 Accuracy : 0.7490\n",
            "\n"
          ]
        },
        {
          "output_type": "stream",
          "name": "stderr",
          "text": [
            "\r 16%|█▌        | 4/25 [01:50<09:39, 27.60s/it]"
          ]
        },
        {
          "output_type": "stream",
          "name": "stdout",
          "text": [
            "| Epoch: 5/25 | Train: Loss 0.0870 Accuracy : 0.9684 | Val: Loss 3.1158 Accuracy : 0.7507\n",
            "\n"
          ]
        },
        {
          "output_type": "stream",
          "name": "stderr",
          "text": [
            "\n"
          ]
        },
        {
          "output_type": "stream",
          "name": "stdout",
          "text": [
            "Test accuracy: 0.7405 \n",
            "\n",
            "\n",
            "Saving final model... \n",
            "\n",
            "\n",
            "ITERATION 2\n",
            "\n"
          ]
        },
        {
          "output_type": "stream",
          "name": "stderr",
          "text": [
            "\r  0%|          | 0/25 [00:00<?, ?it/s]"
          ]
        },
        {
          "output_type": "stream",
          "name": "stdout",
          "text": [
            "\n",
            "Saving model... \n",
            "\n"
          ]
        },
        {
          "output_type": "stream",
          "name": "stderr",
          "text": [
            "\r  4%|▍         | 1/25 [00:22<08:53, 22.22s/it]"
          ]
        },
        {
          "output_type": "stream",
          "name": "stdout",
          "text": [
            "| Epoch: 1/25 | Train: Loss 0.1192 Accuracy : 0.9523 | Val: Loss 1.8039 Accuracy : 0.7340\n",
            "\n"
          ]
        },
        {
          "output_type": "stream",
          "name": "stderr",
          "text": [
            "\r  8%|▊         | 2/25 [00:44<08:31, 22.24s/it]"
          ]
        },
        {
          "output_type": "stream",
          "name": "stdout",
          "text": [
            "| Epoch: 2/25 | Train: Loss 0.1039 Accuracy : 0.9597 | Val: Loss 2.1837 Accuracy : 0.7292\n",
            "\n"
          ]
        },
        {
          "output_type": "stream",
          "name": "stderr",
          "text": [
            "\r 12%|█▏        | 3/25 [01:06<08:08, 22.22s/it]"
          ]
        },
        {
          "output_type": "stream",
          "name": "stdout",
          "text": [
            "| Epoch: 3/25 | Train: Loss 0.0906 Accuracy : 0.9658 | Val: Loss 2.6635 Accuracy : 0.7286\n",
            "\n"
          ]
        },
        {
          "output_type": "stream",
          "name": "stderr",
          "text": [
            "\r 16%|█▌        | 4/25 [01:28<07:40, 21.91s/it]"
          ]
        },
        {
          "output_type": "stream",
          "name": "stdout",
          "text": [
            "| Epoch: 4/25 | Train: Loss 0.0625 Accuracy : 0.9763 | Val: Loss 3.0831 Accuracy : 0.7321\n",
            "\n"
          ]
        },
        {
          "output_type": "stream",
          "name": "stderr",
          "text": [
            "\r 16%|█▌        | 4/25 [01:50<09:38, 27.56s/it]"
          ]
        },
        {
          "output_type": "stream",
          "name": "stdout",
          "text": [
            "| Epoch: 5/25 | Train: Loss 0.0599 Accuracy : 0.9771 | Val: Loss 3.4196 Accuracy : 0.7347\n",
            "\n"
          ]
        },
        {
          "output_type": "stream",
          "name": "stderr",
          "text": [
            "\n"
          ]
        },
        {
          "output_type": "stream",
          "name": "stdout",
          "text": [
            "Test accuracy: 0.7436 \n",
            "\n",
            "\n",
            "Saving final model... \n",
            "\n",
            "\n",
            "ITERATION 3\n",
            "\n"
          ]
        },
        {
          "output_type": "stream",
          "name": "stderr",
          "text": [
            "\r  0%|          | 0/25 [00:00<?, ?it/s]"
          ]
        },
        {
          "output_type": "stream",
          "name": "stdout",
          "text": [
            "\n",
            "Saving model... \n",
            "\n"
          ]
        },
        {
          "output_type": "stream",
          "name": "stderr",
          "text": [
            "\r  4%|▍         | 1/25 [00:22<08:53, 22.23s/it]"
          ]
        },
        {
          "output_type": "stream",
          "name": "stdout",
          "text": [
            "| Epoch: 1/25 | Train: Loss 0.1279 Accuracy : 0.9498 | Val: Loss 1.9325 Accuracy : 0.7220\n",
            "\n"
          ]
        },
        {
          "output_type": "stream",
          "name": "stderr",
          "text": [
            "\r  8%|▊         | 2/25 [00:44<08:35, 22.40s/it]"
          ]
        },
        {
          "output_type": "stream",
          "name": "stdout",
          "text": [
            "| Epoch: 2/25 | Train: Loss 0.1061 Accuracy : 0.9587 | Val: Loss 2.4574 Accuracy : 0.7258\n",
            "\n"
          ]
        },
        {
          "output_type": "stream",
          "name": "stderr",
          "text": [
            "\r 12%|█▏        | 3/25 [01:07<08:13, 22.42s/it]"
          ]
        },
        {
          "output_type": "stream",
          "name": "stdout",
          "text": [
            "| Epoch: 3/25 | Train: Loss 0.1026 Accuracy : 0.9628 | Val: Loss 2.8322 Accuracy : 0.7330\n",
            "\n"
          ]
        },
        {
          "output_type": "stream",
          "name": "stderr",
          "text": [
            "\r 16%|█▌        | 4/25 [01:29<07:47, 22.28s/it]"
          ]
        },
        {
          "output_type": "stream",
          "name": "stdout",
          "text": [
            "| Epoch: 4/25 | Train: Loss 0.1016 Accuracy : 0.9640 | Val: Loss 3.2340 Accuracy : 0.7258\n",
            "\n"
          ]
        },
        {
          "output_type": "stream",
          "name": "stderr",
          "text": [
            "\r 16%|█▌        | 4/25 [01:51<09:45, 27.88s/it]"
          ]
        },
        {
          "output_type": "stream",
          "name": "stdout",
          "text": [
            "| Epoch: 5/25 | Train: Loss 0.0768 Accuracy : 0.9713 | Val: Loss 3.5279 Accuracy : 0.7233\n",
            "\n"
          ]
        },
        {
          "output_type": "stream",
          "name": "stderr",
          "text": [
            "\n"
          ]
        },
        {
          "output_type": "stream",
          "name": "stdout",
          "text": [
            "Test accuracy: 0.7256 \n",
            "\n",
            "\n",
            "ITERATION 4\n",
            "\n"
          ]
        },
        {
          "output_type": "stream",
          "name": "stderr",
          "text": [
            "\r  0%|          | 0/25 [00:00<?, ?it/s]"
          ]
        },
        {
          "output_type": "stream",
          "name": "stdout",
          "text": [
            "\n",
            "Saving model... \n",
            "\n"
          ]
        },
        {
          "output_type": "stream",
          "name": "stderr",
          "text": [
            "\r  4%|▍         | 1/25 [00:22<08:55, 22.33s/it]"
          ]
        },
        {
          "output_type": "stream",
          "name": "stdout",
          "text": [
            "| Epoch: 1/25 | Train: Loss 0.1154 Accuracy : 0.9541 | Val: Loss 2.0687 Accuracy : 0.7284\n",
            "\n"
          ]
        },
        {
          "output_type": "stream",
          "name": "stderr",
          "text": [
            "\r  8%|▊         | 2/25 [00:44<08:31, 22.26s/it]"
          ]
        },
        {
          "output_type": "stream",
          "name": "stdout",
          "text": [
            "| Epoch: 2/25 | Train: Loss 0.0890 Accuracy : 0.9648 | Val: Loss 2.4726 Accuracy : 0.7350\n",
            "\n"
          ]
        },
        {
          "output_type": "stream",
          "name": "stderr",
          "text": [
            "\r 12%|█▏        | 3/25 [01:06<08:05, 22.08s/it]"
          ]
        },
        {
          "output_type": "stream",
          "name": "stdout",
          "text": [
            "| Epoch: 3/25 | Train: Loss 0.0952 Accuracy : 0.9642 | Val: Loss 3.0195 Accuracy : 0.7264\n",
            "\n"
          ]
        },
        {
          "output_type": "stream",
          "name": "stderr",
          "text": [
            "\r 16%|█▌        | 4/25 [01:28<07:46, 22.21s/it]"
          ]
        },
        {
          "output_type": "stream",
          "name": "stdout",
          "text": [
            "| Epoch: 4/25 | Train: Loss 0.0678 Accuracy : 0.9733 | Val: Loss 3.5357 Accuracy : 0.7254\n",
            "\n"
          ]
        },
        {
          "output_type": "stream",
          "name": "stderr",
          "text": [
            "\r 16%|█▌        | 4/25 [01:51<09:44, 27.84s/it]"
          ]
        },
        {
          "output_type": "stream",
          "name": "stdout",
          "text": [
            "| Epoch: 5/25 | Train: Loss 0.0624 Accuracy : 0.9765 | Val: Loss 3.9021 Accuracy : 0.7280\n",
            "\n"
          ]
        },
        {
          "output_type": "stream",
          "name": "stderr",
          "text": [
            "\n"
          ]
        },
        {
          "output_type": "stream",
          "name": "stdout",
          "text": [
            "Test accuracy: 0.727 \n",
            "\n",
            "\n",
            "ITERATION 5\n",
            "\n"
          ]
        },
        {
          "output_type": "stream",
          "name": "stderr",
          "text": [
            "\r  0%|          | 0/25 [00:00<?, ?it/s]"
          ]
        },
        {
          "output_type": "stream",
          "name": "stdout",
          "text": [
            "\n",
            "Saving model... \n",
            "\n"
          ]
        },
        {
          "output_type": "stream",
          "name": "stderr",
          "text": [
            "\r  4%|▍         | 1/25 [00:22<09:01, 22.56s/it]"
          ]
        },
        {
          "output_type": "stream",
          "name": "stdout",
          "text": [
            "| Epoch: 1/25 | Train: Loss 0.1086 Accuracy : 0.9565 | Val: Loss 2.2568 Accuracy : 0.7148\n",
            "\n"
          ]
        },
        {
          "output_type": "stream",
          "name": "stderr",
          "text": [
            "\r  8%|▊         | 2/25 [00:45<08:40, 22.64s/it]"
          ]
        },
        {
          "output_type": "stream",
          "name": "stdout",
          "text": [
            "| Epoch: 2/25 | Train: Loss 0.0796 Accuracy : 0.9700 | Val: Loss 2.8655 Accuracy : 0.7179\n",
            "\n"
          ]
        },
        {
          "output_type": "stream",
          "name": "stderr",
          "text": [
            "\r 12%|█▏        | 3/25 [01:07<08:18, 22.67s/it]"
          ]
        },
        {
          "output_type": "stream",
          "name": "stdout",
          "text": [
            "| Epoch: 3/25 | Train: Loss 0.0807 Accuracy : 0.9693 | Val: Loss 3.2117 Accuracy : 0.7161\n",
            "\n"
          ]
        },
        {
          "output_type": "stream",
          "name": "stderr",
          "text": [
            "\r 16%|█▌        | 4/25 [01:30<07:52, 22.49s/it]"
          ]
        },
        {
          "output_type": "stream",
          "name": "stdout",
          "text": [
            "| Epoch: 4/25 | Train: Loss 0.0794 Accuracy : 0.9713 | Val: Loss 3.5228 Accuracy : 0.7183\n",
            "\n"
          ]
        },
        {
          "output_type": "stream",
          "name": "stderr",
          "text": [
            "\r 16%|█▌        | 4/25 [01:52<09:51, 28.18s/it]"
          ]
        },
        {
          "output_type": "stream",
          "name": "stdout",
          "text": [
            "| Epoch: 5/25 | Train: Loss 0.0803 Accuracy : 0.9724 | Val: Loss 3.9386 Accuracy : 0.7216\n",
            "\n"
          ]
        },
        {
          "output_type": "stream",
          "name": "stderr",
          "text": [
            "\n"
          ]
        },
        {
          "output_type": "stream",
          "name": "stdout",
          "text": [
            "Test accuracy: 0.7149 \n",
            "\n"
          ]
        }
      ]
    },
    {
      "cell_type": "markdown",
      "source": [
        "### B - Student model with dropout"
      ],
      "metadata": {
        "id": "EXaiVOsce279"
      }
    },
    {
      "cell_type": "code",
      "source": [
        "noisy_student(Student(), False)"
      ],
      "metadata": {
        "colab": {
          "base_uri": "https://localhost:8080/"
        },
        "id": "upOm8ZfGcEFW",
        "outputId": "696d2b11-c1cd-4472-f99f-b505ea17c7fe"
      },
      "execution_count": 30,
      "outputs": [
        {
          "output_type": "stream",
          "name": "stderr",
          "text": [
            "\r  0%|          | 0/25 [00:00<?, ?it/s]"
          ]
        },
        {
          "output_type": "stream",
          "name": "stdout",
          "text": [
            "\n",
            "Saving model... \n",
            "\n"
          ]
        },
        {
          "output_type": "stream",
          "name": "stderr",
          "text": [
            "\r  4%|▍         | 1/25 [00:03<01:17,  3.23s/it]"
          ]
        },
        {
          "output_type": "stream",
          "name": "stdout",
          "text": [
            "| Epoch: 1/25 | Train: Loss 1.0526 Accuracy : 0.7400 | Val: Loss 1.3937 Accuracy : 0.5678\n",
            "\n",
            "\n",
            "Saving model... \n",
            "\n"
          ]
        },
        {
          "output_type": "stream",
          "name": "stderr",
          "text": [
            "\r  8%|▊         | 2/25 [00:06<01:10,  3.05s/it]"
          ]
        },
        {
          "output_type": "stream",
          "name": "stdout",
          "text": [
            "| Epoch: 2/25 | Train: Loss 0.4487 Accuracy : 0.8600 | Val: Loss 1.3427 Accuracy : 0.6552\n",
            "\n",
            "\n",
            "Saving model... \n",
            "\n"
          ]
        },
        {
          "output_type": "stream",
          "name": "stderr",
          "text": [
            "\r 12%|█▏        | 3/25 [00:08<01:04,  2.94s/it]"
          ]
        },
        {
          "output_type": "stream",
          "name": "stdout",
          "text": [
            "| Epoch: 3/25 | Train: Loss 0.1211 Accuracy : 0.9700 | Val: Loss 0.9499 Accuracy : 0.7330\n",
            "\n",
            "\n",
            "Saving model... \n",
            "\n"
          ]
        },
        {
          "output_type": "stream",
          "name": "stderr",
          "text": [
            "\r 16%|█▌        | 4/25 [00:11<01:00,  2.88s/it]"
          ]
        },
        {
          "output_type": "stream",
          "name": "stdout",
          "text": [
            "| Epoch: 4/25 | Train: Loss 0.0431 Accuracy : 0.9900 | Val: Loss 0.8158 Accuracy : 0.7825\n",
            "\n",
            "\n",
            "Saving model... \n",
            "\n"
          ]
        },
        {
          "output_type": "stream",
          "name": "stderr",
          "text": [
            "\r 20%|██        | 5/25 [00:15<01:01,  3.08s/it]"
          ]
        },
        {
          "output_type": "stream",
          "name": "stdout",
          "text": [
            "| Epoch: 5/25 | Train: Loss 0.0243 Accuracy : 0.9900 | Val: Loss 0.7281 Accuracy : 0.8051\n",
            "\n"
          ]
        },
        {
          "output_type": "stream",
          "name": "stderr",
          "text": [
            "\r 24%|██▍       | 6/25 [00:17<00:56,  2.98s/it]"
          ]
        },
        {
          "output_type": "stream",
          "name": "stdout",
          "text": [
            "| Epoch: 6/25 | Train: Loss 0.2675 Accuracy : 0.9400 | Val: Loss 1.0544 Accuracy : 0.7693\n",
            "\n"
          ]
        },
        {
          "output_type": "stream",
          "name": "stderr",
          "text": [
            "\r 28%|██▊       | 7/25 [00:20<00:52,  2.93s/it]"
          ]
        },
        {
          "output_type": "stream",
          "name": "stdout",
          "text": [
            "| Epoch: 7/25 | Train: Loss 0.1626 Accuracy : 0.9700 | Val: Loss 0.9991 Accuracy : 0.7678\n",
            "\n"
          ]
        },
        {
          "output_type": "stream",
          "name": "stderr",
          "text": [
            "\r 32%|███▏      | 8/25 [00:23<00:48,  2.87s/it]"
          ]
        },
        {
          "output_type": "stream",
          "name": "stdout",
          "text": [
            "| Epoch: 8/25 | Train: Loss 0.0356 Accuracy : 0.9800 | Val: Loss 1.2762 Accuracy : 0.7432\n",
            "\n"
          ]
        },
        {
          "output_type": "stream",
          "name": "stderr",
          "text": [
            "\r 32%|███▏      | 8/25 [00:26<00:57,  3.36s/it]"
          ]
        },
        {
          "output_type": "stream",
          "name": "stdout",
          "text": [
            "| Epoch: 9/25 | Train: Loss 0.0202 Accuracy : 0.9900 | Val: Loss 0.9342 Accuracy : 0.8029\n",
            "\n"
          ]
        },
        {
          "output_type": "stream",
          "name": "stderr",
          "text": [
            "\n"
          ]
        },
        {
          "output_type": "stream",
          "name": "stdout",
          "text": [
            "Baseline accuracy: 0.8121 \n",
            "\n",
            "\n",
            "LOOP TEACHER-STUDENT\n",
            "\n",
            "ITERATION 1\n",
            "\n"
          ]
        },
        {
          "output_type": "stream",
          "name": "stderr",
          "text": [
            "\r  0%|          | 0/25 [00:00<?, ?it/s]"
          ]
        },
        {
          "output_type": "stream",
          "name": "stdout",
          "text": [
            "\n",
            "Saving model... \n",
            "\n"
          ]
        },
        {
          "output_type": "stream",
          "name": "stderr",
          "text": [
            "\r  4%|▍         | 1/25 [00:22<08:49, 22.08s/it]"
          ]
        },
        {
          "output_type": "stream",
          "name": "stdout",
          "text": [
            "| Epoch: 1/25 | Train: Loss 0.1352 Accuracy : 0.9472 | Val: Loss 0.8348 Accuracy : 0.8141\n",
            "\n"
          ]
        },
        {
          "output_type": "stream",
          "name": "stderr",
          "text": [
            "\r  8%|▊         | 2/25 [00:44<08:34, 22.37s/it]"
          ]
        },
        {
          "output_type": "stream",
          "name": "stdout",
          "text": [
            "| Epoch: 2/25 | Train: Loss 0.1111 Accuracy : 0.9572 | Val: Loss 1.0102 Accuracy : 0.8117\n",
            "\n"
          ]
        },
        {
          "output_type": "stream",
          "name": "stderr",
          "text": [
            "\r 12%|█▏        | 3/25 [01:07<08:14, 22.48s/it]"
          ]
        },
        {
          "output_type": "stream",
          "name": "stdout",
          "text": [
            "| Epoch: 3/25 | Train: Loss 0.1009 Accuracy : 0.9615 | Val: Loss 1.0789 Accuracy : 0.8072\n",
            "\n"
          ]
        },
        {
          "output_type": "stream",
          "name": "stderr",
          "text": [
            "\r 16%|█▌        | 4/25 [01:29<07:50, 22.42s/it]"
          ]
        },
        {
          "output_type": "stream",
          "name": "stdout",
          "text": [
            "| Epoch: 4/25 | Train: Loss 0.0828 Accuracy : 0.9687 | Val: Loss 1.1427 Accuracy : 0.8110\n",
            "\n"
          ]
        },
        {
          "output_type": "stream",
          "name": "stderr",
          "text": [
            "\r 16%|█▌        | 4/25 [01:52<09:49, 28.06s/it]"
          ]
        },
        {
          "output_type": "stream",
          "name": "stdout",
          "text": [
            "| Epoch: 5/25 | Train: Loss 0.0737 Accuracy : 0.9727 | Val: Loss 1.2700 Accuracy : 0.8103\n",
            "\n"
          ]
        },
        {
          "output_type": "stream",
          "name": "stderr",
          "text": [
            "\n"
          ]
        },
        {
          "output_type": "stream",
          "name": "stdout",
          "text": [
            "Test accuracy: 0.8201 \n",
            "\n",
            "\n",
            "Saving final model... \n",
            "\n",
            "\n",
            "ITERATION 2\n",
            "\n"
          ]
        },
        {
          "output_type": "stream",
          "name": "stderr",
          "text": [
            "\r  0%|          | 0/25 [00:00<?, ?it/s]"
          ]
        },
        {
          "output_type": "stream",
          "name": "stdout",
          "text": [
            "\n",
            "Saving model... \n",
            "\n"
          ]
        },
        {
          "output_type": "stream",
          "name": "stderr",
          "text": [
            "\r  4%|▍         | 1/25 [00:22<09:00, 22.52s/it]"
          ]
        },
        {
          "output_type": "stream",
          "name": "stdout",
          "text": [
            "| Epoch: 1/25 | Train: Loss 0.1109 Accuracy : 0.9573 | Val: Loss 0.9334 Accuracy : 0.8114\n",
            "\n"
          ]
        },
        {
          "output_type": "stream",
          "name": "stderr",
          "text": [
            "\r  8%|▊         | 2/25 [00:45<08:40, 22.61s/it]"
          ]
        },
        {
          "output_type": "stream",
          "name": "stdout",
          "text": [
            "| Epoch: 2/25 | Train: Loss 0.0801 Accuracy : 0.9695 | Val: Loss 1.0384 Accuracy : 0.8159\n",
            "\n"
          ]
        },
        {
          "output_type": "stream",
          "name": "stderr",
          "text": [
            "\r 12%|█▏        | 3/25 [01:07<08:13, 22.42s/it]"
          ]
        },
        {
          "output_type": "stream",
          "name": "stdout",
          "text": [
            "| Epoch: 3/25 | Train: Loss 0.0728 Accuracy : 0.9735 | Val: Loss 1.0634 Accuracy : 0.8197\n",
            "\n"
          ]
        },
        {
          "output_type": "stream",
          "name": "stderr",
          "text": [
            "\r 16%|█▌        | 4/25 [01:29<07:52, 22.48s/it]"
          ]
        },
        {
          "output_type": "stream",
          "name": "stdout",
          "text": [
            "| Epoch: 4/25 | Train: Loss 0.0724 Accuracy : 0.9731 | Val: Loss 1.2365 Accuracy : 0.8138\n",
            "\n"
          ]
        },
        {
          "output_type": "stream",
          "name": "stderr",
          "text": [
            "\r 16%|█▌        | 4/25 [01:52<09:51, 28.17s/it]"
          ]
        },
        {
          "output_type": "stream",
          "name": "stdout",
          "text": [
            "| Epoch: 5/25 | Train: Loss 0.0523 Accuracy : 0.9819 | Val: Loss 1.2780 Accuracy : 0.8117\n",
            "\n"
          ]
        },
        {
          "output_type": "stream",
          "name": "stderr",
          "text": [
            "\n"
          ]
        },
        {
          "output_type": "stream",
          "name": "stdout",
          "text": [
            "Test accuracy: 0.8168 \n",
            "\n",
            "\n",
            "ITERATION 3\n",
            "\n"
          ]
        },
        {
          "output_type": "stream",
          "name": "stderr",
          "text": [
            "\r  0%|          | 0/25 [00:00<?, ?it/s]"
          ]
        },
        {
          "output_type": "stream",
          "name": "stdout",
          "text": [
            "\n",
            "Saving model... \n",
            "\n"
          ]
        },
        {
          "output_type": "stream",
          "name": "stderr",
          "text": [
            "\r  4%|▍         | 1/25 [00:21<08:43, 21.81s/it]"
          ]
        },
        {
          "output_type": "stream",
          "name": "stdout",
          "text": [
            "| Epoch: 1/25 | Train: Loss 0.1065 Accuracy : 0.9585 | Val: Loss 0.8555 Accuracy : 0.8276\n",
            "\n"
          ]
        },
        {
          "output_type": "stream",
          "name": "stderr",
          "text": [
            "\r  8%|▊         | 2/25 [00:44<08:31, 22.23s/it]"
          ]
        },
        {
          "output_type": "stream",
          "name": "stdout",
          "text": [
            "| Epoch: 2/25 | Train: Loss 0.0779 Accuracy : 0.9712 | Val: Loss 1.0162 Accuracy : 0.8202\n",
            "\n"
          ]
        },
        {
          "output_type": "stream",
          "name": "stderr",
          "text": [
            "\r 12%|█▏        | 3/25 [01:06<08:11, 22.35s/it]"
          ]
        },
        {
          "output_type": "stream",
          "name": "stdout",
          "text": [
            "| Epoch: 3/25 | Train: Loss 0.0667 Accuracy : 0.9758 | Val: Loss 1.1484 Accuracy : 0.8183\n",
            "\n"
          ]
        },
        {
          "output_type": "stream",
          "name": "stderr",
          "text": [
            "\r 16%|█▌        | 4/25 [01:29<07:50, 22.42s/it]"
          ]
        },
        {
          "output_type": "stream",
          "name": "stdout",
          "text": [
            "| Epoch: 4/25 | Train: Loss 0.0472 Accuracy : 0.9837 | Val: Loss 1.2587 Accuracy : 0.8168\n",
            "\n"
          ]
        },
        {
          "output_type": "stream",
          "name": "stderr",
          "text": [
            "\r 16%|█▌        | 4/25 [01:51<09:47, 27.99s/it]"
          ]
        },
        {
          "output_type": "stream",
          "name": "stdout",
          "text": [
            "| Epoch: 5/25 | Train: Loss 0.0476 Accuracy : 0.9824 | Val: Loss 1.3387 Accuracy : 0.8232\n",
            "\n"
          ]
        },
        {
          "output_type": "stream",
          "name": "stderr",
          "text": [
            "\n"
          ]
        },
        {
          "output_type": "stream",
          "name": "stdout",
          "text": [
            "Test accuracy: 0.8333 \n",
            "\n",
            "\n",
            "ITERATION 4\n",
            "\n"
          ]
        },
        {
          "output_type": "stream",
          "name": "stderr",
          "text": [
            "\r  0%|          | 0/25 [00:00<?, ?it/s]"
          ]
        },
        {
          "output_type": "stream",
          "name": "stdout",
          "text": [
            "\n",
            "Saving model... \n",
            "\n"
          ]
        },
        {
          "output_type": "stream",
          "name": "stderr",
          "text": [
            "\r  4%|▍         | 1/25 [00:22<08:55, 22.32s/it]"
          ]
        },
        {
          "output_type": "stream",
          "name": "stdout",
          "text": [
            "| Epoch: 1/25 | Train: Loss 0.0889 Accuracy : 0.9664 | Val: Loss 0.9605 Accuracy : 0.8246\n",
            "\n"
          ]
        },
        {
          "output_type": "stream",
          "name": "stderr",
          "text": [
            "\r  8%|▊         | 2/25 [00:44<08:36, 22.47s/it]"
          ]
        },
        {
          "output_type": "stream",
          "name": "stdout",
          "text": [
            "| Epoch: 2/25 | Train: Loss 0.0678 Accuracy : 0.9762 | Val: Loss 1.0449 Accuracy : 0.8234\n",
            "\n"
          ]
        },
        {
          "output_type": "stream",
          "name": "stderr",
          "text": [
            "\r 12%|█▏        | 3/25 [01:07<08:12, 22.41s/it]"
          ]
        },
        {
          "output_type": "stream",
          "name": "stdout",
          "text": [
            "| Epoch: 3/25 | Train: Loss 0.0539 Accuracy : 0.9812 | Val: Loss 1.1833 Accuracy : 0.8296\n",
            "\n"
          ]
        },
        {
          "output_type": "stream",
          "name": "stderr",
          "text": [
            "\r 16%|█▌        | 4/25 [01:29<07:51, 22.44s/it]"
          ]
        },
        {
          "output_type": "stream",
          "name": "stdout",
          "text": [
            "| Epoch: 4/25 | Train: Loss 0.0435 Accuracy : 0.9846 | Val: Loss 1.3401 Accuracy : 0.8259\n",
            "\n"
          ]
        },
        {
          "output_type": "stream",
          "name": "stderr",
          "text": [
            "\r 16%|█▌        | 4/25 [01:52<09:48, 28.04s/it]"
          ]
        },
        {
          "output_type": "stream",
          "name": "stdout",
          "text": [
            "| Epoch: 5/25 | Train: Loss 0.0416 Accuracy : 0.9853 | Val: Loss 1.3290 Accuracy : 0.8267\n",
            "\n"
          ]
        },
        {
          "output_type": "stream",
          "name": "stderr",
          "text": [
            "\n"
          ]
        },
        {
          "output_type": "stream",
          "name": "stdout",
          "text": [
            "Test accuracy: 0.8308 \n",
            "\n"
          ]
        }
      ]
    },
    {
      "cell_type": "markdown",
      "source": [
        "### C - Student model with dropout and data augmentation"
      ],
      "metadata": {
        "id": "HCiitm_YkVrV"
      }
    },
    {
      "cell_type": "code",
      "source": [
        "noisy_student(Student(), True)"
      ],
      "metadata": {
        "id": "XoNOop3pzl5g",
        "colab": {
          "base_uri": "https://localhost:8080/"
        },
        "outputId": "adbe67ce-e3b7-418f-e7cd-6b337eb5f3cf"
      },
      "execution_count": 47,
      "outputs": [
        {
          "output_type": "stream",
          "name": "stderr",
          "text": [
            "\r  0%|          | 0/25 [00:00<?, ?it/s]"
          ]
        },
        {
          "output_type": "stream",
          "name": "stdout",
          "text": [
            "\n",
            "Saving model... \n",
            "\n"
          ]
        },
        {
          "output_type": "stream",
          "name": "stderr",
          "text": [
            "\r  4%|▍         | 1/25 [00:03<01:15,  3.15s/it]"
          ]
        },
        {
          "output_type": "stream",
          "name": "stdout",
          "text": [
            "| Epoch: 1/25 | Train: Loss 1.0217 Accuracy : 0.7300 | Val: Loss 1.3310 Accuracy : 0.6016\n",
            "\n",
            "\n",
            "Saving model... \n",
            "\n"
          ]
        },
        {
          "output_type": "stream",
          "name": "stderr",
          "text": [
            "\r  8%|▊         | 2/25 [00:05<01:07,  2.94s/it]"
          ]
        },
        {
          "output_type": "stream",
          "name": "stdout",
          "text": [
            "| Epoch: 2/25 | Train: Loss 0.3509 Accuracy : 0.8500 | Val: Loss 0.9428 Accuracy : 0.7052\n",
            "\n",
            "\n",
            "Saving model... \n",
            "\n"
          ]
        },
        {
          "output_type": "stream",
          "name": "stderr",
          "text": [
            "\r 12%|█▏        | 3/25 [00:08<01:03,  2.86s/it]"
          ]
        },
        {
          "output_type": "stream",
          "name": "stdout",
          "text": [
            "| Epoch: 3/25 | Train: Loss 0.0750 Accuracy : 1.0000 | Val: Loss 0.7620 Accuracy : 0.7762\n",
            "\n"
          ]
        },
        {
          "output_type": "stream",
          "name": "stderr",
          "text": [
            "\r 16%|█▌        | 4/25 [00:11<01:03,  3.00s/it]"
          ]
        },
        {
          "output_type": "stream",
          "name": "stdout",
          "text": [
            "| Epoch: 4/25 | Train: Loss 0.0195 Accuracy : 1.0000 | Val: Loss 0.7805 Accuracy : 0.7997\n",
            "\n"
          ]
        },
        {
          "output_type": "stream",
          "name": "stderr",
          "text": [
            "\r 20%|██        | 5/25 [00:14<00:59,  2.95s/it]"
          ]
        },
        {
          "output_type": "stream",
          "name": "stdout",
          "text": [
            "| Epoch: 5/25 | Train: Loss 0.0202 Accuracy : 0.9900 | Val: Loss 0.8194 Accuracy : 0.8038\n",
            "\n"
          ]
        },
        {
          "output_type": "stream",
          "name": "stderr",
          "text": [
            "\r 24%|██▍       | 6/25 [00:17<00:55,  2.90s/it]"
          ]
        },
        {
          "output_type": "stream",
          "name": "stdout",
          "text": [
            "| Epoch: 6/25 | Train: Loss 0.0067 Accuracy : 1.0000 | Val: Loss 0.8845 Accuracy : 0.8036\n",
            "\n"
          ]
        },
        {
          "output_type": "stream",
          "name": "stderr",
          "text": [
            "\r 24%|██▍       | 6/25 [00:20<01:04,  3.40s/it]"
          ]
        },
        {
          "output_type": "stream",
          "name": "stdout",
          "text": [
            "| Epoch: 7/25 | Train: Loss 0.0007 Accuracy : 1.0000 | Val: Loss 0.8330 Accuracy : 0.8130\n",
            "\n"
          ]
        },
        {
          "output_type": "stream",
          "name": "stderr",
          "text": [
            "\n"
          ]
        },
        {
          "output_type": "stream",
          "name": "stdout",
          "text": [
            "Baseline accuracy: 0.7821 \n",
            "\n",
            "\n",
            "LOOP TEACHER-STUDENT\n",
            "\n",
            "ITERATION 1\n",
            "\n"
          ]
        },
        {
          "output_type": "stream",
          "name": "stderr",
          "text": [
            "\r  0%|          | 0/25 [00:00<?, ?it/s]"
          ]
        },
        {
          "output_type": "stream",
          "name": "stdout",
          "text": [
            "\n",
            "Saving model... \n",
            "\n"
          ]
        },
        {
          "output_type": "stream",
          "name": "stderr",
          "text": [
            "\r  4%|▍         | 1/25 [00:48<19:35, 48.97s/it]"
          ]
        },
        {
          "output_type": "stream",
          "name": "stdout",
          "text": [
            "| Epoch: 1/25 | Train: Loss 0.7082 Accuracy : 0.7662 | Val: Loss 0.8029 Accuracy : 0.7391\n",
            "\n",
            "\n",
            "Saving model... \n",
            "\n"
          ]
        },
        {
          "output_type": "stream",
          "name": "stderr",
          "text": [
            "\r  8%|▊         | 2/25 [01:38<18:56, 49.39s/it]"
          ]
        },
        {
          "output_type": "stream",
          "name": "stdout",
          "text": [
            "| Epoch: 2/25 | Train: Loss 0.6033 Accuracy : 0.7909 | Val: Loss 0.7406 Accuracy : 0.7521\n",
            "\n",
            "\n",
            "Saving model... \n",
            "\n"
          ]
        },
        {
          "output_type": "stream",
          "name": "stderr",
          "text": [
            "\r 12%|█▏        | 3/25 [02:27<17:57, 48.97s/it]"
          ]
        },
        {
          "output_type": "stream",
          "name": "stdout",
          "text": [
            "| Epoch: 3/25 | Train: Loss 0.5663 Accuracy : 0.8079 | Val: Loss 0.7288 Accuracy : 0.7613\n",
            "\n",
            "\n",
            "Saving model... \n",
            "\n"
          ]
        },
        {
          "output_type": "stream",
          "name": "stderr",
          "text": [
            "\r 16%|█▌        | 4/25 [03:16<17:07, 48.95s/it]"
          ]
        },
        {
          "output_type": "stream",
          "name": "stdout",
          "text": [
            "| Epoch: 4/25 | Train: Loss 0.5315 Accuracy : 0.8192 | Val: Loss 0.6776 Accuracy : 0.7765\n",
            "\n"
          ]
        },
        {
          "output_type": "stream",
          "name": "stderr",
          "text": [
            "\r 20%|██        | 5/25 [04:05<16:21, 49.05s/it]"
          ]
        },
        {
          "output_type": "stream",
          "name": "stdout",
          "text": [
            "| Epoch: 5/25 | Train: Loss 0.5029 Accuracy : 0.8260 | Val: Loss 0.7211 Accuracy : 0.7637\n",
            "\n"
          ]
        },
        {
          "output_type": "stream",
          "name": "stderr",
          "text": [
            "\r 24%|██▍       | 6/25 [04:54<15:31, 49.03s/it]"
          ]
        },
        {
          "output_type": "stream",
          "name": "stdout",
          "text": [
            "| Epoch: 6/25 | Train: Loss 0.5011 Accuracy : 0.8266 | Val: Loss 0.7235 Accuracy : 0.7716\n",
            "\n"
          ]
        },
        {
          "output_type": "stream",
          "name": "stderr",
          "text": [
            "\r 28%|██▊       | 7/25 [05:43<14:42, 49.02s/it]"
          ]
        },
        {
          "output_type": "stream",
          "name": "stdout",
          "text": [
            "| Epoch: 7/25 | Train: Loss 0.4723 Accuracy : 0.8358 | Val: Loss 0.7030 Accuracy : 0.7690\n",
            "\n"
          ]
        },
        {
          "output_type": "stream",
          "name": "stderr",
          "text": [
            "\r 28%|██▊       | 7/25 [06:32<16:50, 56.13s/it]"
          ]
        },
        {
          "output_type": "stream",
          "name": "stdout",
          "text": [
            "| Epoch: 8/25 | Train: Loss 0.4638 Accuracy : 0.8387 | Val: Loss 0.7225 Accuracy : 0.7795\n",
            "\n"
          ]
        },
        {
          "output_type": "stream",
          "name": "stderr",
          "text": [
            "\n"
          ]
        },
        {
          "output_type": "stream",
          "name": "stdout",
          "text": [
            "Test accuracy: 0.8328 \n",
            "\n",
            "\n",
            "Saving final model... \n",
            "\n",
            "\n",
            "ITERATION 2\n",
            "\n"
          ]
        },
        {
          "output_type": "stream",
          "name": "stderr",
          "text": [
            "\r  0%|          | 0/25 [00:00<?, ?it/s]"
          ]
        },
        {
          "output_type": "stream",
          "name": "stdout",
          "text": [
            "\n",
            "Saving model... \n",
            "\n"
          ]
        },
        {
          "output_type": "stream",
          "name": "stderr",
          "text": [
            "\r  4%|▍         | 1/25 [00:49<19:38, 49.08s/it]"
          ]
        },
        {
          "output_type": "stream",
          "name": "stdout",
          "text": [
            "| Epoch: 1/25 | Train: Loss 0.8666 Accuracy : 0.7319 | Val: Loss 0.7869 Accuracy : 0.7503\n",
            "\n",
            "\n",
            "Saving model... \n",
            "\n"
          ]
        },
        {
          "output_type": "stream",
          "name": "stderr",
          "text": [
            "\r  8%|▊         | 2/25 [01:37<18:46, 48.98s/it]"
          ]
        },
        {
          "output_type": "stream",
          "name": "stdout",
          "text": [
            "| Epoch: 2/25 | Train: Loss 0.7826 Accuracy : 0.7643 | Val: Loss 0.6897 Accuracy : 0.7769\n",
            "\n",
            "\n",
            "Saving model... \n",
            "\n"
          ]
        },
        {
          "output_type": "stream",
          "name": "stderr",
          "text": [
            "\r 12%|█▏        | 3/25 [02:27<18:00, 49.13s/it]"
          ]
        },
        {
          "output_type": "stream",
          "name": "stdout",
          "text": [
            "| Epoch: 3/25 | Train: Loss 0.7483 Accuracy : 0.7744 | Val: Loss 0.6547 Accuracy : 0.7912\n",
            "\n"
          ]
        },
        {
          "output_type": "stream",
          "name": "stderr",
          "text": [
            "\r 16%|█▌        | 4/25 [03:16<17:09, 49.00s/it]"
          ]
        },
        {
          "output_type": "stream",
          "name": "stdout",
          "text": [
            "| Epoch: 4/25 | Train: Loss 0.7385 Accuracy : 0.7798 | Val: Loss 0.6643 Accuracy : 0.7908\n",
            "\n",
            "\n",
            "Saving model... \n",
            "\n"
          ]
        },
        {
          "output_type": "stream",
          "name": "stderr",
          "text": [
            "\r 20%|██        | 5/25 [04:04<16:18, 48.94s/it]"
          ]
        },
        {
          "output_type": "stream",
          "name": "stdout",
          "text": [
            "| Epoch: 5/25 | Train: Loss 0.7183 Accuracy : 0.7880 | Val: Loss 0.6474 Accuracy : 0.8011\n",
            "\n",
            "\n",
            "Saving model... \n",
            "\n"
          ]
        },
        {
          "output_type": "stream",
          "name": "stderr",
          "text": [
            "\r 24%|██▍       | 6/25 [04:53<15:29, 48.90s/it]"
          ]
        },
        {
          "output_type": "stream",
          "name": "stdout",
          "text": [
            "| Epoch: 6/25 | Train: Loss 0.7019 Accuracy : 0.7920 | Val: Loss 0.6218 Accuracy : 0.8000\n",
            "\n",
            "\n",
            "Saving model... \n",
            "\n"
          ]
        },
        {
          "output_type": "stream",
          "name": "stderr",
          "text": [
            "\r 28%|██▊       | 7/25 [05:43<14:42, 49.01s/it]"
          ]
        },
        {
          "output_type": "stream",
          "name": "stdout",
          "text": [
            "| Epoch: 7/25 | Train: Loss 0.6871 Accuracy : 0.7965 | Val: Loss 0.6024 Accuracy : 0.8061\n",
            "\n",
            "\n",
            "Saving model... \n",
            "\n"
          ]
        },
        {
          "output_type": "stream",
          "name": "stderr",
          "text": [
            "\r 32%|███▏      | 8/25 [06:32<13:55, 49.15s/it]"
          ]
        },
        {
          "output_type": "stream",
          "name": "stdout",
          "text": [
            "| Epoch: 8/25 | Train: Loss 0.6814 Accuracy : 0.7976 | Val: Loss 0.5770 Accuracy : 0.8129\n",
            "\n"
          ]
        },
        {
          "output_type": "stream",
          "name": "stderr",
          "text": [
            "\r 36%|███▌      | 9/25 [07:21<13:05, 49.10s/it]"
          ]
        },
        {
          "output_type": "stream",
          "name": "stdout",
          "text": [
            "| Epoch: 9/25 | Train: Loss 0.6769 Accuracy : 0.8007 | Val: Loss 0.5999 Accuracy : 0.8128\n",
            "\n",
            "\n",
            "Saving model... \n",
            "\n"
          ]
        },
        {
          "output_type": "stream",
          "name": "stderr",
          "text": [
            "\r 40%|████      | 10/25 [08:10<12:15, 49.00s/it]"
          ]
        },
        {
          "output_type": "stream",
          "name": "stdout",
          "text": [
            "| Epoch: 10/25 | Train: Loss 0.6686 Accuracy : 0.8038 | Val: Loss 0.5707 Accuracy : 0.8208\n",
            "\n",
            "\n",
            "Saving model... \n",
            "\n"
          ]
        },
        {
          "output_type": "stream",
          "name": "stderr",
          "text": [
            "\r 44%|████▍     | 11/25 [08:58<11:24, 48.92s/it]"
          ]
        },
        {
          "output_type": "stream",
          "name": "stdout",
          "text": [
            "| Epoch: 11/25 | Train: Loss 0.6546 Accuracy : 0.8073 | Val: Loss 0.5680 Accuracy : 0.8203\n",
            "\n"
          ]
        },
        {
          "output_type": "stream",
          "name": "stderr",
          "text": [
            "\r 48%|████▊     | 12/25 [09:47<10:35, 48.88s/it]"
          ]
        },
        {
          "output_type": "stream",
          "name": "stdout",
          "text": [
            "| Epoch: 12/25 | Train: Loss 0.6617 Accuracy : 0.8058 | Val: Loss 0.5993 Accuracy : 0.8103\n",
            "\n"
          ]
        },
        {
          "output_type": "stream",
          "name": "stderr",
          "text": [
            "\r 52%|█████▏    | 13/25 [10:37<09:50, 49.19s/it]"
          ]
        },
        {
          "output_type": "stream",
          "name": "stdout",
          "text": [
            "| Epoch: 13/25 | Train: Loss 0.6557 Accuracy : 0.8054 | Val: Loss 0.5792 Accuracy : 0.8124\n",
            "\n"
          ]
        },
        {
          "output_type": "stream",
          "name": "stderr",
          "text": [
            "\r 56%|█████▌    | 14/25 [11:26<09:01, 49.22s/it]"
          ]
        },
        {
          "output_type": "stream",
          "name": "stdout",
          "text": [
            "| Epoch: 14/25 | Train: Loss 0.6464 Accuracy : 0.8076 | Val: Loss 0.5925 Accuracy : 0.8145\n",
            "\n"
          ]
        },
        {
          "output_type": "stream",
          "name": "stderr",
          "text": [
            "\r 56%|█████▌    | 14/25 [12:15<09:38, 52.56s/it]"
          ]
        },
        {
          "output_type": "stream",
          "name": "stdout",
          "text": [
            "| Epoch: 15/25 | Train: Loss 0.6535 Accuracy : 0.8077 | Val: Loss 0.5857 Accuracy : 0.8191\n",
            "\n"
          ]
        },
        {
          "output_type": "stream",
          "name": "stderr",
          "text": [
            "\n"
          ]
        },
        {
          "output_type": "stream",
          "name": "stdout",
          "text": [
            "Test accuracy: 0.8548 \n",
            "\n",
            "\n",
            "Saving final model... \n",
            "\n",
            "\n",
            "ITERATION 3\n",
            "\n"
          ]
        },
        {
          "output_type": "stream",
          "name": "stderr",
          "text": [
            "\r  0%|          | 0/25 [00:00<?, ?it/s]"
          ]
        },
        {
          "output_type": "stream",
          "name": "stdout",
          "text": [
            "\n",
            "Saving model... \n",
            "\n"
          ]
        },
        {
          "output_type": "stream",
          "name": "stderr",
          "text": [
            "\r  4%|▍         | 1/25 [00:49<19:36, 49.02s/it]"
          ]
        },
        {
          "output_type": "stream",
          "name": "stdout",
          "text": [
            "| Epoch: 1/25 | Train: Loss 0.7238 Accuracy : 0.7751 | Val: Loss 0.7306 Accuracy : 0.7602\n",
            "\n",
            "\n",
            "Saving model... \n",
            "\n"
          ]
        },
        {
          "output_type": "stream",
          "name": "stderr",
          "text": [
            "\r  8%|▊         | 2/25 [01:37<18:42, 48.81s/it]"
          ]
        },
        {
          "output_type": "stream",
          "name": "stdout",
          "text": [
            "| Epoch: 2/25 | Train: Loss 0.6348 Accuracy : 0.8044 | Val: Loss 0.6143 Accuracy : 0.8041\n",
            "\n",
            "\n",
            "Saving model... \n",
            "\n"
          ]
        },
        {
          "output_type": "stream",
          "name": "stderr",
          "text": [
            "\r 12%|█▏        | 3/25 [02:26<17:54, 48.86s/it]"
          ]
        },
        {
          "output_type": "stream",
          "name": "stdout",
          "text": [
            "| Epoch: 3/25 | Train: Loss 0.5990 Accuracy : 0.8166 | Val: Loss 0.5696 Accuracy : 0.8126\n",
            "\n",
            "\n",
            "Saving model... \n",
            "\n"
          ]
        },
        {
          "output_type": "stream",
          "name": "stderr",
          "text": [
            "\r 16%|█▌        | 4/25 [03:16<17:17, 49.39s/it]"
          ]
        },
        {
          "output_type": "stream",
          "name": "stdout",
          "text": [
            "| Epoch: 4/25 | Train: Loss 0.5820 Accuracy : 0.8257 | Val: Loss 0.5662 Accuracy : 0.8160\n",
            "\n",
            "\n",
            "Saving model... \n",
            "\n"
          ]
        },
        {
          "output_type": "stream",
          "name": "stderr",
          "text": [
            "\r 20%|██        | 5/25 [04:06<16:28, 49.43s/it]"
          ]
        },
        {
          "output_type": "stream",
          "name": "stdout",
          "text": [
            "| Epoch: 5/25 | Train: Loss 0.5594 Accuracy : 0.8307 | Val: Loss 0.5288 Accuracy : 0.8279\n",
            "\n"
          ]
        },
        {
          "output_type": "stream",
          "name": "stderr",
          "text": [
            "\r 24%|██▍       | 6/25 [04:55<15:40, 49.49s/it]"
          ]
        },
        {
          "output_type": "stream",
          "name": "stdout",
          "text": [
            "| Epoch: 6/25 | Train: Loss 0.5574 Accuracy : 0.8289 | Val: Loss 0.5406 Accuracy : 0.8264\n",
            "\n",
            "\n",
            "Saving model... \n",
            "\n"
          ]
        },
        {
          "output_type": "stream",
          "name": "stderr",
          "text": [
            "\r 28%|██▊       | 7/25 [05:45<14:48, 49.36s/it]"
          ]
        },
        {
          "output_type": "stream",
          "name": "stdout",
          "text": [
            "| Epoch: 7/25 | Train: Loss 0.5409 Accuracy : 0.8363 | Val: Loss 0.5002 Accuracy : 0.8402\n",
            "\n"
          ]
        },
        {
          "output_type": "stream",
          "name": "stderr",
          "text": [
            "\r 32%|███▏      | 8/25 [06:34<13:57, 49.26s/it]"
          ]
        },
        {
          "output_type": "stream",
          "name": "stdout",
          "text": [
            "| Epoch: 8/25 | Train: Loss 0.5311 Accuracy : 0.8408 | Val: Loss 0.5078 Accuracy : 0.8333\n",
            "\n"
          ]
        },
        {
          "output_type": "stream",
          "name": "stderr",
          "text": [
            "\r 36%|███▌      | 9/25 [07:23<13:07, 49.21s/it]"
          ]
        },
        {
          "output_type": "stream",
          "name": "stdout",
          "text": [
            "| Epoch: 9/25 | Train: Loss 0.5229 Accuracy : 0.8424 | Val: Loss 0.5229 Accuracy : 0.8301\n",
            "\n",
            "\n",
            "Saving model... \n",
            "\n"
          ]
        },
        {
          "output_type": "stream",
          "name": "stderr",
          "text": [
            "\r 40%|████      | 10/25 [08:12<12:19, 49.32s/it]"
          ]
        },
        {
          "output_type": "stream",
          "name": "stdout",
          "text": [
            "| Epoch: 10/25 | Train: Loss 0.5178 Accuracy : 0.8448 | Val: Loss 0.5001 Accuracy : 0.8425\n",
            "\n",
            "\n",
            "Saving model... \n",
            "\n"
          ]
        },
        {
          "output_type": "stream",
          "name": "stderr",
          "text": [
            "\r 44%|████▍     | 11/25 [09:02<11:30, 49.33s/it]"
          ]
        },
        {
          "output_type": "stream",
          "name": "stdout",
          "text": [
            "| Epoch: 11/25 | Train: Loss 0.5046 Accuracy : 0.8480 | Val: Loss 0.4939 Accuracy : 0.8376\n",
            "\n"
          ]
        },
        {
          "output_type": "stream",
          "name": "stderr",
          "text": [
            "\r 48%|████▊     | 12/25 [09:51<10:39, 49.22s/it]"
          ]
        },
        {
          "output_type": "stream",
          "name": "stdout",
          "text": [
            "| Epoch: 12/25 | Train: Loss 0.5056 Accuracy : 0.8469 | Val: Loss 0.5109 Accuracy : 0.8342\n",
            "\n"
          ]
        },
        {
          "output_type": "stream",
          "name": "stderr",
          "text": [
            "\r 52%|█████▏    | 13/25 [10:39<09:49, 49.12s/it]"
          ]
        },
        {
          "output_type": "stream",
          "name": "stdout",
          "text": [
            "| Epoch: 13/25 | Train: Loss 0.4959 Accuracy : 0.8493 | Val: Loss 0.5119 Accuracy : 0.8349\n",
            "\n"
          ]
        },
        {
          "output_type": "stream",
          "name": "stderr",
          "text": [
            "\r 56%|█████▌    | 14/25 [11:28<08:59, 49.09s/it]"
          ]
        },
        {
          "output_type": "stream",
          "name": "stdout",
          "text": [
            "| Epoch: 14/25 | Train: Loss 0.4973 Accuracy : 0.8497 | Val: Loss 0.5047 Accuracy : 0.8356\n",
            "\n",
            "\n",
            "Saving model... \n",
            "\n"
          ]
        },
        {
          "output_type": "stream",
          "name": "stderr",
          "text": [
            "\r 60%|██████    | 15/25 [12:17<08:10, 49.05s/it]"
          ]
        },
        {
          "output_type": "stream",
          "name": "stdout",
          "text": [
            "| Epoch: 15/25 | Train: Loss 0.4977 Accuracy : 0.8498 | Val: Loss 0.4922 Accuracy : 0.8383\n",
            "\n"
          ]
        },
        {
          "output_type": "stream",
          "name": "stderr",
          "text": [
            "\r 64%|██████▍   | 16/25 [13:07<07:23, 49.33s/it]"
          ]
        },
        {
          "output_type": "stream",
          "name": "stdout",
          "text": [
            "| Epoch: 16/25 | Train: Loss 0.4918 Accuracy : 0.8522 | Val: Loss 0.4978 Accuracy : 0.8419\n",
            "\n"
          ]
        },
        {
          "output_type": "stream",
          "name": "stderr",
          "text": [
            "\r 68%|██████▊   | 17/25 [13:57<06:34, 49.29s/it]"
          ]
        },
        {
          "output_type": "stream",
          "name": "stdout",
          "text": [
            "| Epoch: 17/25 | Train: Loss 0.4787 Accuracy : 0.8570 | Val: Loss 0.4956 Accuracy : 0.8438\n",
            "\n",
            "\n",
            "Saving model... \n",
            "\n"
          ]
        },
        {
          "output_type": "stream",
          "name": "stderr",
          "text": [
            "\r 72%|███████▏  | 18/25 [14:46<05:45, 49.35s/it]"
          ]
        },
        {
          "output_type": "stream",
          "name": "stdout",
          "text": [
            "| Epoch: 18/25 | Train: Loss 0.4820 Accuracy : 0.8544 | Val: Loss 0.4912 Accuracy : 0.8400\n",
            "\n"
          ]
        },
        {
          "output_type": "stream",
          "name": "stderr",
          "text": [
            "\r 76%|███████▌  | 19/25 [15:36<04:56, 49.38s/it]"
          ]
        },
        {
          "output_type": "stream",
          "name": "stdout",
          "text": [
            "| Epoch: 19/25 | Train: Loss 0.4814 Accuracy : 0.8585 | Val: Loss 0.4975 Accuracy : 0.8423\n",
            "\n"
          ]
        },
        {
          "output_type": "stream",
          "name": "stderr",
          "text": [
            "\r 80%|████████  | 20/25 [16:25<04:06, 49.26s/it]"
          ]
        },
        {
          "output_type": "stream",
          "name": "stdout",
          "text": [
            "| Epoch: 20/25 | Train: Loss 0.4708 Accuracy : 0.8601 | Val: Loss 0.5073 Accuracy : 0.8371\n",
            "\n"
          ]
        },
        {
          "output_type": "stream",
          "name": "stderr",
          "text": [
            "\r 84%|████████▍ | 21/25 [17:14<03:17, 49.47s/it]"
          ]
        },
        {
          "output_type": "stream",
          "name": "stdout",
          "text": [
            "| Epoch: 21/25 | Train: Loss 0.4831 Accuracy : 0.8570 | Val: Loss 0.4970 Accuracy : 0.8452\n",
            "\n",
            "\n",
            "Saving model... \n",
            "\n"
          ]
        },
        {
          "output_type": "stream",
          "name": "stderr",
          "text": [
            "\r 88%|████████▊ | 22/25 [18:04<02:28, 49.39s/it]"
          ]
        },
        {
          "output_type": "stream",
          "name": "stdout",
          "text": [
            "| Epoch: 22/25 | Train: Loss 0.4700 Accuracy : 0.8580 | Val: Loss 0.4821 Accuracy : 0.8476\n",
            "\n",
            "\n",
            "Saving model... \n",
            "\n"
          ]
        },
        {
          "output_type": "stream",
          "name": "stderr",
          "text": [
            "\r 92%|█████████▏| 23/25 [18:53<01:38, 49.27s/it]"
          ]
        },
        {
          "output_type": "stream",
          "name": "stdout",
          "text": [
            "| Epoch: 23/25 | Train: Loss 0.4664 Accuracy : 0.8602 | Val: Loss 0.4746 Accuracy : 0.8486\n",
            "\n"
          ]
        },
        {
          "output_type": "stream",
          "name": "stderr",
          "text": [
            "\r 96%|█████████▌| 24/25 [19:42<00:49, 49.38s/it]"
          ]
        },
        {
          "output_type": "stream",
          "name": "stdout",
          "text": [
            "| Epoch: 24/25 | Train: Loss 0.4905 Accuracy : 0.8533 | Val: Loss 0.5088 Accuracy : 0.8363\n",
            "\n"
          ]
        },
        {
          "output_type": "stream",
          "name": "stderr",
          "text": [
            "100%|██████████| 25/25 [20:32<00:00, 49.30s/it]"
          ]
        },
        {
          "output_type": "stream",
          "name": "stdout",
          "text": [
            "| Epoch: 25/25 | Train: Loss 0.4683 Accuracy : 0.8595 | Val: Loss 0.4938 Accuracy : 0.8450\n",
            "\n"
          ]
        },
        {
          "output_type": "stream",
          "name": "stderr",
          "text": [
            "\n"
          ]
        },
        {
          "output_type": "stream",
          "name": "stdout",
          "text": [
            "Test accuracy: 0.8783 \n",
            "\n",
            "\n",
            "Saving final model... \n",
            "\n",
            "\n",
            "ITERATION 4\n",
            "\n"
          ]
        },
        {
          "output_type": "stream",
          "name": "stderr",
          "text": [
            "\r  0%|          | 0/25 [00:00<?, ?it/s]"
          ]
        },
        {
          "output_type": "stream",
          "name": "stdout",
          "text": [
            "\n",
            "Saving model... \n",
            "\n"
          ]
        },
        {
          "output_type": "stream",
          "name": "stderr",
          "text": [
            "\r  4%|▍         | 1/25 [00:50<20:02, 50.12s/it]"
          ]
        },
        {
          "output_type": "stream",
          "name": "stdout",
          "text": [
            "| Epoch: 1/25 | Train: Loss 0.6632 Accuracy : 0.7947 | Val: Loss 0.6925 Accuracy : 0.7701\n",
            "\n",
            "\n",
            "Saving model... \n",
            "\n"
          ]
        },
        {
          "output_type": "stream",
          "name": "stderr",
          "text": [
            "\r  8%|▊         | 2/25 [01:39<18:59, 49.54s/it]"
          ]
        },
        {
          "output_type": "stream",
          "name": "stdout",
          "text": [
            "| Epoch: 2/25 | Train: Loss 0.5667 Accuracy : 0.8245 | Val: Loss 0.5919 Accuracy : 0.8056\n",
            "\n",
            "\n",
            "Saving model... \n",
            "\n"
          ]
        },
        {
          "output_type": "stream",
          "name": "stderr",
          "text": [
            "\r 12%|█▏        | 3/25 [02:28<18:09, 49.54s/it]"
          ]
        },
        {
          "output_type": "stream",
          "name": "stdout",
          "text": [
            "| Epoch: 3/25 | Train: Loss 0.5253 Accuracy : 0.8377 | Val: Loss 0.5578 Accuracy : 0.8149\n",
            "\n"
          ]
        },
        {
          "output_type": "stream",
          "name": "stderr",
          "text": [
            "\r 16%|█▌        | 4/25 [03:18<17:19, 49.51s/it]"
          ]
        },
        {
          "output_type": "stream",
          "name": "stdout",
          "text": [
            "| Epoch: 4/25 | Train: Loss 0.5049 Accuracy : 0.8407 | Val: Loss 0.5626 Accuracy : 0.8184\n",
            "\n",
            "\n",
            "Saving model... \n",
            "\n"
          ]
        },
        {
          "output_type": "stream",
          "name": "stderr",
          "text": [
            "\r 20%|██        | 5/25 [04:07<16:29, 49.47s/it]"
          ]
        },
        {
          "output_type": "stream",
          "name": "stdout",
          "text": [
            "| Epoch: 5/25 | Train: Loss 0.4763 Accuracy : 0.8560 | Val: Loss 0.4913 Accuracy : 0.8412\n",
            "\n"
          ]
        },
        {
          "output_type": "stream",
          "name": "stderr",
          "text": [
            "\r 24%|██▍       | 6/25 [04:57<15:43, 49.63s/it]"
          ]
        },
        {
          "output_type": "stream",
          "name": "stdout",
          "text": [
            "| Epoch: 6/25 | Train: Loss 0.4782 Accuracy : 0.8526 | Val: Loss 0.5205 Accuracy : 0.8277\n",
            "\n"
          ]
        },
        {
          "output_type": "stream",
          "name": "stderr",
          "text": [
            "\r 28%|██▊       | 7/25 [05:46<14:51, 49.52s/it]"
          ]
        },
        {
          "output_type": "stream",
          "name": "stdout",
          "text": [
            "| Epoch: 7/25 | Train: Loss 0.4645 Accuracy : 0.8601 | Val: Loss 0.4998 Accuracy : 0.8375\n",
            "\n",
            "\n",
            "Saving model... \n",
            "\n"
          ]
        },
        {
          "output_type": "stream",
          "name": "stderr",
          "text": [
            "\r 32%|███▏      | 8/25 [06:36<14:02, 49.59s/it]"
          ]
        },
        {
          "output_type": "stream",
          "name": "stdout",
          "text": [
            "| Epoch: 8/25 | Train: Loss 0.4496 Accuracy : 0.8649 | Val: Loss 0.4796 Accuracy : 0.8437\n",
            "\n"
          ]
        },
        {
          "output_type": "stream",
          "name": "stderr",
          "text": [
            "\r 36%|███▌      | 9/25 [07:25<13:11, 49.46s/it]"
          ]
        },
        {
          "output_type": "stream",
          "name": "stdout",
          "text": [
            "| Epoch: 9/25 | Train: Loss 0.4468 Accuracy : 0.8629 | Val: Loss 0.4980 Accuracy : 0.8358\n",
            "\n",
            "\n",
            "Saving model... \n",
            "\n"
          ]
        },
        {
          "output_type": "stream",
          "name": "stderr",
          "text": [
            "\r 40%|████      | 10/25 [08:15<12:23, 49.55s/it]"
          ]
        },
        {
          "output_type": "stream",
          "name": "stdout",
          "text": [
            "| Epoch: 10/25 | Train: Loss 0.4365 Accuracy : 0.8685 | Val: Loss 0.4583 Accuracy : 0.8518\n",
            "\n"
          ]
        },
        {
          "output_type": "stream",
          "name": "stderr",
          "text": [
            "\r 44%|████▍     | 11/25 [09:05<11:35, 49.71s/it]"
          ]
        },
        {
          "output_type": "stream",
          "name": "stdout",
          "text": [
            "| Epoch: 11/25 | Train: Loss 0.4223 Accuracy : 0.8736 | Val: Loss 0.4678 Accuracy : 0.8481\n",
            "\n"
          ]
        },
        {
          "output_type": "stream",
          "name": "stderr",
          "text": [
            "\r 48%|████▊     | 12/25 [09:54<10:43, 49.52s/it]"
          ]
        },
        {
          "output_type": "stream",
          "name": "stdout",
          "text": [
            "| Epoch: 12/25 | Train: Loss 0.4220 Accuracy : 0.8724 | Val: Loss 0.4601 Accuracy : 0.8523\n",
            "\n",
            "\n",
            "Saving model... \n",
            "\n"
          ]
        },
        {
          "output_type": "stream",
          "name": "stderr",
          "text": [
            "\r 52%|█████▏    | 13/25 [10:44<09:54, 49.58s/it]"
          ]
        },
        {
          "output_type": "stream",
          "name": "stdout",
          "text": [
            "| Epoch: 13/25 | Train: Loss 0.4169 Accuracy : 0.8740 | Val: Loss 0.4579 Accuracy : 0.8479\n",
            "\n"
          ]
        },
        {
          "output_type": "stream",
          "name": "stderr",
          "text": [
            "\r 56%|█████▌    | 14/25 [11:33<09:04, 49.51s/it]"
          ]
        },
        {
          "output_type": "stream",
          "name": "stdout",
          "text": [
            "| Epoch: 14/25 | Train: Loss 0.4208 Accuracy : 0.8736 | Val: Loss 0.4736 Accuracy : 0.8503\n",
            "\n",
            "\n",
            "Saving model... \n",
            "\n"
          ]
        },
        {
          "output_type": "stream",
          "name": "stderr",
          "text": [
            "\r 60%|██████    | 15/25 [12:23<08:14, 49.42s/it]"
          ]
        },
        {
          "output_type": "stream",
          "name": "stdout",
          "text": [
            "| Epoch: 15/25 | Train: Loss 0.4114 Accuracy : 0.8744 | Val: Loss 0.4316 Accuracy : 0.8586\n",
            "\n"
          ]
        },
        {
          "output_type": "stream",
          "name": "stderr",
          "text": [
            "\r 64%|██████▍   | 16/25 [13:12<07:25, 49.52s/it]"
          ]
        },
        {
          "output_type": "stream",
          "name": "stdout",
          "text": [
            "| Epoch: 16/25 | Train: Loss 0.4154 Accuracy : 0.8777 | Val: Loss 0.4592 Accuracy : 0.8546\n",
            "\n"
          ]
        },
        {
          "output_type": "stream",
          "name": "stderr",
          "text": [
            "\r 68%|██████▊   | 17/25 [14:02<06:35, 49.47s/it]"
          ]
        },
        {
          "output_type": "stream",
          "name": "stdout",
          "text": [
            "| Epoch: 17/25 | Train: Loss 0.4103 Accuracy : 0.8778 | Val: Loss 0.4716 Accuracy : 0.8448\n",
            "\n"
          ]
        },
        {
          "output_type": "stream",
          "name": "stderr",
          "text": [
            "\r 72%|███████▏  | 18/25 [14:51<05:45, 49.41s/it]"
          ]
        },
        {
          "output_type": "stream",
          "name": "stdout",
          "text": [
            "| Epoch: 18/25 | Train: Loss 0.4054 Accuracy : 0.8781 | Val: Loss 0.4424 Accuracy : 0.8533\n",
            "\n"
          ]
        },
        {
          "output_type": "stream",
          "name": "stderr",
          "text": [
            "\r 72%|███████▏  | 18/25 [15:41<06:05, 52.28s/it]"
          ]
        },
        {
          "output_type": "stream",
          "name": "stdout",
          "text": [
            "| Epoch: 19/25 | Train: Loss 0.3964 Accuracy : 0.8798 | Val: Loss 0.4541 Accuracy : 0.8515\n",
            "\n"
          ]
        },
        {
          "output_type": "stream",
          "name": "stderr",
          "text": [
            "\n"
          ]
        },
        {
          "output_type": "stream",
          "name": "stdout",
          "text": [
            "Test accuracy: 0.8902 \n",
            "\n",
            "\n",
            "Saving final model... \n",
            "\n",
            "\n",
            "ITERATION 5\n",
            "\n"
          ]
        },
        {
          "output_type": "stream",
          "name": "stderr",
          "text": [
            "\r  0%|          | 0/25 [00:00<?, ?it/s]"
          ]
        },
        {
          "output_type": "stream",
          "name": "stdout",
          "text": [
            "\n",
            "Saving model... \n",
            "\n"
          ]
        },
        {
          "output_type": "stream",
          "name": "stderr",
          "text": [
            "\r  4%|▍         | 1/25 [00:49<19:57, 49.91s/it]"
          ]
        },
        {
          "output_type": "stream",
          "name": "stdout",
          "text": [
            "| Epoch: 1/25 | Train: Loss 0.6521 Accuracy : 0.8022 | Val: Loss 0.6486 Accuracy : 0.7883\n",
            "\n",
            "\n",
            "Saving model... \n",
            "\n"
          ]
        },
        {
          "output_type": "stream",
          "name": "stderr",
          "text": [
            "\r  8%|▊         | 2/25 [01:40<19:22, 50.53s/it]"
          ]
        },
        {
          "output_type": "stream",
          "name": "stdout",
          "text": [
            "| Epoch: 2/25 | Train: Loss 0.5662 Accuracy : 0.8271 | Val: Loss 0.5390 Accuracy : 0.8244\n",
            "\n",
            "\n",
            "Saving model... \n",
            "\n"
          ]
        },
        {
          "output_type": "stream",
          "name": "stderr",
          "text": [
            "\r 12%|█▏        | 3/25 [02:30<18:23, 50.15s/it]"
          ]
        },
        {
          "output_type": "stream",
          "name": "stdout",
          "text": [
            "| Epoch: 3/25 | Train: Loss 0.5351 Accuracy : 0.8366 | Val: Loss 0.5386 Accuracy : 0.8259\n",
            "\n",
            "\n",
            "Saving model... \n",
            "\n"
          ]
        },
        {
          "output_type": "stream",
          "name": "stderr",
          "text": [
            "\r 16%|█▌        | 4/25 [03:20<17:30, 50.01s/it]"
          ]
        },
        {
          "output_type": "stream",
          "name": "stdout",
          "text": [
            "| Epoch: 4/25 | Train: Loss 0.5052 Accuracy : 0.8465 | Val: Loss 0.4801 Accuracy : 0.8479\n",
            "\n"
          ]
        },
        {
          "output_type": "stream",
          "name": "stderr",
          "text": [
            "\r 20%|██        | 5/25 [04:09<16:37, 49.86s/it]"
          ]
        },
        {
          "output_type": "stream",
          "name": "stdout",
          "text": [
            "| Epoch: 5/25 | Train: Loss 0.4882 Accuracy : 0.8525 | Val: Loss 0.4809 Accuracy : 0.8477\n",
            "\n",
            "\n",
            "Saving model... \n",
            "\n"
          ]
        },
        {
          "output_type": "stream",
          "name": "stderr",
          "text": [
            "\r 24%|██▍       | 6/25 [04:59<15:45, 49.75s/it]"
          ]
        },
        {
          "output_type": "stream",
          "name": "stdout",
          "text": [
            "| Epoch: 6/25 | Train: Loss 0.4867 Accuracy : 0.8539 | Val: Loss 0.4679 Accuracy : 0.8500\n",
            "\n",
            "\n",
            "Saving model... \n",
            "\n"
          ]
        },
        {
          "output_type": "stream",
          "name": "stderr",
          "text": [
            "\r 28%|██▊       | 7/25 [05:48<14:52, 49.57s/it]"
          ]
        },
        {
          "output_type": "stream",
          "name": "stdout",
          "text": [
            "| Epoch: 7/25 | Train: Loss 0.4578 Accuracy : 0.8627 | Val: Loss 0.4532 Accuracy : 0.8549\n",
            "\n",
            "\n",
            "Saving model... \n",
            "\n"
          ]
        },
        {
          "output_type": "stream",
          "name": "stderr",
          "text": [
            "\r 32%|███▏      | 8/25 [06:37<14:00, 49.46s/it]"
          ]
        },
        {
          "output_type": "stream",
          "name": "stdout",
          "text": [
            "| Epoch: 8/25 | Train: Loss 0.4677 Accuracy : 0.8585 | Val: Loss 0.4398 Accuracy : 0.8619\n",
            "\n"
          ]
        },
        {
          "output_type": "stream",
          "name": "stderr",
          "text": [
            "\r 36%|███▌      | 9/25 [07:27<13:10, 49.43s/it]"
          ]
        },
        {
          "output_type": "stream",
          "name": "stdout",
          "text": [
            "| Epoch: 9/25 | Train: Loss 0.4481 Accuracy : 0.8675 | Val: Loss 0.4627 Accuracy : 0.8513\n",
            "\n"
          ]
        },
        {
          "output_type": "stream",
          "name": "stderr",
          "text": [
            "\r 40%|████      | 10/25 [08:17<12:23, 49.59s/it]"
          ]
        },
        {
          "output_type": "stream",
          "name": "stdout",
          "text": [
            "| Epoch: 10/25 | Train: Loss 0.4471 Accuracy : 0.8657 | Val: Loss 0.4404 Accuracy : 0.8588\n",
            "\n",
            "\n",
            "Saving model... \n",
            "\n"
          ]
        },
        {
          "output_type": "stream",
          "name": "stderr",
          "text": [
            "\r 44%|████▍     | 11/25 [09:07<11:36, 49.72s/it]"
          ]
        },
        {
          "output_type": "stream",
          "name": "stdout",
          "text": [
            "| Epoch: 11/25 | Train: Loss 0.4433 Accuracy : 0.8671 | Val: Loss 0.4260 Accuracy : 0.8641\n",
            "\n",
            "\n",
            "Saving model... \n",
            "\n"
          ]
        },
        {
          "output_type": "stream",
          "name": "stderr",
          "text": [
            "\r 48%|████▊     | 12/25 [09:56<10:45, 49.66s/it]"
          ]
        },
        {
          "output_type": "stream",
          "name": "stdout",
          "text": [
            "| Epoch: 12/25 | Train: Loss 0.4206 Accuracy : 0.8735 | Val: Loss 0.4225 Accuracy : 0.8647\n",
            "\n",
            "\n",
            "Saving model... \n",
            "\n"
          ]
        },
        {
          "output_type": "stream",
          "name": "stderr",
          "text": [
            "\r 52%|█████▏    | 13/25 [10:47<10:01, 50.12s/it]"
          ]
        },
        {
          "output_type": "stream",
          "name": "stdout",
          "text": [
            "| Epoch: 13/25 | Train: Loss 0.4181 Accuracy : 0.8752 | Val: Loss 0.4183 Accuracy : 0.8707\n",
            "\n",
            "\n",
            "Saving model... \n",
            "\n"
          ]
        },
        {
          "output_type": "stream",
          "name": "stderr",
          "text": [
            "\r 56%|█████▌    | 14/25 [11:38<09:13, 50.33s/it]"
          ]
        },
        {
          "output_type": "stream",
          "name": "stdout",
          "text": [
            "| Epoch: 14/25 | Train: Loss 0.4189 Accuracy : 0.8756 | Val: Loss 0.4163 Accuracy : 0.8642\n",
            "\n",
            "\n",
            "Saving model... \n",
            "\n"
          ]
        },
        {
          "output_type": "stream",
          "name": "stderr",
          "text": [
            "\r 60%|██████    | 15/25 [12:30<08:27, 50.74s/it]"
          ]
        },
        {
          "output_type": "stream",
          "name": "stdout",
          "text": [
            "| Epoch: 15/25 | Train: Loss 0.4260 Accuracy : 0.8728 | Val: Loss 0.4110 Accuracy : 0.8727\n",
            "\n"
          ]
        },
        {
          "output_type": "stream",
          "name": "stderr",
          "text": [
            "\r 64%|██████▍   | 16/25 [13:21<07:38, 50.90s/it]"
          ]
        },
        {
          "output_type": "stream",
          "name": "stdout",
          "text": [
            "| Epoch: 16/25 | Train: Loss 0.4179 Accuracy : 0.8766 | Val: Loss 0.4269 Accuracy : 0.8661\n",
            "\n",
            "\n",
            "Saving model... \n",
            "\n"
          ]
        },
        {
          "output_type": "stream",
          "name": "stderr",
          "text": [
            "\r 68%|██████▊   | 17/25 [14:12<06:47, 50.90s/it]"
          ]
        },
        {
          "output_type": "stream",
          "name": "stdout",
          "text": [
            "| Epoch: 17/25 | Train: Loss 0.4053 Accuracy : 0.8801 | Val: Loss 0.4079 Accuracy : 0.8716\n",
            "\n"
          ]
        },
        {
          "output_type": "stream",
          "name": "stderr",
          "text": [
            "\r 72%|███████▏  | 18/25 [15:05<05:59, 51.36s/it]"
          ]
        },
        {
          "output_type": "stream",
          "name": "stdout",
          "text": [
            "| Epoch: 18/25 | Train: Loss 0.3997 Accuracy : 0.8815 | Val: Loss 0.4161 Accuracy : 0.8677\n",
            "\n",
            "\n",
            "Saving model... \n",
            "\n"
          ]
        },
        {
          "output_type": "stream",
          "name": "stderr",
          "text": [
            "\r 76%|███████▌  | 19/25 [15:56<05:08, 51.47s/it]"
          ]
        },
        {
          "output_type": "stream",
          "name": "stdout",
          "text": [
            "| Epoch: 19/25 | Train: Loss 0.4007 Accuracy : 0.8809 | Val: Loss 0.3905 Accuracy : 0.8755\n",
            "\n"
          ]
        },
        {
          "output_type": "stream",
          "name": "stderr",
          "text": [
            "\r 80%|████████  | 20/25 [16:48<04:18, 51.61s/it]"
          ]
        },
        {
          "output_type": "stream",
          "name": "stdout",
          "text": [
            "| Epoch: 20/25 | Train: Loss 0.3909 Accuracy : 0.8843 | Val: Loss 0.3946 Accuracy : 0.8706\n",
            "\n"
          ]
        },
        {
          "output_type": "stream",
          "name": "stderr",
          "text": [
            "\r 84%|████████▍ | 21/25 [17:40<03:26, 51.72s/it]"
          ]
        },
        {
          "output_type": "stream",
          "name": "stdout",
          "text": [
            "| Epoch: 21/25 | Train: Loss 0.4077 Accuracy : 0.8812 | Val: Loss 0.4164 Accuracy : 0.8667\n",
            "\n"
          ]
        },
        {
          "output_type": "stream",
          "name": "stderr",
          "text": [
            "\r 88%|████████▊ | 22/25 [18:31<02:34, 51.52s/it]"
          ]
        },
        {
          "output_type": "stream",
          "name": "stdout",
          "text": [
            "| Epoch: 22/25 | Train: Loss 0.3989 Accuracy : 0.8823 | Val: Loss 0.4070 Accuracy : 0.8691\n",
            "\n"
          ]
        },
        {
          "output_type": "stream",
          "name": "stderr",
          "text": [
            "\r 88%|████████▊ | 22/25 [19:22<02:38, 52.83s/it]"
          ]
        },
        {
          "output_type": "stream",
          "name": "stdout",
          "text": [
            "| Epoch: 23/25 | Train: Loss 0.3785 Accuracy : 0.8875 | Val: Loss 0.4043 Accuracy : 0.8700\n",
            "\n"
          ]
        },
        {
          "output_type": "stream",
          "name": "stderr",
          "text": [
            "\n"
          ]
        },
        {
          "output_type": "stream",
          "name": "stdout",
          "text": [
            "Test accuracy: 0.9102 \n",
            "\n",
            "\n",
            "Saving final model... \n",
            "\n",
            "\n",
            "ITERATION 6\n",
            "\n"
          ]
        },
        {
          "output_type": "stream",
          "name": "stderr",
          "text": [
            "\r  0%|          | 0/25 [00:00<?, ?it/s]"
          ]
        },
        {
          "output_type": "stream",
          "name": "stdout",
          "text": [
            "\n",
            "Saving model... \n",
            "\n"
          ]
        },
        {
          "output_type": "stream",
          "name": "stderr",
          "text": [
            "\r  4%|▍         | 1/25 [00:50<20:22, 50.93s/it]"
          ]
        },
        {
          "output_type": "stream",
          "name": "stdout",
          "text": [
            "| Epoch: 1/25 | Train: Loss 0.6262 Accuracy : 0.8093 | Val: Loss 0.5998 Accuracy : 0.8134\n",
            "\n",
            "\n",
            "Saving model... \n",
            "\n"
          ]
        },
        {
          "output_type": "stream",
          "name": "stderr",
          "text": [
            "\r  8%|▊         | 2/25 [01:41<19:31, 50.94s/it]"
          ]
        },
        {
          "output_type": "stream",
          "name": "stdout",
          "text": [
            "| Epoch: 2/25 | Train: Loss 0.5622 Accuracy : 0.8286 | Val: Loss 0.4898 Accuracy : 0.8449\n",
            "\n",
            "\n",
            "Saving model... \n",
            "\n"
          ]
        },
        {
          "output_type": "stream",
          "name": "stderr",
          "text": [
            "\r 12%|█▏        | 3/25 [02:31<18:32, 50.56s/it]"
          ]
        },
        {
          "output_type": "stream",
          "name": "stdout",
          "text": [
            "| Epoch: 3/25 | Train: Loss 0.5017 Accuracy : 0.8518 | Val: Loss 0.4492 Accuracy : 0.8561\n",
            "\n",
            "\n",
            "Saving model... \n",
            "\n"
          ]
        },
        {
          "output_type": "stream",
          "name": "stderr",
          "text": [
            "\r 16%|█▌        | 4/25 [03:23<17:49, 50.91s/it]"
          ]
        },
        {
          "output_type": "stream",
          "name": "stdout",
          "text": [
            "| Epoch: 4/25 | Train: Loss 0.4801 Accuracy : 0.8565 | Val: Loss 0.4372 Accuracy : 0.8595\n",
            "\n",
            "\n",
            "Saving model... \n",
            "\n"
          ]
        },
        {
          "output_type": "stream",
          "name": "stderr",
          "text": [
            "\r 20%|██        | 5/25 [04:13<16:54, 50.75s/it]"
          ]
        },
        {
          "output_type": "stream",
          "name": "stdout",
          "text": [
            "| Epoch: 5/25 | Train: Loss 0.4517 Accuracy : 0.8659 | Val: Loss 0.4230 Accuracy : 0.8627\n",
            "\n",
            "\n",
            "Saving model... \n",
            "\n"
          ]
        },
        {
          "output_type": "stream",
          "name": "stderr",
          "text": [
            "\r 24%|██▍       | 6/25 [05:04<16:03, 50.69s/it]"
          ]
        },
        {
          "output_type": "stream",
          "name": "stdout",
          "text": [
            "| Epoch: 6/25 | Train: Loss 0.4490 Accuracy : 0.8661 | Val: Loss 0.4199 Accuracy : 0.8668\n",
            "\n",
            "\n",
            "Saving model... \n",
            "\n"
          ]
        },
        {
          "output_type": "stream",
          "name": "stderr",
          "text": [
            "\r 28%|██▊       | 7/25 [05:54<15:09, 50.51s/it]"
          ]
        },
        {
          "output_type": "stream",
          "name": "stdout",
          "text": [
            "| Epoch: 7/25 | Train: Loss 0.4349 Accuracy : 0.8709 | Val: Loss 0.4026 Accuracy : 0.8740\n",
            "\n",
            "\n",
            "Saving model... \n",
            "\n"
          ]
        },
        {
          "output_type": "stream",
          "name": "stderr",
          "text": [
            "\r 32%|███▏      | 8/25 [06:45<14:21, 50.66s/it]"
          ]
        },
        {
          "output_type": "stream",
          "name": "stdout",
          "text": [
            "| Epoch: 8/25 | Train: Loss 0.4301 Accuracy : 0.8751 | Val: Loss 0.3976 Accuracy : 0.8730\n",
            "\n"
          ]
        },
        {
          "output_type": "stream",
          "name": "stderr",
          "text": [
            "\r 36%|███▌      | 9/25 [07:35<13:27, 50.47s/it]"
          ]
        },
        {
          "output_type": "stream",
          "name": "stdout",
          "text": [
            "| Epoch: 9/25 | Train: Loss 0.4183 Accuracy : 0.8763 | Val: Loss 0.4016 Accuracy : 0.8730\n",
            "\n",
            "\n",
            "Saving model... \n",
            "\n"
          ]
        },
        {
          "output_type": "stream",
          "name": "stderr",
          "text": [
            "\r 40%|████      | 10/25 [08:26<12:36, 50.45s/it]"
          ]
        },
        {
          "output_type": "stream",
          "name": "stdout",
          "text": [
            "| Epoch: 10/25 | Train: Loss 0.4106 Accuracy : 0.8783 | Val: Loss 0.3797 Accuracy : 0.8741\n",
            "\n",
            "\n",
            "Saving model... \n",
            "\n"
          ]
        },
        {
          "output_type": "stream",
          "name": "stderr",
          "text": [
            "\r 44%|████▍     | 11/25 [09:16<11:44, 50.33s/it]"
          ]
        },
        {
          "output_type": "stream",
          "name": "stdout",
          "text": [
            "| Epoch: 11/25 | Train: Loss 0.4087 Accuracy : 0.8800 | Val: Loss 0.3773 Accuracy : 0.8783\n",
            "\n"
          ]
        },
        {
          "output_type": "stream",
          "name": "stderr",
          "text": [
            "\r 48%|████▊     | 12/25 [10:06<10:56, 50.47s/it]"
          ]
        },
        {
          "output_type": "stream",
          "name": "stdout",
          "text": [
            "| Epoch: 12/25 | Train: Loss 0.4699 Accuracy : 0.8683 | Val: Loss 0.4388 Accuracy : 0.8706\n",
            "\n",
            "\n",
            "Saving model... \n",
            "\n"
          ]
        },
        {
          "output_type": "stream",
          "name": "stderr",
          "text": [
            "\r 52%|█████▏    | 13/25 [10:57<10:04, 50.37s/it]"
          ]
        },
        {
          "output_type": "stream",
          "name": "stdout",
          "text": [
            "| Epoch: 13/25 | Train: Loss 0.3970 Accuracy : 0.8842 | Val: Loss 0.3624 Accuracy : 0.8818\n",
            "\n",
            "\n",
            "Saving model... \n",
            "\n"
          ]
        },
        {
          "output_type": "stream",
          "name": "stderr",
          "text": [
            "\r 56%|█████▌    | 14/25 [11:47<09:14, 50.40s/it]"
          ]
        },
        {
          "output_type": "stream",
          "name": "stdout",
          "text": [
            "| Epoch: 14/25 | Train: Loss 0.3945 Accuracy : 0.8843 | Val: Loss 0.3622 Accuracy : 0.8882\n",
            "\n"
          ]
        },
        {
          "output_type": "stream",
          "name": "stderr",
          "text": [
            "\r 60%|██████    | 15/25 [12:37<08:23, 50.39s/it]"
          ]
        },
        {
          "output_type": "stream",
          "name": "stdout",
          "text": [
            "| Epoch: 15/25 | Train: Loss 0.3890 Accuracy : 0.8869 | Val: Loss 0.3623 Accuracy : 0.8858\n",
            "\n",
            "\n",
            "Saving model... \n",
            "\n"
          ]
        },
        {
          "output_type": "stream",
          "name": "stderr",
          "text": [
            "\r 64%|██████▍   | 16/25 [13:28<07:35, 50.58s/it]"
          ]
        },
        {
          "output_type": "stream",
          "name": "stdout",
          "text": [
            "| Epoch: 16/25 | Train: Loss 0.3841 Accuracy : 0.8891 | Val: Loss 0.3583 Accuracy : 0.8874\n",
            "\n"
          ]
        },
        {
          "output_type": "stream",
          "name": "stderr",
          "text": [
            "\r 68%|██████▊   | 17/25 [14:19<06:43, 50.46s/it]"
          ]
        },
        {
          "output_type": "stream",
          "name": "stdout",
          "text": [
            "| Epoch: 17/25 | Train: Loss 0.3833 Accuracy : 0.8877 | Val: Loss 0.3761 Accuracy : 0.8816\n",
            "\n"
          ]
        },
        {
          "output_type": "stream",
          "name": "stderr",
          "text": [
            "\r 72%|███████▏  | 18/25 [15:09<05:52, 50.38s/it]"
          ]
        },
        {
          "output_type": "stream",
          "name": "stdout",
          "text": [
            "| Epoch: 18/25 | Train: Loss 0.3850 Accuracy : 0.8881 | Val: Loss 0.3753 Accuracy : 0.8861\n",
            "\n",
            "\n",
            "Saving model... \n",
            "\n"
          ]
        },
        {
          "output_type": "stream",
          "name": "stderr",
          "text": [
            "\r 76%|███████▌  | 19/25 [15:59<05:01, 50.28s/it]"
          ]
        },
        {
          "output_type": "stream",
          "name": "stdout",
          "text": [
            "| Epoch: 19/25 | Train: Loss 0.3745 Accuracy : 0.8908 | Val: Loss 0.3422 Accuracy : 0.8938\n",
            "\n"
          ]
        },
        {
          "output_type": "stream",
          "name": "stderr",
          "text": [
            "\r 80%|████████  | 20/25 [16:49<04:11, 50.37s/it]"
          ]
        },
        {
          "output_type": "stream",
          "name": "stdout",
          "text": [
            "| Epoch: 20/25 | Train: Loss 0.3744 Accuracy : 0.8909 | Val: Loss 0.3688 Accuracy : 0.8855\n",
            "\n"
          ]
        },
        {
          "output_type": "stream",
          "name": "stderr",
          "text": [
            "\r 84%|████████▍ | 21/25 [17:39<03:21, 50.26s/it]"
          ]
        },
        {
          "output_type": "stream",
          "name": "stdout",
          "text": [
            "| Epoch: 21/25 | Train: Loss 0.3824 Accuracy : 0.8892 | Val: Loss 0.3689 Accuracy : 0.8830\n",
            "\n"
          ]
        },
        {
          "output_type": "stream",
          "name": "stderr",
          "text": [
            "\r 88%|████████▊ | 22/25 [18:30<02:30, 50.22s/it]"
          ]
        },
        {
          "output_type": "stream",
          "name": "stdout",
          "text": [
            "| Epoch: 22/25 | Train: Loss 0.3690 Accuracy : 0.8923 | Val: Loss 0.3560 Accuracy : 0.8886\n",
            "\n"
          ]
        },
        {
          "output_type": "stream",
          "name": "stderr",
          "text": [
            "\r 88%|████████▊ | 22/25 [19:19<02:38, 52.72s/it]"
          ]
        },
        {
          "output_type": "stream",
          "name": "stdout",
          "text": [
            "| Epoch: 23/25 | Train: Loss 0.3661 Accuracy : 0.8936 | Val: Loss 0.3719 Accuracy : 0.8863\n",
            "\n"
          ]
        },
        {
          "output_type": "stream",
          "name": "stderr",
          "text": [
            "\n"
          ]
        },
        {
          "output_type": "stream",
          "name": "stdout",
          "text": [
            "Test accuracy: 0.9249 \n",
            "\n",
            "\n",
            "Saving final model... \n",
            "\n",
            "\n",
            "ITERATION 7\n",
            "\n"
          ]
        },
        {
          "output_type": "stream",
          "name": "stderr",
          "text": [
            "\r  0%|          | 0/25 [00:00<?, ?it/s]"
          ]
        },
        {
          "output_type": "stream",
          "name": "stdout",
          "text": [
            "\n",
            "Saving model... \n",
            "\n"
          ]
        },
        {
          "output_type": "stream",
          "name": "stderr",
          "text": [
            "\r  4%|▍         | 1/25 [00:50<20:22, 50.94s/it]"
          ]
        },
        {
          "output_type": "stream",
          "name": "stdout",
          "text": [
            "| Epoch: 1/25 | Train: Loss 0.6173 Accuracy : 0.8136 | Val: Loss 0.5702 Accuracy : 0.8218\n",
            "\n",
            "\n",
            "Saving model... \n",
            "\n"
          ]
        },
        {
          "output_type": "stream",
          "name": "stderr",
          "text": [
            "\r  8%|▊         | 2/25 [01:40<19:16, 50.29s/it]"
          ]
        },
        {
          "output_type": "stream",
          "name": "stdout",
          "text": [
            "| Epoch: 2/25 | Train: Loss 0.5220 Accuracy : 0.8444 | Val: Loss 0.4771 Accuracy : 0.8465\n",
            "\n",
            "\n",
            "Saving model... \n",
            "\n"
          ]
        },
        {
          "output_type": "stream",
          "name": "stderr",
          "text": [
            "\r 12%|█▏        | 3/25 [02:30<18:24, 50.20s/it]"
          ]
        },
        {
          "output_type": "stream",
          "name": "stdout",
          "text": [
            "| Epoch: 3/25 | Train: Loss 0.4637 Accuracy : 0.8620 | Val: Loss 0.4242 Accuracy : 0.8668\n",
            "\n",
            "\n",
            "Saving model... \n",
            "\n"
          ]
        },
        {
          "output_type": "stream",
          "name": "stderr",
          "text": [
            "\r 16%|█▌        | 4/25 [03:20<17:28, 49.91s/it]"
          ]
        },
        {
          "output_type": "stream",
          "name": "stdout",
          "text": [
            "| Epoch: 4/25 | Train: Loss 0.4491 Accuracy : 0.8686 | Val: Loss 0.4007 Accuracy : 0.8710\n",
            "\n",
            "\n",
            "Saving model... \n",
            "\n"
          ]
        },
        {
          "output_type": "stream",
          "name": "stderr",
          "text": [
            "\r 20%|██        | 5/25 [04:10<16:43, 50.18s/it]"
          ]
        },
        {
          "output_type": "stream",
          "name": "stdout",
          "text": [
            "| Epoch: 5/25 | Train: Loss 0.4416 Accuracy : 0.8715 | Val: Loss 0.3853 Accuracy : 0.8745\n",
            "\n",
            "\n",
            "Saving model... \n",
            "\n"
          ]
        },
        {
          "output_type": "stream",
          "name": "stderr",
          "text": [
            "\r 24%|██▍       | 6/25 [05:00<15:51, 50.10s/it]"
          ]
        },
        {
          "output_type": "stream",
          "name": "stdout",
          "text": [
            "| Epoch: 6/25 | Train: Loss 0.4235 Accuracy : 0.8778 | Val: Loss 0.3773 Accuracy : 0.8822\n",
            "\n",
            "\n",
            "Saving model... \n",
            "\n"
          ]
        },
        {
          "output_type": "stream",
          "name": "stderr",
          "text": [
            "\r 28%|██▊       | 7/25 [05:50<15:00, 50.01s/it]"
          ]
        },
        {
          "output_type": "stream",
          "name": "stdout",
          "text": [
            "| Epoch: 7/25 | Train: Loss 0.4137 Accuracy : 0.8820 | Val: Loss 0.3386 Accuracy : 0.8925\n",
            "\n"
          ]
        },
        {
          "output_type": "stream",
          "name": "stderr",
          "text": [
            "\r 32%|███▏      | 8/25 [06:40<14:07, 49.88s/it]"
          ]
        },
        {
          "output_type": "stream",
          "name": "stdout",
          "text": [
            "| Epoch: 8/25 | Train: Loss 0.4054 Accuracy : 0.8842 | Val: Loss 0.3689 Accuracy : 0.8834\n",
            "\n"
          ]
        },
        {
          "output_type": "stream",
          "name": "stderr",
          "text": [
            "\r 36%|███▌      | 9/25 [07:30<13:17, 49.82s/it]"
          ]
        },
        {
          "output_type": "stream",
          "name": "stdout",
          "text": [
            "| Epoch: 9/25 | Train: Loss 0.3985 Accuracy : 0.8857 | Val: Loss 0.3503 Accuracy : 0.8911\n",
            "\n"
          ]
        },
        {
          "output_type": "stream",
          "name": "stderr",
          "text": [
            "\r 40%|████      | 10/25 [08:20<12:30, 50.06s/it]"
          ]
        },
        {
          "output_type": "stream",
          "name": "stdout",
          "text": [
            "| Epoch: 10/25 | Train: Loss 0.3918 Accuracy : 0.8871 | Val: Loss 0.3501 Accuracy : 0.8918\n",
            "\n"
          ]
        },
        {
          "output_type": "stream",
          "name": "stderr",
          "text": [
            "\r 40%|████      | 10/25 [09:10<13:45, 55.01s/it]"
          ]
        },
        {
          "output_type": "stream",
          "name": "stdout",
          "text": [
            "| Epoch: 11/25 | Train: Loss 0.3822 Accuracy : 0.8906 | Val: Loss 0.3393 Accuracy : 0.8895\n",
            "\n"
          ]
        },
        {
          "output_type": "stream",
          "name": "stderr",
          "text": [
            "\n"
          ]
        },
        {
          "output_type": "stream",
          "name": "stdout",
          "text": [
            "Test accuracy: 0.9381 \n",
            "\n",
            "\n",
            "Saving final model... \n",
            "\n",
            "\n",
            "ITERATION 8\n",
            "\n"
          ]
        },
        {
          "output_type": "stream",
          "name": "stderr",
          "text": [
            "\r  0%|          | 0/25 [00:00<?, ?it/s]"
          ]
        },
        {
          "output_type": "stream",
          "name": "stdout",
          "text": [
            "\n",
            "Saving model... \n",
            "\n"
          ]
        },
        {
          "output_type": "stream",
          "name": "stderr",
          "text": [
            "\r  4%|▍         | 1/25 [00:49<19:52, 49.71s/it]"
          ]
        },
        {
          "output_type": "stream",
          "name": "stdout",
          "text": [
            "| Epoch: 1/25 | Train: Loss 0.7030 Accuracy : 0.7910 | Val: Loss 0.6114 Accuracy : 0.8058\n",
            "\n",
            "\n",
            "Saving model... \n",
            "\n"
          ]
        },
        {
          "output_type": "stream",
          "name": "stderr",
          "text": [
            "\r  8%|▊         | 2/25 [01:39<19:00, 49.59s/it]"
          ]
        },
        {
          "output_type": "stream",
          "name": "stdout",
          "text": [
            "| Epoch: 2/25 | Train: Loss 0.5834 Accuracy : 0.8315 | Val: Loss 0.4808 Accuracy : 0.8481\n",
            "\n",
            "\n",
            "Saving model... \n",
            "\n"
          ]
        },
        {
          "output_type": "stream",
          "name": "stderr",
          "text": [
            "\r 12%|█▏        | 3/25 [02:30<18:25, 50.23s/it]"
          ]
        },
        {
          "output_type": "stream",
          "name": "stdout",
          "text": [
            "| Epoch: 3/25 | Train: Loss 0.5325 Accuracy : 0.8502 | Val: Loss 0.4029 Accuracy : 0.8783\n",
            "\n"
          ]
        },
        {
          "output_type": "stream",
          "name": "stderr",
          "text": [
            "\r 16%|█▌        | 4/25 [03:19<17:31, 50.05s/it]"
          ]
        },
        {
          "output_type": "stream",
          "name": "stdout",
          "text": [
            "| Epoch: 4/25 | Train: Loss 0.5161 Accuracy : 0.8567 | Val: Loss 0.4082 Accuracy : 0.8715\n",
            "\n",
            "\n",
            "Saving model... \n",
            "\n"
          ]
        },
        {
          "output_type": "stream",
          "name": "stderr",
          "text": [
            "\r 20%|██        | 5/25 [04:09<16:39, 49.99s/it]"
          ]
        },
        {
          "output_type": "stream",
          "name": "stdout",
          "text": [
            "| Epoch: 5/25 | Train: Loss 0.5011 Accuracy : 0.8605 | Val: Loss 0.3881 Accuracy : 0.8805\n",
            "\n",
            "\n",
            "Saving model... \n",
            "\n"
          ]
        },
        {
          "output_type": "stream",
          "name": "stderr",
          "text": [
            "\r 24%|██▍       | 6/25 [04:59<15:48, 49.93s/it]"
          ]
        },
        {
          "output_type": "stream",
          "name": "stdout",
          "text": [
            "| Epoch: 6/25 | Train: Loss 0.4816 Accuracy : 0.8660 | Val: Loss 0.3769 Accuracy : 0.8808\n",
            "\n",
            "\n",
            "Saving model... \n",
            "\n"
          ]
        },
        {
          "output_type": "stream",
          "name": "stderr",
          "text": [
            "\r 28%|██▊       | 7/25 [05:50<15:02, 50.16s/it]"
          ]
        },
        {
          "output_type": "stream",
          "name": "stdout",
          "text": [
            "| Epoch: 7/25 | Train: Loss 0.4700 Accuracy : 0.8716 | Val: Loss 0.3663 Accuracy : 0.8868\n",
            "\n",
            "\n",
            "Saving model... \n",
            "\n"
          ]
        },
        {
          "output_type": "stream",
          "name": "stderr",
          "text": [
            "\r 32%|███▏      | 8/25 [06:40<14:12, 50.14s/it]"
          ]
        },
        {
          "output_type": "stream",
          "name": "stdout",
          "text": [
            "| Epoch: 8/25 | Train: Loss 0.4715 Accuracy : 0.8679 | Val: Loss 0.3546 Accuracy : 0.8899\n",
            "\n",
            "\n",
            "Saving model... \n",
            "\n"
          ]
        },
        {
          "output_type": "stream",
          "name": "stderr",
          "text": [
            "\r 36%|███▌      | 9/25 [07:30<13:20, 50.06s/it]"
          ]
        },
        {
          "output_type": "stream",
          "name": "stdout",
          "text": [
            "| Epoch: 9/25 | Train: Loss 0.4553 Accuracy : 0.8751 | Val: Loss 0.3422 Accuracy : 0.8940\n",
            "\n"
          ]
        },
        {
          "output_type": "stream",
          "name": "stderr",
          "text": [
            "\r 40%|████      | 10/25 [08:20<12:29, 49.96s/it]"
          ]
        },
        {
          "output_type": "stream",
          "name": "stdout",
          "text": [
            "| Epoch: 10/25 | Train: Loss 0.4587 Accuracy : 0.8735 | Val: Loss 0.3498 Accuracy : 0.8922\n",
            "\n",
            "\n",
            "Saving model... \n",
            "\n"
          ]
        },
        {
          "output_type": "stream",
          "name": "stderr",
          "text": [
            "\r 44%|████▍     | 11/25 [09:10<11:41, 50.10s/it]"
          ]
        },
        {
          "output_type": "stream",
          "name": "stdout",
          "text": [
            "| Epoch: 11/25 | Train: Loss 0.4475 Accuracy : 0.8782 | Val: Loss 0.3326 Accuracy : 0.8975\n",
            "\n",
            "\n",
            "Saving model... \n",
            "\n"
          ]
        },
        {
          "output_type": "stream",
          "name": "stderr",
          "text": [
            "\r 48%|████▊     | 12/25 [10:00<10:50, 50.07s/it]"
          ]
        },
        {
          "output_type": "stream",
          "name": "stdout",
          "text": [
            "| Epoch: 12/25 | Train: Loss 0.4423 Accuracy : 0.8792 | Val: Loss 0.3261 Accuracy : 0.9007\n",
            "\n"
          ]
        },
        {
          "output_type": "stream",
          "name": "stderr",
          "text": [
            "\r 52%|█████▏    | 13/25 [10:50<10:01, 50.12s/it]"
          ]
        },
        {
          "output_type": "stream",
          "name": "stdout",
          "text": [
            "| Epoch: 13/25 | Train: Loss 0.4352 Accuracy : 0.8802 | Val: Loss 0.3378 Accuracy : 0.8956\n",
            "\n"
          ]
        },
        {
          "output_type": "stream",
          "name": "stderr",
          "text": [
            "\r 56%|█████▌    | 14/25 [11:40<09:10, 50.07s/it]"
          ]
        },
        {
          "output_type": "stream",
          "name": "stdout",
          "text": [
            "| Epoch: 14/25 | Train: Loss 0.4306 Accuracy : 0.8831 | Val: Loss 0.3287 Accuracy : 0.9026\n",
            "\n",
            "\n",
            "Saving model... \n",
            "\n"
          ]
        },
        {
          "output_type": "stream",
          "name": "stderr",
          "text": [
            "\r 60%|██████    | 15/25 [12:30<08:18, 49.90s/it]"
          ]
        },
        {
          "output_type": "stream",
          "name": "stdout",
          "text": [
            "| Epoch: 15/25 | Train: Loss 0.4382 Accuracy : 0.8818 | Val: Loss 0.3188 Accuracy : 0.9011\n",
            "\n"
          ]
        },
        {
          "output_type": "stream",
          "name": "stderr",
          "text": [
            "\r 64%|██████▍   | 16/25 [13:20<07:31, 50.12s/it]"
          ]
        },
        {
          "output_type": "stream",
          "name": "stdout",
          "text": [
            "| Epoch: 16/25 | Train: Loss 0.4319 Accuracy : 0.8829 | Val: Loss 0.3226 Accuracy : 0.8996\n",
            "\n",
            "\n",
            "Saving model... \n",
            "\n"
          ]
        },
        {
          "output_type": "stream",
          "name": "stderr",
          "text": [
            "\r 68%|██████▊   | 17/25 [14:10<06:40, 50.05s/it]"
          ]
        },
        {
          "output_type": "stream",
          "name": "stdout",
          "text": [
            "| Epoch: 17/25 | Train: Loss 0.4202 Accuracy : 0.8855 | Val: Loss 0.3077 Accuracy : 0.9045\n",
            "\n"
          ]
        },
        {
          "output_type": "stream",
          "name": "stderr",
          "text": [
            "\r 72%|███████▏  | 18/25 [15:00<05:49, 49.90s/it]"
          ]
        },
        {
          "output_type": "stream",
          "name": "stdout",
          "text": [
            "| Epoch: 18/25 | Train: Loss 0.4311 Accuracy : 0.8840 | Val: Loss 0.3349 Accuracy : 0.8981\n",
            "\n"
          ]
        },
        {
          "output_type": "stream",
          "name": "stderr",
          "text": [
            "\r 76%|███████▌  | 19/25 [15:49<04:59, 49.86s/it]"
          ]
        },
        {
          "output_type": "stream",
          "name": "stdout",
          "text": [
            "| Epoch: 19/25 | Train: Loss 0.4243 Accuracy : 0.8836 | Val: Loss 0.3288 Accuracy : 0.8971\n",
            "\n"
          ]
        },
        {
          "output_type": "stream",
          "name": "stderr",
          "text": [
            "\r 80%|████████  | 20/25 [16:40<04:10, 50.08s/it]"
          ]
        },
        {
          "output_type": "stream",
          "name": "stdout",
          "text": [
            "| Epoch: 20/25 | Train: Loss 0.4230 Accuracy : 0.8856 | Val: Loss 0.3084 Accuracy : 0.9066\n",
            "\n"
          ]
        },
        {
          "output_type": "stream",
          "name": "stderr",
          "text": [
            "\r 80%|████████  | 20/25 [17:32<04:23, 52.60s/it]"
          ]
        },
        {
          "output_type": "stream",
          "name": "stdout",
          "text": [
            "| Epoch: 21/25 | Train: Loss 0.4156 Accuracy : 0.8864 | Val: Loss 0.3191 Accuracy : 0.9017\n",
            "\n"
          ]
        },
        {
          "output_type": "stream",
          "name": "stderr",
          "text": [
            "\n"
          ]
        },
        {
          "output_type": "stream",
          "name": "stdout",
          "text": [
            "Test accuracy: 0.9417 \n",
            "\n",
            "\n",
            "Saving final model... \n",
            "\n",
            "\n",
            "ITERATION 9\n",
            "\n"
          ]
        },
        {
          "output_type": "stream",
          "name": "stderr",
          "text": [
            "\r  0%|          | 0/25 [00:00<?, ?it/s]"
          ]
        },
        {
          "output_type": "stream",
          "name": "stdout",
          "text": [
            "\n",
            "Saving model... \n",
            "\n"
          ]
        },
        {
          "output_type": "stream",
          "name": "stderr",
          "text": [
            "\r  4%|▍         | 1/25 [00:50<20:00, 50.02s/it]"
          ]
        },
        {
          "output_type": "stream",
          "name": "stdout",
          "text": [
            "| Epoch: 1/25 | Train: Loss 0.6214 Accuracy : 0.8163 | Val: Loss 0.5521 Accuracy : 0.8291\n",
            "\n",
            "\n",
            "Saving model... \n",
            "\n"
          ]
        },
        {
          "output_type": "stream",
          "name": "stderr",
          "text": [
            "\r  8%|▊         | 2/25 [01:40<19:16, 50.27s/it]"
          ]
        },
        {
          "output_type": "stream",
          "name": "stdout",
          "text": [
            "| Epoch: 2/25 | Train: Loss 0.5363 Accuracy : 0.8394 | Val: Loss 0.4571 Accuracy : 0.8534\n",
            "\n",
            "\n",
            "Saving model... \n",
            "\n"
          ]
        },
        {
          "output_type": "stream",
          "name": "stderr",
          "text": [
            "\r 12%|█▏        | 3/25 [02:30<18:21, 50.06s/it]"
          ]
        },
        {
          "output_type": "stream",
          "name": "stdout",
          "text": [
            "| Epoch: 3/25 | Train: Loss 0.4853 Accuracy : 0.8597 | Val: Loss 0.3904 Accuracy : 0.8807\n",
            "\n",
            "\n",
            "Saving model... \n",
            "\n"
          ]
        },
        {
          "output_type": "stream",
          "name": "stderr",
          "text": [
            "\r 16%|█▌        | 4/25 [03:20<17:29, 49.98s/it]"
          ]
        },
        {
          "output_type": "stream",
          "name": "stdout",
          "text": [
            "| Epoch: 4/25 | Train: Loss 0.4560 Accuracy : 0.8689 | Val: Loss 0.3514 Accuracy : 0.8913\n",
            "\n",
            "\n",
            "Saving model... \n",
            "\n"
          ]
        },
        {
          "output_type": "stream",
          "name": "stderr",
          "text": [
            "\r 20%|██        | 5/25 [04:09<16:36, 49.80s/it]"
          ]
        },
        {
          "output_type": "stream",
          "name": "stdout",
          "text": [
            "| Epoch: 5/25 | Train: Loss 0.4330 Accuracy : 0.8765 | Val: Loss 0.3430 Accuracy : 0.8951\n",
            "\n"
          ]
        },
        {
          "output_type": "stream",
          "name": "stderr",
          "text": [
            "\r 24%|██▍       | 6/25 [04:59<15:49, 49.99s/it]"
          ]
        },
        {
          "output_type": "stream",
          "name": "stdout",
          "text": [
            "| Epoch: 6/25 | Train: Loss 0.4420 Accuracy : 0.8756 | Val: Loss 0.3479 Accuracy : 0.8936\n",
            "\n",
            "\n",
            "Saving model... \n",
            "\n"
          ]
        },
        {
          "output_type": "stream",
          "name": "stderr",
          "text": [
            "\r 28%|██▊       | 7/25 [05:49<14:59, 49.95s/it]"
          ]
        },
        {
          "output_type": "stream",
          "name": "stdout",
          "text": [
            "| Epoch: 7/25 | Train: Loss 0.4108 Accuracy : 0.8854 | Val: Loss 0.3259 Accuracy : 0.9002\n",
            "\n",
            "\n",
            "Saving model... \n",
            "\n"
          ]
        },
        {
          "output_type": "stream",
          "name": "stderr",
          "text": [
            "\r 32%|███▏      | 8/25 [06:39<14:06, 49.79s/it]"
          ]
        },
        {
          "output_type": "stream",
          "name": "stdout",
          "text": [
            "| Epoch: 8/25 | Train: Loss 0.4038 Accuracy : 0.8857 | Val: Loss 0.3124 Accuracy : 0.9039\n",
            "\n"
          ]
        },
        {
          "output_type": "stream",
          "name": "stderr",
          "text": [
            "\r 36%|███▌      | 9/25 [07:28<13:15, 49.71s/it]"
          ]
        },
        {
          "output_type": "stream",
          "name": "stdout",
          "text": [
            "| Epoch: 9/25 | Train: Loss 0.4130 Accuracy : 0.8833 | Val: Loss 0.3271 Accuracy : 0.8976\n",
            "\n",
            "\n",
            "Saving model... \n",
            "\n"
          ]
        },
        {
          "output_type": "stream",
          "name": "stderr",
          "text": [
            "\r 40%|████      | 10/25 [08:18<12:25, 49.72s/it]"
          ]
        },
        {
          "output_type": "stream",
          "name": "stdout",
          "text": [
            "| Epoch: 10/25 | Train: Loss 0.3906 Accuracy : 0.8910 | Val: Loss 0.3018 Accuracy : 0.9084\n",
            "\n"
          ]
        },
        {
          "output_type": "stream",
          "name": "stderr",
          "text": [
            "\r 44%|████▍     | 11/25 [09:09<11:39, 49.95s/it]"
          ]
        },
        {
          "output_type": "stream",
          "name": "stdout",
          "text": [
            "| Epoch: 11/25 | Train: Loss 0.3842 Accuracy : 0.8927 | Val: Loss 0.3037 Accuracy : 0.9044\n",
            "\n"
          ]
        },
        {
          "output_type": "stream",
          "name": "stderr",
          "text": [
            "\r 48%|████▊     | 12/25 [09:58<10:47, 49.85s/it]"
          ]
        },
        {
          "output_type": "stream",
          "name": "stdout",
          "text": [
            "| Epoch: 12/25 | Train: Loss 0.3855 Accuracy : 0.8908 | Val: Loss 0.3060 Accuracy : 0.9029\n",
            "\n",
            "\n",
            "Saving model... \n",
            "\n"
          ]
        },
        {
          "output_type": "stream",
          "name": "stderr",
          "text": [
            "\r 52%|█████▏    | 13/25 [10:48<09:57, 49.82s/it]"
          ]
        },
        {
          "output_type": "stream",
          "name": "stdout",
          "text": [
            "| Epoch: 13/25 | Train: Loss 0.3827 Accuracy : 0.8937 | Val: Loss 0.2942 Accuracy : 0.9082\n",
            "\n"
          ]
        },
        {
          "output_type": "stream",
          "name": "stderr",
          "text": [
            "\r 56%|█████▌    | 14/25 [11:38<09:08, 49.83s/it]"
          ]
        },
        {
          "output_type": "stream",
          "name": "stdout",
          "text": [
            "| Epoch: 14/25 | Train: Loss 0.3725 Accuracy : 0.8970 | Val: Loss 0.2993 Accuracy : 0.9073\n",
            "\n"
          ]
        },
        {
          "output_type": "stream",
          "name": "stderr",
          "text": [
            "\r 60%|██████    | 15/25 [12:27<08:18, 49.80s/it]"
          ]
        },
        {
          "output_type": "stream",
          "name": "stdout",
          "text": [
            "| Epoch: 15/25 | Train: Loss 0.3813 Accuracy : 0.8937 | Val: Loss 0.3048 Accuracy : 0.9062\n",
            "\n"
          ]
        },
        {
          "output_type": "stream",
          "name": "stderr",
          "text": [
            "\r 64%|██████▍   | 16/25 [13:18<07:29, 50.00s/it]"
          ]
        },
        {
          "output_type": "stream",
          "name": "stdout",
          "text": [
            "| Epoch: 16/25 | Train: Loss 0.3675 Accuracy : 0.8981 | Val: Loss 0.2949 Accuracy : 0.9098\n",
            "\n",
            "\n",
            "Saving model... \n",
            "\n"
          ]
        },
        {
          "output_type": "stream",
          "name": "stderr",
          "text": [
            "\r 68%|██████▊   | 17/25 [14:08<06:40, 50.09s/it]"
          ]
        },
        {
          "output_type": "stream",
          "name": "stdout",
          "text": [
            "| Epoch: 17/25 | Train: Loss 0.3635 Accuracy : 0.8993 | Val: Loss 0.2772 Accuracy : 0.9129\n",
            "\n",
            "\n",
            "Saving model... \n",
            "\n"
          ]
        },
        {
          "output_type": "stream",
          "name": "stderr",
          "text": [
            "\r 72%|███████▏  | 18/25 [14:58<05:49, 49.89s/it]"
          ]
        },
        {
          "output_type": "stream",
          "name": "stdout",
          "text": [
            "| Epoch: 18/25 | Train: Loss 0.3580 Accuracy : 0.9009 | Val: Loss 0.2664 Accuracy : 0.9181\n",
            "\n"
          ]
        },
        {
          "output_type": "stream",
          "name": "stderr",
          "text": [
            "\r 76%|███████▌  | 19/25 [15:47<04:59, 49.84s/it]"
          ]
        },
        {
          "output_type": "stream",
          "name": "stdout",
          "text": [
            "| Epoch: 19/25 | Train: Loss 0.3498 Accuracy : 0.9031 | Val: Loss 0.2762 Accuracy : 0.9157\n",
            "\n"
          ]
        },
        {
          "output_type": "stream",
          "name": "stderr",
          "text": [
            "\r 80%|████████  | 20/25 [16:37<04:09, 49.91s/it]"
          ]
        },
        {
          "output_type": "stream",
          "name": "stdout",
          "text": [
            "| Epoch: 20/25 | Train: Loss 0.3623 Accuracy : 0.9005 | Val: Loss 0.2796 Accuracy : 0.9135\n",
            "\n"
          ]
        },
        {
          "output_type": "stream",
          "name": "stderr",
          "text": [
            "\r 84%|████████▍ | 21/25 [17:27<03:18, 49.71s/it]"
          ]
        },
        {
          "output_type": "stream",
          "name": "stdout",
          "text": [
            "| Epoch: 21/25 | Train: Loss 0.3527 Accuracy : 0.9024 | Val: Loss 0.2697 Accuracy : 0.9168\n",
            "\n"
          ]
        },
        {
          "output_type": "stream",
          "name": "stderr",
          "text": [
            "\r 84%|████████▍ | 21/25 [18:16<03:28, 52.22s/it]"
          ]
        },
        {
          "output_type": "stream",
          "name": "stdout",
          "text": [
            "| Epoch: 22/25 | Train: Loss 0.3497 Accuracy : 0.9030 | Val: Loss 0.2727 Accuracy : 0.9156\n",
            "\n"
          ]
        },
        {
          "output_type": "stream",
          "name": "stderr",
          "text": [
            "\n"
          ]
        },
        {
          "output_type": "stream",
          "name": "stdout",
          "text": [
            "Test accuracy: 0.9544 \n",
            "\n",
            "\n",
            "Saving final model... \n",
            "\n",
            "\n",
            "ITERATION 10\n",
            "\n"
          ]
        },
        {
          "output_type": "stream",
          "name": "stderr",
          "text": [
            "\r  0%|          | 0/25 [00:00<?, ?it/s]"
          ]
        },
        {
          "output_type": "stream",
          "name": "stdout",
          "text": [
            "\n",
            "Saving model... \n",
            "\n"
          ]
        },
        {
          "output_type": "stream",
          "name": "stderr",
          "text": [
            "\r  4%|▍         | 1/25 [00:49<19:45, 49.41s/it]"
          ]
        },
        {
          "output_type": "stream",
          "name": "stdout",
          "text": [
            "| Epoch: 1/25 | Train: Loss 0.6134 Accuracy : 0.8198 | Val: Loss 0.5559 Accuracy : 0.8276\n",
            "\n",
            "\n",
            "Saving model... \n",
            "\n"
          ]
        },
        {
          "output_type": "stream",
          "name": "stderr",
          "text": [
            "\r  8%|▊         | 2/25 [01:38<18:56, 49.41s/it]"
          ]
        },
        {
          "output_type": "stream",
          "name": "stdout",
          "text": [
            "| Epoch: 2/25 | Train: Loss 0.5160 Accuracy : 0.8531 | Val: Loss 0.4351 Accuracy : 0.8691\n",
            "\n",
            "\n",
            "Saving model... \n",
            "\n"
          ]
        },
        {
          "output_type": "stream",
          "name": "stderr",
          "text": [
            "\r 12%|█▏        | 3/25 [02:28<18:12, 49.66s/it]"
          ]
        },
        {
          "output_type": "stream",
          "name": "stdout",
          "text": [
            "| Epoch: 3/25 | Train: Loss 0.4714 Accuracy : 0.8677 | Val: Loss 0.3651 Accuracy : 0.8851\n",
            "\n"
          ]
        },
        {
          "output_type": "stream",
          "name": "stderr",
          "text": [
            "\r 16%|█▌        | 4/25 [03:17<17:17, 49.41s/it]"
          ]
        },
        {
          "output_type": "stream",
          "name": "stdout",
          "text": [
            "| Epoch: 4/25 | Train: Loss 0.4515 Accuracy : 0.8726 | Val: Loss 0.3673 Accuracy : 0.8863\n",
            "\n",
            "\n",
            "Saving model... \n",
            "\n"
          ]
        },
        {
          "output_type": "stream",
          "name": "stderr",
          "text": [
            "\r 20%|██        | 5/25 [04:07<16:28, 49.41s/it]"
          ]
        },
        {
          "output_type": "stream",
          "name": "stdout",
          "text": [
            "| Epoch: 5/25 | Train: Loss 0.4244 Accuracy : 0.8822 | Val: Loss 0.3352 Accuracy : 0.9023\n",
            "\n",
            "\n",
            "Saving model... \n",
            "\n"
          ]
        },
        {
          "output_type": "stream",
          "name": "stderr",
          "text": [
            "\r 24%|██▍       | 6/25 [04:56<15:39, 49.45s/it]"
          ]
        },
        {
          "output_type": "stream",
          "name": "stdout",
          "text": [
            "| Epoch: 6/25 | Train: Loss 0.4168 Accuracy : 0.8843 | Val: Loss 0.3261 Accuracy : 0.8997\n",
            "\n",
            "\n",
            "Saving model... \n",
            "\n"
          ]
        },
        {
          "output_type": "stream",
          "name": "stderr",
          "text": [
            "\r 28%|██▊       | 7/25 [05:46<14:50, 49.48s/it]"
          ]
        },
        {
          "output_type": "stream",
          "name": "stdout",
          "text": [
            "| Epoch: 7/25 | Train: Loss 0.3972 Accuracy : 0.8888 | Val: Loss 0.3197 Accuracy : 0.9036\n",
            "\n",
            "\n",
            "Saving model... \n",
            "\n"
          ]
        },
        {
          "output_type": "stream",
          "name": "stderr",
          "text": [
            "\r 32%|███▏      | 8/25 [06:36<14:05, 49.72s/it]"
          ]
        },
        {
          "output_type": "stream",
          "name": "stdout",
          "text": [
            "| Epoch: 8/25 | Train: Loss 0.3968 Accuracy : 0.8908 | Val: Loss 0.3101 Accuracy : 0.9069\n",
            "\n",
            "\n",
            "Saving model... \n",
            "\n"
          ]
        },
        {
          "output_type": "stream",
          "name": "stderr",
          "text": [
            "\r 36%|███▌      | 9/25 [07:25<13:13, 49.61s/it]"
          ]
        },
        {
          "output_type": "stream",
          "name": "stdout",
          "text": [
            "| Epoch: 9/25 | Train: Loss 0.3919 Accuracy : 0.8931 | Val: Loss 0.3020 Accuracy : 0.9094\n",
            "\n",
            "\n",
            "Saving model... \n",
            "\n"
          ]
        },
        {
          "output_type": "stream",
          "name": "stderr",
          "text": [
            "\r 40%|████      | 10/25 [08:15<12:23, 49.59s/it]"
          ]
        },
        {
          "output_type": "stream",
          "name": "stdout",
          "text": [
            "| Epoch: 10/25 | Train: Loss 0.3776 Accuracy : 0.8962 | Val: Loss 0.2952 Accuracy : 0.9097\n",
            "\n"
          ]
        },
        {
          "output_type": "stream",
          "name": "stderr",
          "text": [
            "\r 44%|████▍     | 11/25 [09:04<11:33, 49.55s/it]"
          ]
        },
        {
          "output_type": "stream",
          "name": "stdout",
          "text": [
            "| Epoch: 11/25 | Train: Loss 0.3894 Accuracy : 0.8943 | Val: Loss 0.3028 Accuracy : 0.9124\n",
            "\n",
            "\n",
            "Saving model... \n",
            "\n"
          ]
        },
        {
          "output_type": "stream",
          "name": "stderr",
          "text": [
            "\r 48%|████▊     | 12/25 [09:55<10:46, 49.75s/it]"
          ]
        },
        {
          "output_type": "stream",
          "name": "stdout",
          "text": [
            "| Epoch: 12/25 | Train: Loss 0.3660 Accuracy : 0.9001 | Val: Loss 0.2800 Accuracy : 0.9181\n",
            "\n"
          ]
        },
        {
          "output_type": "stream",
          "name": "stderr",
          "text": [
            "\r 52%|█████▏    | 13/25 [10:45<09:58, 49.86s/it]"
          ]
        },
        {
          "output_type": "stream",
          "name": "stdout",
          "text": [
            "| Epoch: 13/25 | Train: Loss 0.3705 Accuracy : 0.8994 | Val: Loss 0.2883 Accuracy : 0.9170\n",
            "\n",
            "\n",
            "Saving model... \n",
            "\n"
          ]
        },
        {
          "output_type": "stream",
          "name": "stderr",
          "text": [
            "\r 56%|█████▌    | 14/25 [11:34<09:06, 49.64s/it]"
          ]
        },
        {
          "output_type": "stream",
          "name": "stdout",
          "text": [
            "| Epoch: 14/25 | Train: Loss 0.3586 Accuracy : 0.9030 | Val: Loss 0.2661 Accuracy : 0.9202\n",
            "\n"
          ]
        },
        {
          "output_type": "stream",
          "name": "stderr",
          "text": [
            "\r 60%|██████    | 15/25 [12:23<08:15, 49.58s/it]"
          ]
        },
        {
          "output_type": "stream",
          "name": "stdout",
          "text": [
            "| Epoch: 15/25 | Train: Loss 0.3655 Accuracy : 0.9000 | Val: Loss 0.2802 Accuracy : 0.9153\n",
            "\n"
          ]
        },
        {
          "output_type": "stream",
          "name": "stderr",
          "text": [
            "\r 64%|██████▍   | 16/25 [13:13<07:25, 49.55s/it]"
          ]
        },
        {
          "output_type": "stream",
          "name": "stdout",
          "text": [
            "| Epoch: 16/25 | Train: Loss 0.3548 Accuracy : 0.9019 | Val: Loss 0.2701 Accuracy : 0.9167\n",
            "\n"
          ]
        },
        {
          "output_type": "stream",
          "name": "stderr",
          "text": [
            "\r 68%|██████▊   | 17/25 [14:03<06:36, 49.61s/it]"
          ]
        },
        {
          "output_type": "stream",
          "name": "stdout",
          "text": [
            "| Epoch: 17/25 | Train: Loss 0.3539 Accuracy : 0.9034 | Val: Loss 0.2822 Accuracy : 0.9193\n",
            "\n"
          ]
        },
        {
          "output_type": "stream",
          "name": "stderr",
          "text": [
            "\r 68%|██████▊   | 17/25 [14:52<07:00, 52.51s/it]"
          ]
        },
        {
          "output_type": "stream",
          "name": "stdout",
          "text": [
            "| Epoch: 18/25 | Train: Loss 0.3488 Accuracy : 0.9046 | Val: Loss 0.2669 Accuracy : 0.9179\n",
            "\n"
          ]
        },
        {
          "output_type": "stream",
          "name": "stderr",
          "text": [
            "\n"
          ]
        },
        {
          "output_type": "stream",
          "name": "stdout",
          "text": [
            "Test accuracy: 0.9601 \n",
            "\n",
            "\n",
            "Saving final model... \n",
            "\n"
          ]
        }
      ]
    }
  ]
}